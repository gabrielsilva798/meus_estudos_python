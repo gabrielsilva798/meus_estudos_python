{
 "cells": [
  {
   "cell_type": "markdown",
   "id": "b31174c7",
   "metadata": {},
   "source": [
    "# importar panda, pd é só um resumo."
   ]
  },
  {
   "cell_type": "code",
   "execution_count": 1,
   "id": "a3ba9e0b",
   "metadata": {},
   "outputs": [],
   "source": [
    "import pandas as pd\n",
    "import numpy as np"
   ]
  },
  {
   "cell_type": "markdown",
   "id": "92aae121",
   "metadata": {},
   "source": [
    "# DataFrame são tabelas iguais a do excel.\n",
    "- df é só pra saber que é um DataFram. recomendação.\n",
    "- tabela_df = pd.DataFram()\n",
    "- dicionário venda abaixo."
   ]
  },
  {
   "cell_type": "code",
   "execution_count": 2,
   "id": "8ec2b9b0",
   "metadata": {},
   "outputs": [],
   "source": [
    "venda = {'data':['15/02/2021', '16/02/2021'],\n",
    "'valor': [500, 300],\n",
    "'produto': ['feijão','arroz'],\n",
    "'quantidade': [50, 70]}\n",
    "\n",
    "#como criar um datafframe com o dicionário acima.\n",
    "vendas_df = pd.DataFrame(venda)"
   ]
  },
  {
   "cell_type": "markdown",
   "id": "d160aa3b",
   "metadata": {},
   "source": [
    "# tem duas maneiras de ver o DataFrame, ***print*** e ***display***.\n",
    "- no display ele fica mais detalhado."
   ]
  },
  {
   "cell_type": "code",
   "execution_count": 3,
   "id": "19c0ee73",
   "metadata": {},
   "outputs": [
    {
     "name": "stdout",
     "output_type": "stream",
     "text": [
      "         data  valor produto  quantidade\n",
      "0  15/02/2021    500  feijão          50\n",
      "1  16/02/2021    300   arroz          70\n"
     ]
    }
   ],
   "source": [
    "print(vendas_df)\n"
   ]
  },
  {
   "cell_type": "code",
   "execution_count": 4,
   "id": "565522fa",
   "metadata": {
    "scrolled": true
   },
   "outputs": [
    {
     "data": {
      "text/html": [
       "<div>\n",
       "<style scoped>\n",
       "    .dataframe tbody tr th:only-of-type {\n",
       "        vertical-align: middle;\n",
       "    }\n",
       "\n",
       "    .dataframe tbody tr th {\n",
       "        vertical-align: top;\n",
       "    }\n",
       "\n",
       "    .dataframe thead th {\n",
       "        text-align: right;\n",
       "    }\n",
       "</style>\n",
       "<table border=\"1\" class=\"dataframe\">\n",
       "  <thead>\n",
       "    <tr style=\"text-align: right;\">\n",
       "      <th></th>\n",
       "      <th>data</th>\n",
       "      <th>valor</th>\n",
       "      <th>produto</th>\n",
       "      <th>quantidade</th>\n",
       "    </tr>\n",
       "  </thead>\n",
       "  <tbody>\n",
       "    <tr>\n",
       "      <th>0</th>\n",
       "      <td>15/02/2021</td>\n",
       "      <td>500</td>\n",
       "      <td>feijão</td>\n",
       "      <td>50</td>\n",
       "    </tr>\n",
       "    <tr>\n",
       "      <th>1</th>\n",
       "      <td>16/02/2021</td>\n",
       "      <td>300</td>\n",
       "      <td>arroz</td>\n",
       "      <td>70</td>\n",
       "    </tr>\n",
       "  </tbody>\n",
       "</table>\n",
       "</div>"
      ],
      "text/plain": [
       "         data  valor produto  quantidade\n",
       "0  15/02/2021    500  feijão          50\n",
       "1  16/02/2021    300   arroz          70"
      ]
     },
     "metadata": {},
     "output_type": "display_data"
    }
   ],
   "source": [
    "display(vendas_df)"
   ]
  },
  {
   "cell_type": "markdown",
   "id": "e753fc53",
   "metadata": {},
   "source": [
    "# como usar ***FOR*** no Dataframe do pandas."
   ]
  },
  {
   "cell_type": "code",
   "execution_count": 12,
   "id": "18aa1472",
   "metadata": {},
   "outputs": [
    {
     "name": "stdout",
     "output_type": "stream",
     "text": [
      "51\n",
      "71\n"
     ]
    }
   ],
   "source": [
    "for valor in vendas_df['quantidade']:\n",
    "    valor = valor + 1 \n",
    "    print(valor)"
   ]
  },
  {
   "cell_type": "markdown",
   "id": "fce23882",
   "metadata": {},
   "source": [
    "# criar DataFrame com listas\n",
    "- os nomes das colunas são automaticamente números."
   ]
  },
  {
   "cell_type": "code",
   "execution_count": 5,
   "id": "2327ee44",
   "metadata": {
    "scrolled": true
   },
   "outputs": [
    {
     "data": {
      "text/html": [
       "<div>\n",
       "<style scoped>\n",
       "    .dataframe tbody tr th:only-of-type {\n",
       "        vertical-align: middle;\n",
       "    }\n",
       "\n",
       "    .dataframe tbody tr th {\n",
       "        vertical-align: top;\n",
       "    }\n",
       "\n",
       "    .dataframe thead th {\n",
       "        text-align: right;\n",
       "    }\n",
       "</style>\n",
       "<table border=\"1\" class=\"dataframe\">\n",
       "  <thead>\n",
       "    <tr style=\"text-align: right;\">\n",
       "      <th></th>\n",
       "      <th>0</th>\n",
       "      <th>1</th>\n",
       "      <th>2</th>\n",
       "    </tr>\n",
       "  </thead>\n",
       "  <tbody>\n",
       "    <tr>\n",
       "      <th>0</th>\n",
       "      <td>1</td>\n",
       "      <td>2</td>\n",
       "      <td>4</td>\n",
       "    </tr>\n",
       "    <tr>\n",
       "      <th>1</th>\n",
       "      <td>4</td>\n",
       "      <td>8</td>\n",
       "      <td>9</td>\n",
       "    </tr>\n",
       "    <tr>\n",
       "      <th>2</th>\n",
       "      <td>1</td>\n",
       "      <td>7</td>\n",
       "      <td>2</td>\n",
       "    </tr>\n",
       "  </tbody>\n",
       "</table>\n",
       "</div>"
      ],
      "text/plain": [
       "   0  1  2\n",
       "0  1  2  4\n",
       "1  4  8  9\n",
       "2  1  7  2"
      ]
     },
     "execution_count": 5,
     "metadata": {},
     "output_type": "execute_result"
    }
   ],
   "source": [
    "dados = ([[1, 2, 4],\n",
    "         [4, 8, 9],\n",
    "         [1, 7, 2]])\n",
    "pd.DataFrame(dados)"
   ]
  },
  {
   "cell_type": "markdown",
   "id": "86745ae5",
   "metadata": {},
   "source": [
    "# melhor usar o NUMPY inves de lista daqui para frente.\n",
    "- economiza memória e o NUMPY tem muitos recursos."
   ]
  },
  {
   "cell_type": "code",
   "execution_count": 20,
   "id": "315acf49",
   "metadata": {},
   "outputs": [
    {
     "data": {
      "text/html": [
       "<div>\n",
       "<style scoped>\n",
       "    .dataframe tbody tr th:only-of-type {\n",
       "        vertical-align: middle;\n",
       "    }\n",
       "\n",
       "    .dataframe tbody tr th {\n",
       "        vertical-align: top;\n",
       "    }\n",
       "\n",
       "    .dataframe thead th {\n",
       "        text-align: right;\n",
       "    }\n",
       "</style>\n",
       "<table border=\"1\" class=\"dataframe\">\n",
       "  <thead>\n",
       "    <tr style=\"text-align: right;\">\n",
       "      <th></th>\n",
       "      <th>0</th>\n",
       "      <th>1</th>\n",
       "      <th>2</th>\n",
       "    </tr>\n",
       "  </thead>\n",
       "  <tbody>\n",
       "    <tr>\n",
       "      <th>0</th>\n",
       "      <td>1</td>\n",
       "      <td>2</td>\n",
       "      <td>4</td>\n",
       "    </tr>\n",
       "    <tr>\n",
       "      <th>1</th>\n",
       "      <td>4</td>\n",
       "      <td>8</td>\n",
       "      <td>9</td>\n",
       "    </tr>\n",
       "    <tr>\n",
       "      <th>2</th>\n",
       "      <td>1</td>\n",
       "      <td>7</td>\n",
       "      <td>2</td>\n",
       "    </tr>\n",
       "  </tbody>\n",
       "</table>\n",
       "</div>"
      ],
      "text/plain": [
       "   0  1  2\n",
       "0  1  2  4\n",
       "1  4  8  9\n",
       "2  1  7  2"
      ]
     },
     "execution_count": 20,
     "metadata": {},
     "output_type": "execute_result"
    }
   ],
   "source": [
    "dados2 = np.array([[1, 2, 4],\n",
    "         [4, 8, 9],\n",
    "         [1, 7, 2]])\n",
    "pd.DataFrame(dados2)"
   ]
  },
  {
   "cell_type": "markdown",
   "id": "01f4e226",
   "metadata": {},
   "source": [
    "# renomeando as colunas.\n",
    "- não entendi, só copiei."
   ]
  },
  {
   "cell_type": "code",
   "execution_count": 25,
   "id": "56ecee82",
   "metadata": {
    "scrolled": true
   },
   "outputs": [
    {
     "data": {
      "text/html": [
       "<div>\n",
       "<style scoped>\n",
       "    .dataframe tbody tr th:only-of-type {\n",
       "        vertical-align: middle;\n",
       "    }\n",
       "\n",
       "    .dataframe tbody tr th {\n",
       "        vertical-align: top;\n",
       "    }\n",
       "\n",
       "    .dataframe thead th {\n",
       "        text-align: right;\n",
       "    }\n",
       "</style>\n",
       "<table border=\"1\" class=\"dataframe\">\n",
       "  <thead>\n",
       "    <tr style=\"text-align: right;\">\n",
       "      <th></th>\n",
       "      <th>A</th>\n",
       "      <th>B</th>\n",
       "      <th>C</th>\n",
       "    </tr>\n",
       "  </thead>\n",
       "  <tbody>\n",
       "    <tr>\n",
       "      <th>0</th>\n",
       "      <td>1</td>\n",
       "      <td>2</td>\n",
       "      <td>4</td>\n",
       "    </tr>\n",
       "    <tr>\n",
       "      <th>1</th>\n",
       "      <td>4</td>\n",
       "      <td>8</td>\n",
       "      <td>9</td>\n",
       "    </tr>\n",
       "    <tr>\n",
       "      <th>2</th>\n",
       "      <td>1</td>\n",
       "      <td>7</td>\n",
       "      <td>2</td>\n",
       "    </tr>\n",
       "  </tbody>\n",
       "</table>\n",
       "</div>"
      ],
      "text/plain": [
       "   A  B  C\n",
       "0  1  2  4\n",
       "1  4  8  9\n",
       "2  1  7  2"
      ]
     },
     "metadata": {},
     "output_type": "display_data"
    }
   ],
   "source": [
    "dados2 = pd.DataFrame(dados2, columns='A B C'.split())\n",
    "display(dados2)"
   ]
  },
  {
   "cell_type": "markdown",
   "id": "0dbaecc0",
   "metadata": {},
   "source": [
    "# como editar colunas de texto no python, talvez seja útil.\n",
    "https://www.youtube.com/watch?v=2Ied2x7BPpY&ab_channel=HashtagPrograma%C3%A7%C3%A3o"
   ]
  }
 ],
 "metadata": {
  "kernelspec": {
   "display_name": "Python 3 (ipykernel)",
   "language": "python",
   "name": "python3"
  },
  "language_info": {
   "codemirror_mode": {
    "name": "ipython",
    "version": 3
   },
   "file_extension": ".py",
   "mimetype": "text/x-python",
   "name": "python",
   "nbconvert_exporter": "python",
   "pygments_lexer": "ipython3",
   "version": "3.9.13"
  }
 },
 "nbformat": 4,
 "nbformat_minor": 5
}
