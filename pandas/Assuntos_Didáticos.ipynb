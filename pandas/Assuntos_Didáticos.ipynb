{
 "cells": [
  {
   "cell_type": "markdown",
   "id": "cc85ea09",
   "metadata": {},
   "source": [
    "### O que é percentil, quartil e como calcular?\n",
    "- https://www.youtube.com/watch?v=WGrrDcoG2A8&ab_channel=Did%C3%A1ticaTech"
   ]
  },
  {
   "cell_type": "code",
   "execution_count": null,
   "id": "2a4a786b",
   "metadata": {},
   "outputs": [],
   "source": []
  }
 ],
 "metadata": {
  "kernelspec": {
   "display_name": "Python 3 (ipykernel)",
   "language": "python",
   "name": "python3"
  },
  "language_info": {
   "codemirror_mode": {
    "name": "ipython",
    "version": 3
   },
   "file_extension": ".py",
   "mimetype": "text/x-python",
   "name": "python",
   "nbconvert_exporter": "python",
   "pygments_lexer": "ipython3",
   "version": "3.9.13"
  }
 },
 "nbformat": 4,
 "nbformat_minor": 5
}
