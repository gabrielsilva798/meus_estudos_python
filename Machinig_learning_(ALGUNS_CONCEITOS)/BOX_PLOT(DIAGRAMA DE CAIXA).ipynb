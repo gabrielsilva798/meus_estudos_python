{
 "cells": [
  {
   "cell_type": "markdown",
   "id": "a7dfb382",
   "metadata": {},
   "source": [
    "# **BOX PLOT(DIAGRAMA DE CAIXA)**"
   ]
  },
  {
   "cell_type": "markdown",
   "id": "b12c161b",
   "metadata": {},
   "source": [
    "![Logo do R](https://lh6.googleusercontent.com/wAhTkaCAIktFW4OXNYwckEIn0l7zMEr3PZKdti3EZFdpNRttpUerczr8xPTUUmqsEh04ZJXMMoW3Lca2eEYPozwRpO6jhSwQ7912HVgcmQ6LweKqgs4lm3nLnwB-35FSm61PdCmN=s0)"
   ]
  },
  {
   "cell_type": "markdown",
   "id": "338aa8e7",
   "metadata": {},
   "source": [
    "### ***amplitude interquartil:*** é o tamanho da caixa, do Q3 menos Q1.\n",
    "- MÁXIMO ou LIMITE SUPERIOR:\n",
    "    Q3 ***+*** 1.5(constante que geralmente é 1.5) * (Q3-Q1(amplitude interquartil))\n",
    "\n",
    "- MÍNIMO ou LIMITE INFERIOR:\n",
    "    Q1 ***-*** 1.5(constante que geralmente é 1.5) * (Q3-Q1(amplitude interquartil))\n",
    "    \n",
    "um soma e no outro subtrai."
   ]
  },
  {
   "cell_type": "markdown",
   "id": "c9ddb9db",
   "metadata": {},
   "source": [
    "### limite superior e inferior servem para mostrar os dados outliers ou pontos fora da curva,"
   ]
  },
  {
   "cell_type": "markdown",
   "id": "8ef10687",
   "metadata": {},
   "source": [
    "#### como calculcar o LÍMITE SUPERIOR. exemplo.\n",
    "(2,3,5,8,9,11,13,14,15,17,35)  \n",
    "MEDIANA: 11 (50%)  \n",
    "Q1= 5 (25%)  \n",
    "Q3= 15 (75%)  \n",
    "\n",
    "- LS = Q3-1,5(Q3-Q1)  \n",
    "- LS = 15+1,5*(Q3-Q1)  \n",
    "- LS = 15+1,5*(15-5)  \n",
    "- LS = 15+1,5*(10)  \n",
    "- LS = 15+15  \n",
    "- ***LS = 30***"
   ]
  },
  {
   "cell_type": "markdown",
   "id": "8e1dad52",
   "metadata": {},
   "source": [
    "*****************************************************************"
   ]
  },
  {
   "cell_type": "markdown",
   "id": "f01b3dfa",
   "metadata": {},
   "source": [
    "#### como calcular o LÍMITE INFERIOR. exemplo.\n",
    "(2,3,5,8,9,11,13,14,15,17,35)  \n",
    "MEDIANA: 11 (50%)  \n",
    "Q1= 5 (25%)  \n",
    "Q3= 15 (75%)\n",
    "\n",
    "- LI = Q1-1,5(Q3-Q1)  \n",
    "- LI = 5-1,5(Q3-Q1)   \n",
    "- LI = 5-1,5*(15-5)  \n",
    "- LI = 5-1,5*(10)   \n",
    "- LI = 5-15   \n",
    "- ***LI = -10*** "
   ]
  },
  {
   "cell_type": "markdown",
   "id": "bec0789b",
   "metadata": {},
   "source": [
    "## o que fica fora dos LIMITES INFERIORES E SUPERIORES são os OUTLIERS:\n",
    "    - OUTLIERS mostram o que está fora do padrão e pode ser taxados como valores errados."
   ]
  },
  {
   "cell_type": "markdown",
   "id": "083e6241",
   "metadata": {},
   "source": [
    "#### com os dados acima eu já posso montar o BOX PLOT já\n",
    "    nem sempre a caixa fica exatamente no meio.Pelo visto na mairia dos casos ela não fica no meio"
   ]
  },
  {
   "cell_type": "markdown",
   "id": "d8e48a2b",
   "metadata": {},
   "source": [
    "### usando o comando BOX PLOT na prática usado a tabela anterior "
   ]
  },
  {
   "cell_type": "code",
   "execution_count": 1,
   "id": "938e9ac4",
   "metadata": {},
   "outputs": [],
   "source": [
    "import pandas as pd\n",
    "dados = pd.read_csv('athlete_events.csv')"
   ]
  },
  {
   "cell_type": "code",
   "execution_count": 2,
   "id": "4b2bb320",
   "metadata": {},
   "outputs": [
    {
     "data": {
      "text/html": [
       "<div>\n",
       "<style scoped>\n",
       "    .dataframe tbody tr th:only-of-type {\n",
       "        vertical-align: middle;\n",
       "    }\n",
       "\n",
       "    .dataframe tbody tr th {\n",
       "        vertical-align: top;\n",
       "    }\n",
       "\n",
       "    .dataframe thead th {\n",
       "        text-align: right;\n",
       "    }\n",
       "</style>\n",
       "<table border=\"1\" class=\"dataframe\">\n",
       "  <thead>\n",
       "    <tr style=\"text-align: right;\">\n",
       "      <th></th>\n",
       "      <th>Unnamed: 0</th>\n",
       "      <th>ID</th>\n",
       "      <th>Nome</th>\n",
       "      <th>Sexo</th>\n",
       "      <th>Idade</th>\n",
       "      <th>Altura</th>\n",
       "      <th>Peso</th>\n",
       "      <th>Time</th>\n",
       "      <th>NOC</th>\n",
       "      <th>Jogos</th>\n",
       "      <th>Ano</th>\n",
       "      <th>Temporada</th>\n",
       "      <th>Cidade</th>\n",
       "      <th>Esporte</th>\n",
       "      <th>Evento</th>\n",
       "      <th>Medalha</th>\n",
       "    </tr>\n",
       "  </thead>\n",
       "  <tbody>\n",
       "    <tr>\n",
       "      <th>0</th>\n",
       "      <td>0</td>\n",
       "      <td>1</td>\n",
       "      <td>A Dijiang</td>\n",
       "      <td>M</td>\n",
       "      <td>24.0</td>\n",
       "      <td>180.0</td>\n",
       "      <td>80.0</td>\n",
       "      <td>China</td>\n",
       "      <td>CHN</td>\n",
       "      <td>1992 Summer</td>\n",
       "      <td>1992</td>\n",
       "      <td>Summer</td>\n",
       "      <td>Barcelona</td>\n",
       "      <td>Basketball</td>\n",
       "      <td>Basketball Men's Basketball</td>\n",
       "      <td>NaN</td>\n",
       "    </tr>\n",
       "    <tr>\n",
       "      <th>1</th>\n",
       "      <td>1</td>\n",
       "      <td>2</td>\n",
       "      <td>A Lamusi</td>\n",
       "      <td>M</td>\n",
       "      <td>23.0</td>\n",
       "      <td>170.0</td>\n",
       "      <td>60.0</td>\n",
       "      <td>China</td>\n",
       "      <td>CHN</td>\n",
       "      <td>2012 Summer</td>\n",
       "      <td>2012</td>\n",
       "      <td>Summer</td>\n",
       "      <td>London</td>\n",
       "      <td>Judo</td>\n",
       "      <td>Judo Men's Extra-Lightweight</td>\n",
       "      <td>NaN</td>\n",
       "    </tr>\n",
       "    <tr>\n",
       "      <th>2</th>\n",
       "      <td>2</td>\n",
       "      <td>3</td>\n",
       "      <td>Gunnar Nielsen Aaby</td>\n",
       "      <td>M</td>\n",
       "      <td>24.0</td>\n",
       "      <td>NaN</td>\n",
       "      <td>NaN</td>\n",
       "      <td>Denmark</td>\n",
       "      <td>DEN</td>\n",
       "      <td>1920 Summer</td>\n",
       "      <td>1920</td>\n",
       "      <td>Summer</td>\n",
       "      <td>Antwerpen</td>\n",
       "      <td>Football</td>\n",
       "      <td>Football Men's Football</td>\n",
       "      <td>NaN</td>\n",
       "    </tr>\n",
       "    <tr>\n",
       "      <th>3</th>\n",
       "      <td>3</td>\n",
       "      <td>4</td>\n",
       "      <td>Edgar Lindenau Aabye</td>\n",
       "      <td>M</td>\n",
       "      <td>34.0</td>\n",
       "      <td>NaN</td>\n",
       "      <td>NaN</td>\n",
       "      <td>Denmark/Sweden</td>\n",
       "      <td>DEN</td>\n",
       "      <td>1900 Summer</td>\n",
       "      <td>1900</td>\n",
       "      <td>Summer</td>\n",
       "      <td>Paris</td>\n",
       "      <td>Tug-Of-War</td>\n",
       "      <td>Tug-Of-War Men's Tug-Of-War</td>\n",
       "      <td>Gold</td>\n",
       "    </tr>\n",
       "    <tr>\n",
       "      <th>4</th>\n",
       "      <td>4</td>\n",
       "      <td>5</td>\n",
       "      <td>Christine Jacoba Aaftink</td>\n",
       "      <td>F</td>\n",
       "      <td>21.0</td>\n",
       "      <td>185.0</td>\n",
       "      <td>82.0</td>\n",
       "      <td>Netherlands</td>\n",
       "      <td>NED</td>\n",
       "      <td>1988 Winter</td>\n",
       "      <td>1988</td>\n",
       "      <td>Winter</td>\n",
       "      <td>Calgary</td>\n",
       "      <td>Speed Skating</td>\n",
       "      <td>Speed Skating Women's 500 metres</td>\n",
       "      <td>NaN</td>\n",
       "    </tr>\n",
       "    <tr>\n",
       "      <th>5</th>\n",
       "      <td>5</td>\n",
       "      <td>5</td>\n",
       "      <td>Christine Jacoba Aaftink</td>\n",
       "      <td>F</td>\n",
       "      <td>21.0</td>\n",
       "      <td>185.0</td>\n",
       "      <td>82.0</td>\n",
       "      <td>Netherlands</td>\n",
       "      <td>NED</td>\n",
       "      <td>1988 Winter</td>\n",
       "      <td>1988</td>\n",
       "      <td>Winter</td>\n",
       "      <td>Calgary</td>\n",
       "      <td>Speed Skating</td>\n",
       "      <td>Speed Skating Women's 1,000 metres</td>\n",
       "      <td>NaN</td>\n",
       "    </tr>\n",
       "  </tbody>\n",
       "</table>\n",
       "</div>"
      ],
      "text/plain": [
       "   Unnamed: 0  ID                      Nome Sexo  Idade  Altura  Peso  \\\n",
       "0           0   1                 A Dijiang    M   24.0   180.0  80.0   \n",
       "1           1   2                  A Lamusi    M   23.0   170.0  60.0   \n",
       "2           2   3       Gunnar Nielsen Aaby    M   24.0     NaN   NaN   \n",
       "3           3   4      Edgar Lindenau Aabye    M   34.0     NaN   NaN   \n",
       "4           4   5  Christine Jacoba Aaftink    F   21.0   185.0  82.0   \n",
       "5           5   5  Christine Jacoba Aaftink    F   21.0   185.0  82.0   \n",
       "\n",
       "             Time  NOC        Jogos   Ano Temporada     Cidade        Esporte  \\\n",
       "0           China  CHN  1992 Summer  1992    Summer  Barcelona     Basketball   \n",
       "1           China  CHN  2012 Summer  2012    Summer     London           Judo   \n",
       "2         Denmark  DEN  1920 Summer  1920    Summer  Antwerpen       Football   \n",
       "3  Denmark/Sweden  DEN  1900 Summer  1900    Summer      Paris     Tug-Of-War   \n",
       "4     Netherlands  NED  1988 Winter  1988    Winter    Calgary  Speed Skating   \n",
       "5     Netherlands  NED  1988 Winter  1988    Winter    Calgary  Speed Skating   \n",
       "\n",
       "                               Evento Medalha  \n",
       "0         Basketball Men's Basketball     NaN  \n",
       "1        Judo Men's Extra-Lightweight     NaN  \n",
       "2             Football Men's Football     NaN  \n",
       "3         Tug-Of-War Men's Tug-Of-War    Gold  \n",
       "4    Speed Skating Women's 500 metres     NaN  \n",
       "5  Speed Skating Women's 1,000 metres     NaN  "
      ]
     },
     "execution_count": 2,
     "metadata": {},
     "output_type": "execute_result"
    }
   ],
   "source": [
    "dados.head(6)"
   ]
  },
  {
   "cell_type": "code",
   "execution_count": 3,
   "id": "b2da918f",
   "metadata": {},
   "outputs": [
    {
     "data": {
      "text/html": [
       "<div>\n",
       "<style scoped>\n",
       "    .dataframe tbody tr th:only-of-type {\n",
       "        vertical-align: middle;\n",
       "    }\n",
       "\n",
       "    .dataframe tbody tr th {\n",
       "        vertical-align: top;\n",
       "    }\n",
       "\n",
       "    .dataframe thead th {\n",
       "        text-align: right;\n",
       "    }\n",
       "</style>\n",
       "<table border=\"1\" class=\"dataframe\">\n",
       "  <thead>\n",
       "    <tr style=\"text-align: right;\">\n",
       "      <th></th>\n",
       "      <th>ID</th>\n",
       "      <th>Nome</th>\n",
       "      <th>Sexo</th>\n",
       "      <th>Idade</th>\n",
       "      <th>Altura</th>\n",
       "      <th>Peso</th>\n",
       "      <th>Time</th>\n",
       "      <th>NOC</th>\n",
       "      <th>Jogos</th>\n",
       "      <th>Ano</th>\n",
       "      <th>Temporada</th>\n",
       "      <th>Cidade</th>\n",
       "      <th>Esporte</th>\n",
       "      <th>Evento</th>\n",
       "      <th>Medalha</th>\n",
       "    </tr>\n",
       "  </thead>\n",
       "  <tbody>\n",
       "    <tr>\n",
       "      <th>0</th>\n",
       "      <td>1</td>\n",
       "      <td>A Dijiang</td>\n",
       "      <td>M</td>\n",
       "      <td>24.0</td>\n",
       "      <td>180.0</td>\n",
       "      <td>80.0</td>\n",
       "      <td>China</td>\n",
       "      <td>CHN</td>\n",
       "      <td>1992 Summer</td>\n",
       "      <td>1992</td>\n",
       "      <td>Summer</td>\n",
       "      <td>Barcelona</td>\n",
       "      <td>Basketball</td>\n",
       "      <td>Basketball Men's Basketball</td>\n",
       "      <td>NaN</td>\n",
       "    </tr>\n",
       "    <tr>\n",
       "      <th>1</th>\n",
       "      <td>2</td>\n",
       "      <td>A Lamusi</td>\n",
       "      <td>M</td>\n",
       "      <td>23.0</td>\n",
       "      <td>170.0</td>\n",
       "      <td>60.0</td>\n",
       "      <td>China</td>\n",
       "      <td>CHN</td>\n",
       "      <td>2012 Summer</td>\n",
       "      <td>2012</td>\n",
       "      <td>Summer</td>\n",
       "      <td>London</td>\n",
       "      <td>Judo</td>\n",
       "      <td>Judo Men's Extra-Lightweight</td>\n",
       "      <td>NaN</td>\n",
       "    </tr>\n",
       "    <tr>\n",
       "      <th>2</th>\n",
       "      <td>3</td>\n",
       "      <td>Gunnar Nielsen Aaby</td>\n",
       "      <td>M</td>\n",
       "      <td>24.0</td>\n",
       "      <td>NaN</td>\n",
       "      <td>NaN</td>\n",
       "      <td>Denmark</td>\n",
       "      <td>DEN</td>\n",
       "      <td>1920 Summer</td>\n",
       "      <td>1920</td>\n",
       "      <td>Summer</td>\n",
       "      <td>Antwerpen</td>\n",
       "      <td>Football</td>\n",
       "      <td>Football Men's Football</td>\n",
       "      <td>NaN</td>\n",
       "    </tr>\n",
       "    <tr>\n",
       "      <th>3</th>\n",
       "      <td>4</td>\n",
       "      <td>Edgar Lindenau Aabye</td>\n",
       "      <td>M</td>\n",
       "      <td>34.0</td>\n",
       "      <td>NaN</td>\n",
       "      <td>NaN</td>\n",
       "      <td>Denmark/Sweden</td>\n",
       "      <td>DEN</td>\n",
       "      <td>1900 Summer</td>\n",
       "      <td>1900</td>\n",
       "      <td>Summer</td>\n",
       "      <td>Paris</td>\n",
       "      <td>Tug-Of-War</td>\n",
       "      <td>Tug-Of-War Men's Tug-Of-War</td>\n",
       "      <td>Gold</td>\n",
       "    </tr>\n",
       "    <tr>\n",
       "      <th>4</th>\n",
       "      <td>5</td>\n",
       "      <td>Christine Jacoba Aaftink</td>\n",
       "      <td>F</td>\n",
       "      <td>21.0</td>\n",
       "      <td>185.0</td>\n",
       "      <td>82.0</td>\n",
       "      <td>Netherlands</td>\n",
       "      <td>NED</td>\n",
       "      <td>1988 Winter</td>\n",
       "      <td>1988</td>\n",
       "      <td>Winter</td>\n",
       "      <td>Calgary</td>\n",
       "      <td>Speed Skating</td>\n",
       "      <td>Speed Skating Women's 500 metres</td>\n",
       "      <td>NaN</td>\n",
       "    </tr>\n",
       "    <tr>\n",
       "      <th>5</th>\n",
       "      <td>5</td>\n",
       "      <td>Christine Jacoba Aaftink</td>\n",
       "      <td>F</td>\n",
       "      <td>21.0</td>\n",
       "      <td>185.0</td>\n",
       "      <td>82.0</td>\n",
       "      <td>Netherlands</td>\n",
       "      <td>NED</td>\n",
       "      <td>1988 Winter</td>\n",
       "      <td>1988</td>\n",
       "      <td>Winter</td>\n",
       "      <td>Calgary</td>\n",
       "      <td>Speed Skating</td>\n",
       "      <td>Speed Skating Women's 1,000 metres</td>\n",
       "      <td>NaN</td>\n",
       "    </tr>\n",
       "  </tbody>\n",
       "</table>\n",
       "</div>"
      ],
      "text/plain": [
       "   ID                      Nome Sexo  Idade  Altura  Peso            Time  \\\n",
       "0   1                 A Dijiang    M   24.0   180.0  80.0           China   \n",
       "1   2                  A Lamusi    M   23.0   170.0  60.0           China   \n",
       "2   3       Gunnar Nielsen Aaby    M   24.0     NaN   NaN         Denmark   \n",
       "3   4      Edgar Lindenau Aabye    M   34.0     NaN   NaN  Denmark/Sweden   \n",
       "4   5  Christine Jacoba Aaftink    F   21.0   185.0  82.0     Netherlands   \n",
       "5   5  Christine Jacoba Aaftink    F   21.0   185.0  82.0     Netherlands   \n",
       "\n",
       "   NOC        Jogos   Ano Temporada     Cidade        Esporte  \\\n",
       "0  CHN  1992 Summer  1992    Summer  Barcelona     Basketball   \n",
       "1  CHN  2012 Summer  2012    Summer     London           Judo   \n",
       "2  DEN  1920 Summer  1920    Summer  Antwerpen       Football   \n",
       "3  DEN  1900 Summer  1900    Summer      Paris     Tug-Of-War   \n",
       "4  NED  1988 Winter  1988    Winter    Calgary  Speed Skating   \n",
       "5  NED  1988 Winter  1988    Winter    Calgary  Speed Skating   \n",
       "\n",
       "                               Evento Medalha  \n",
       "0         Basketball Men's Basketball     NaN  \n",
       "1        Judo Men's Extra-Lightweight     NaN  \n",
       "2             Football Men's Football     NaN  \n",
       "3         Tug-Of-War Men's Tug-Of-War    Gold  \n",
       "4    Speed Skating Women's 500 metres     NaN  \n",
       "5  Speed Skating Women's 1,000 metres     NaN  "
      ]
     },
     "execution_count": 3,
     "metadata": {},
     "output_type": "execute_result"
    }
   ],
   "source": [
    "dados = dados.drop('Unnamed: 0',axis=1)\n",
    "dados.head(6)"
   ]
  },
  {
   "cell_type": "markdown",
   "id": "e2c7c951",
   "metadata": {},
   "source": [
    "### para mostra o boxplot usase o comando assim:\n",
    "    - DataFrame.boxplot(column='coluna desejada')"
   ]
  },
  {
   "cell_type": "code",
   "execution_count": 4,
   "id": "ec4dcde2",
   "metadata": {},
   "outputs": [
    {
     "data": {
      "text/plain": [
       "<AxesSubplot:>"
      ]
     },
     "execution_count": 4,
     "metadata": {},
     "output_type": "execute_result"
    },
    {
     "data": {
      "image/png": "[encoded data removed]",
      "text/plain": [
       "<Figure size 640x480 with 1 Axes>"
      ]
     },
     "metadata": {},
     "output_type": "display_data"
    }
   ],
   "source": [
    "dados.boxplot(column='Idade')"
   ]
  },
  {
   "cell_type": "markdown",
   "id": "f28fbfa7",
   "metadata": {},
   "source": [
    "### para mostrar mais de um boxplot é só colocar os valores em uma LISTA  \n",
    "    - se o boxplot não aparecer vc exporta o matplotlib e usa o comando .show()"
   ]
  },
  {
   "cell_type": "code",
   "execution_count": 5,
   "id": "6f0eeb83",
   "metadata": {},
   "outputs": [
    {
     "data": {
      "image/png": "[encoded data removed]",
      "text/plain": [
       "<Figure size 640x480 with 1 Axes>"
      ]
     },
     "metadata": {},
     "output_type": "display_data"
    }
   ],
   "source": [
    "import matplotlib.pyplot as plt\n",
    "dados.boxplot(column=['Idade','Altura','Peso'])\n",
    "plt.show()"
   ]
  },
  {
   "cell_type": "markdown",
   "id": "e02f0e21",
   "metadata": {},
   "source": [
    "#### os OUTLIERS são essas bolinhas fora dos limites superiores e inferiores\n",
    "- eles são tantos que formam uma linha escura formada por cada bolinha"
   ]
  },
  {
   "cell_type": "markdown",
   "id": "a06e7761",
   "metadata": {},
   "source": [
    "### (vert=False) faz o boxplot ficar deitado."
   ]
  },
  {
   "cell_type": "code",
   "execution_count": 7,
   "id": "ed9d1bf6",
   "metadata": {},
   "outputs": [
    {
     "data": {
      "image/png": "[encoded data removed]",
      "text/plain": [
       "<Figure size 640x480 with 1 Axes>"
      ]
     },
     "metadata": {},
     "output_type": "display_data"
    }
   ],
   "source": [
    "dados.boxplot(column=['Idade'],vert=False)\n",
    "plt.show()"
   ]
  },
  {
   "cell_type": "code",
   "execution_count": null,
   "id": "0fc3d57f",
   "metadata": {},
   "outputs": [],
   "source": []
  }
 ],
 "metadata": {
  "kernelspec": {
   "display_name": "Python 3 (ipykernel)",
   "language": "python",
   "name": "python3"
  },
  "language_info": {
   "codemirror_mode": {
    "name": "ipython",
    "version": 3
   },
   "file_extension": ".py",
   "mimetype": "text/x-python",
   "name": "python",
   "nbconvert_exporter": "python",
   "pygments_lexer": "ipython3",
   "version": "3.9.13"
  }
 },
 "nbformat": 4,
 "nbformat_minor": 5
}
