{
 "cells": [
  {
   "cell_type": "code",
   "execution_count": 1,
   "id": "48c3f802",
   "metadata": {},
   "outputs": [],
   "source": [
    "users = [\n",
    "    {'id':0, 'name':'Hero'},\n",
    "    {'id':1, 'name':'Dunn'},\n",
    "    {'id':2, 'name':'Sue'},\n",
    "    {'id':3, 'name':'Chi'},\n",
    "    {'id':4, 'name':'Thor'},\n",
    "    {'id':5, 'name':'Clive'},\n",
    "    {'id':6, 'name':'Hicks'},\n",
    "    {'id':0, 'name':'Devin'},\n",
    "    {'id':0, 'name':'Kate'},\n",
    "    {'id':0, 'name':'Klein'}\n",
    "]"
   ]
  },
  {
   "cell_type": "code",
   "execution_count": 2,
   "id": "278f1a50",
   "metadata": {},
   "outputs": [],
   "source": [
    "friendships =[(0,1),(0,2),(1,2),(1,3),(2,3),(3,4),\n",
    "             (4,5),(5,6),(5,7),(6,8),(7,8),(8,9)]"
   ]
  },
  {
   "cell_type": "code",
   "execution_count": 3,
   "id": "d8b76778",
   "metadata": {},
   "outputs": [],
   "source": [
    "for user in users:\n",
    "    user[\"friends\"] = []"
   ]
  },
  {
   "cell_type": "code",
   "execution_count": 4,
   "id": "7e8b84b8",
   "metadata": {},
   "outputs": [],
   "source": [
    "for i,j in friendships:\n",
    "    users[i][\"friends\"].append(users[j]) \n",
    "    users[j][\"friends\"].append(users[i]) "
   ]
  },
  {
   "cell_type": "code",
   "execution_count": 8,
   "id": "55c22494",
   "metadata": {},
   "outputs": [
    {
     "ename": "IndentationError",
     "evalue": "expected an indented block (2466749780.py, line 3)",
     "output_type": "error",
     "traceback": [
      "\u001b[1;36m  File \u001b[1;32m\"C:\\Users\\gabriel\\AppData\\Local\\Temp\\ipykernel_2664\\2466749780.py\"\u001b[1;36m, line \u001b[1;32m3\u001b[0m\n\u001b[1;33m    return len(user[\"friends\"]) # tamanho da lista friend_ids\u001b[0m\n\u001b[1;37m    ^\u001b[0m\n\u001b[1;31mIndentationError\u001b[0m\u001b[1;31m:\u001b[0m expected an indented block\n"
     ]
    }
   ],
   "source": [
    "def number_of_friends(user):\n",
    "#quantos amigos o usuário tem?\n",
    "return len(user[\"friends\"]) # tamanho da lista friend_ids\n",
    "total_connections = sum(number_of_friends(user)\n",
    "for user in users) "
   ]
  },
  {
   "cell_type": "code",
   "execution_count": 9,
   "id": "4c32bad0",
   "metadata": {},
   "outputs": [
    {
     "ename": "SyntaxError",
     "evalue": "invalid syntax (4095471518.py, line 1)",
     "output_type": "error",
     "traceback": [
      "\u001b[1;36m  File \u001b[1;32m\"C:\\Users\\gabriel\\AppData\\Local\\Temp\\ipykernel_2664\\4095471518.py\"\u001b[1;36m, line \u001b[1;32m1\u001b[0m\n\u001b[1;33m    from __future__import division # divisão inteira está incompleta\u001b[0m\n\u001b[1;37m                          ^\u001b[0m\n\u001b[1;31mSyntaxError\u001b[0m\u001b[1;31m:\u001b[0m invalid syntax\n"
     ]
    }
   ],
   "source": [
    "from __future__import division # divisão inteira está incompleta\n",
    "num_users = len(users) # tamanho da lista de usuários\n",
    "avg_connections = total_connections / num_users "
   ]
  },
  {
   "cell_type": "code",
   "execution_count": 10,
   "id": "55f53583",
   "metadata": {},
   "outputs": [
    {
     "ename": "SyntaxError",
     "evalue": "invalid syntax (3572261787.py, line 5)",
     "output_type": "error",
     "traceback": [
      "\u001b[1;36m  File \u001b[1;32m\"C:\\Users\\gabriel\\AppData\\Local\\Temp\\ipykernel_2664\\3572261787.py\"\u001b[1;36m, line \u001b[1;32m5\u001b[0m\n\u001b[1;33m    key=lambda (user_id, num_friends): num_friends, # por num_friends\u001b[0m\n\u001b[1;37m               ^\u001b[0m\n\u001b[1;31mSyntaxError\u001b[0m\u001b[1;31m:\u001b[0m invalid syntax\n"
     ]
    }
   ],
   "source": [
    "# cria uma lista (user_id, number_of_friends)\n",
    "num_friends_by_id = [(user[\"id\"], number_of_friends(user))\n",
    "for user in users]\n",
    "sorted(num_friends_by_id, # é ordenado\n",
    "key=lambda (user_id, num_friends): num_friends, # por num_friends\n",
    "reverse=True) # do maior para o menor\n",
    "# cada par é (user_id, num_friends)\n",
    "# [(1, 3), (2, 3), (3, 3), (5, 3), (8, 3),\n",
    "# (0, 2), (4, 2), (6, 2), (7, 2), (9, 1)"
   ]
  },
  {
   "cell_type": "code",
   "execution_count": null,
   "id": "e2cdc3f4",
   "metadata": {},
   "outputs": [],
   "source": []
  }
 ],
 "metadata": {
  "kernelspec": {
   "display_name": "Python 3 (ipykernel)",
   "language": "python",
   "name": "python3"
  },
  "language_info": {
   "codemirror_mode": {
    "name": "ipython",
    "version": 3
   },
   "file_extension": ".py",
   "mimetype": "text/x-python",
   "name": "python",
   "nbconvert_exporter": "python",
   "pygments_lexer": "ipython3",
   "version": "3.9.13"
  }
 },
 "nbformat": 4,
 "nbformat_minor": 5
}
