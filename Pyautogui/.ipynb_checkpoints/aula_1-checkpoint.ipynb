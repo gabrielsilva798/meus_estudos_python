{
 "cells": [
  {
   "cell_type": "code",
   "execution_count": 1,
   "id": "9129e54f",
   "metadata": {},
   "outputs": [],
   "source": [
    "import pyautogui"
   ]
  },
  {
   "cell_type": "code",
   "execution_count": 2,
   "id": "8adce536",
   "metadata": {},
   "outputs": [
    {
     "data": {
      "text/plain": [
       "['\\t',\n",
       " '\\n',\n",
       " '\\r',\n",
       " ' ',\n",
       " '!',\n",
       " '\"',\n",
       " '#',\n",
       " '$',\n",
       " '%',\n",
       " '&',\n",
       " \"'\",\n",
       " '(',\n",
       " ')',\n",
       " '*',\n",
       " '+',\n",
       " ',',\n",
       " '-',\n",
       " '.',\n",
       " '/',\n",
       " '0',\n",
       " '1',\n",
       " '2',\n",
       " '3',\n",
       " '4',\n",
       " '5',\n",
       " '6',\n",
       " '7',\n",
       " '8',\n",
       " '9',\n",
       " ':',\n",
       " ';',\n",
       " '<',\n",
       " '=',\n",
       " '>',\n",
       " '?',\n",
       " '@',\n",
       " '[',\n",
       " '\\\\',\n",
       " ']',\n",
       " '^',\n",
       " '_',\n",
       " '`',\n",
       " 'a',\n",
       " 'b',\n",
       " 'c',\n",
       " 'd',\n",
       " 'e',\n",
       " 'f',\n",
       " 'g',\n",
       " 'h',\n",
       " 'i',\n",
       " 'j',\n",
       " 'k',\n",
       " 'l',\n",
       " 'm',\n",
       " 'n',\n",
       " 'o',\n",
       " 'p',\n",
       " 'q',\n",
       " 'r',\n",
       " 's',\n",
       " 't',\n",
       " 'u',\n",
       " 'v',\n",
       " 'w',\n",
       " 'x',\n",
       " 'y',\n",
       " 'z',\n",
       " '{',\n",
       " '|',\n",
       " '}',\n",
       " '~',\n",
       " 'accept',\n",
       " 'add',\n",
       " 'alt',\n",
       " 'altleft',\n",
       " 'altright',\n",
       " 'apps',\n",
       " 'backspace',\n",
       " 'browserback',\n",
       " 'browserfavorites',\n",
       " 'browserforward',\n",
       " 'browserhome',\n",
       " 'browserrefresh',\n",
       " 'browsersearch',\n",
       " 'browserstop',\n",
       " 'capslock',\n",
       " 'clear',\n",
       " 'convert',\n",
       " 'ctrl',\n",
       " 'ctrlleft',\n",
       " 'ctrlright',\n",
       " 'decimal',\n",
       " 'del',\n",
       " 'delete',\n",
       " 'divide',\n",
       " 'down',\n",
       " 'end',\n",
       " 'enter',\n",
       " 'esc',\n",
       " 'escape',\n",
       " 'execute',\n",
       " 'f1',\n",
       " 'f10',\n",
       " 'f11',\n",
       " 'f12',\n",
       " 'f13',\n",
       " 'f14',\n",
       " 'f15',\n",
       " 'f16',\n",
       " 'f17',\n",
       " 'f18',\n",
       " 'f19',\n",
       " 'f2',\n",
       " 'f20',\n",
       " 'f21',\n",
       " 'f22',\n",
       " 'f23',\n",
       " 'f24',\n",
       " 'f3',\n",
       " 'f4',\n",
       " 'f5',\n",
       " 'f6',\n",
       " 'f7',\n",
       " 'f8',\n",
       " 'f9',\n",
       " 'final',\n",
       " 'fn',\n",
       " 'hanguel',\n",
       " 'hangul',\n",
       " 'hanja',\n",
       " 'help',\n",
       " 'home',\n",
       " 'insert',\n",
       " 'junja',\n",
       " 'kana',\n",
       " 'kanji',\n",
       " 'launchapp1',\n",
       " 'launchapp2',\n",
       " 'launchmail',\n",
       " 'launchmediaselect',\n",
       " 'left',\n",
       " 'modechange',\n",
       " 'multiply',\n",
       " 'nexttrack',\n",
       " 'nonconvert',\n",
       " 'num0',\n",
       " 'num1',\n",
       " 'num2',\n",
       " 'num3',\n",
       " 'num4',\n",
       " 'num5',\n",
       " 'num6',\n",
       " 'num7',\n",
       " 'num8',\n",
       " 'num9',\n",
       " 'numlock',\n",
       " 'pagedown',\n",
       " 'pageup',\n",
       " 'pause',\n",
       " 'pgdn',\n",
       " 'pgup',\n",
       " 'playpause',\n",
       " 'prevtrack',\n",
       " 'print',\n",
       " 'printscreen',\n",
       " 'prntscrn',\n",
       " 'prtsc',\n",
       " 'prtscr',\n",
       " 'return',\n",
       " 'right',\n",
       " 'scrolllock',\n",
       " 'select',\n",
       " 'separator',\n",
       " 'shift',\n",
       " 'shiftleft',\n",
       " 'shiftright',\n",
       " 'sleep',\n",
       " 'space',\n",
       " 'stop',\n",
       " 'subtract',\n",
       " 'tab',\n",
       " 'up',\n",
       " 'volumedown',\n",
       " 'volumemute',\n",
       " 'volumeup',\n",
       " 'win',\n",
       " 'winleft',\n",
       " 'winright',\n",
       " 'yen',\n",
       " 'command',\n",
       " 'option',\n",
       " 'optionleft',\n",
       " 'optionright']"
      ]
     },
     "execution_count": 2,
     "metadata": {},
     "output_type": "execute_result"
    }
   ],
   "source": [
    "#comando para ver o nome das telcas usadas nos comandos\n",
    "#essas teclas ficam no telcado e você pode automatizar elas.\n",
    "pyautogui.KEYBOARD_KEYS"
   ]
  },
  {
   "cell_type": "code",
   "execution_count": 7,
   "id": "bf08110f",
   "metadata": {},
   "outputs": [],
   "source": [
    "#para acessar as teclas ussa-se o comando pyautogui.press()\n",
    "pyautogui.press('winleft')"
   ]
  },
  {
   "cell_type": "code",
   "execution_count": 4,
   "id": "e7c039ea",
   "metadata": {},
   "outputs": [],
   "source": [
    "#para escrever ussa-se o pyautogui.write()\n",
    "pyautogui.write('chrome')"
   ]
  },
  {
   "cell_type": "code",
   "execution_count": 5,
   "id": "b688d5e2",
   "metadata": {},
   "outputs": [
    {
     "data": {
      "text/plain": [
       "'OK'"
      ]
     },
     "execution_count": 5,
     "metadata": {},
     "output_type": "execute_result"
    }
   ],
   "source": [
    "#para exibir uma mensagem de alerta ussa-se o pyautogui.alert()\n",
    "#o código só continua quando voçê da OK na mensagem\n",
    "pyautogui.alert('o código vai começar.não use nada do pc.')"
   ]
  },
  {
   "cell_type": "code",
   "execution_count": 6,
   "id": "1fca3930",
   "metadata": {},
   "outputs": [],
   "source": [
    "#para o PC execultar as tarefas numa velocidade reduzida ussa-se o comando pyautogui.PAUSE()\n",
    "#dentro dos parentes vai o intervalo desejado.\n",
    "#é recomendado ussa essa função para os códigos não ficarem atropelado"
   ]
  },
  {
   "cell_type": "code",
   "execution_count": 8,
   "id": "91611e65",
   "metadata": {},
   "outputs": [
    {
     "name": "stdout",
     "output_type": "stream",
     "text": [
      "Size(width=1366, height=768)\n"
     ]
    }
   ],
   "source": [
    "# .size para mostrar a resolução deo seu monitor.\n",
    "print(pyautogui.size())"
   ]
  },
  {
   "cell_type": "code",
   "execution_count": null,
   "id": "c956ffd1",
   "metadata": {},
   "outputs": [],
   "source": []
  }
 ],
 "metadata": {
  "kernelspec": {
   "display_name": "Python 3 (ipykernel)",
   "language": "python",
   "name": "python3"
  },
  "language_info": {
   "codemirror_mode": {
    "name": "ipython",
    "version": 3
   },
   "file_extension": ".py",
   "mimetype": "text/x-python",
   "name": "python",
   "nbconvert_exporter": "python",
   "pygments_lexer": "ipython3",
   "version": "3.9.13"
  },
  "widgets": {
   "application/vnd.jupyter.widget-state+json": {
    "state": {},
    "version_major": 2,
    "version_minor": 0
   }
  }
 },
 "nbformat": 4,
 "nbformat_minor": 5
}
