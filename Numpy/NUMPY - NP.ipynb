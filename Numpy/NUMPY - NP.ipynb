{
 "cells": [
  {
   "cell_type": "code",
   "execution_count": 1,
   "id": "c7bbd839",
   "metadata": {},
   "outputs": [],
   "source": [
    "import numpy as np"
   ]
  },
  {
   "cell_type": "markdown",
   "id": "5b775bad",
   "metadata": {},
   "source": [
    "### ver um pouco da teoria do numpy antes:\n",
    "- é um pacote criado para resolver operações ***MATEMÁTICAS***.\n",
    "\n",
    "#### no ARRAY, DIFERENTE DAS LISTAS, TODOS OS ELEMENTOS TEM QUE SER DO MESMO ***TIPO***."
   ]
  },
  {
   "cell_type": "code",
   "execution_count": 14,
   "id": "41b90e65",
   "metadata": {},
   "outputs": [
    {
     "name": "stdout",
     "output_type": "stream",
     "text": [
      "[1 2 3]\n"
     ]
    },
    {
     "data": {
      "text/plain": [
       "array([1, 2, 3])"
      ]
     },
     "execution_count": 14,
     "metadata": {},
     "output_type": "execute_result"
    }
   ],
   "source": [
    "# um array de uma dimensão. um VETOR.\n",
    "a = np.array([1, 2, 3])\n",
    "print(a)\n",
    "# o A sem print mostra tbm o tipo do arquivo\n",
    "a"
   ]
  },
  {
   "cell_type": "markdown",
   "id": "bef5840d",
   "metadata": {},
   "source": [
    "###  um array com 2 dimenssões, uma ***MATRIZ***. \n",
    "- np.array([(elemento-1),(elemento-2),(elemento-3)])  \n",
    "- cada lista dentro deles é uma linha e cada item da lista é uma coluna."
   ]
  },
  {
   "cell_type": "code",
   "execution_count": 15,
   "id": "d237eeac",
   "metadata": {},
   "outputs": [
    {
     "data": {
      "text/plain": [
       "numpy.ndarray"
      ]
     },
     "execution_count": 15,
     "metadata": {},
     "output_type": "execute_result"
    }
   ],
   "source": [
    "# tipo de elemento array.\n",
    "type(a)"
   ]
  },
  {
   "cell_type": "markdown",
   "id": "5c5456f6",
   "metadata": {},
   "source": [
    "### tipos de array.\n",
    "***- array com UMA dimensão:*** é chamando de VETOR ou VECTOR.   \n",
    "***- array com DUAS dimensões:*** é chamando de MATRIZ ou MATRIX.   \n",
    "***- array com TRÊS OU MAIS dimensões:*** é chamado de TENSOR. \n",
    "\n",
    "***sempre aparecera o número de dimensões pela sigla NDARRAYS (número de dimensões de arrays).***"
   ]
  },
  {
   "cell_type": "code",
   "execution_count": 16,
   "id": "5e102f7b",
   "metadata": {},
   "outputs": [
    {
     "name": "stdout",
     "output_type": "stream",
     "text": [
      "[[2 5 7]\n",
      " [5 3 9]\n",
      " [4 8 1]]\n"
     ]
    }
   ],
   "source": [
    "# aqui tem duas dimensões, é uma MATRIZ\n",
    "b = np.array([(2, 5, 7),(5, 3, 9),(4, 8, 1)])\n",
    "print(b)"
   ]
  },
  {
   "cell_type": "markdown",
   "id": "71935ee3",
   "metadata": {},
   "source": [
    "# diferença entre Arrays e Listas\n",
    "- array só aceita dados de mesmo formato\n",
    "    - ele tenta mudar para string todos eles se os dados não tiverem o mesmo formato, isso deixa o processamento mais rápido.\n",
    "- arrays são mais rápidos e usam memos recursos do PC."
   ]
  },
  {
   "cell_type": "markdown",
   "id": "c47f5bba",
   "metadata": {},
   "source": [
    "**************************"
   ]
  },
  {
   "cell_type": "markdown",
   "id": "0d05064a",
   "metadata": {},
   "source": [
    "# função para criar uma matriz com ***ZEROS***.\n",
    "- A DIMENSÃO É COLOCADA DENTRO DO SEGUNDO PARENTES, primeiro linhas e depois colunas."
   ]
  },
  {
   "cell_type": "code",
   "execution_count": 17,
   "id": "4e059d62",
   "metadata": {},
   "outputs": [
    {
     "name": "stdout",
     "output_type": "stream",
     "text": [
      "[[0. 0. 0.]\n",
      " [0. 0. 0.]\n",
      " [0. 0. 0.]\n",
      " [0. 0. 0.]]\n"
     ]
    }
   ],
   "source": [
    "c = np.zeros((4,3))\n",
    "print(c)"
   ]
  },
  {
   "cell_type": "markdown",
   "id": "d4660403",
   "metadata": {},
   "source": [
    "#### colocando oSHAPE eu consigo mecher em 3 dimensõs.\n",
    "- na primeira a quantidade de matrizes, na segunda o número de colunas e na terceira o número de linhas.\n",
    "- portanto temos um ***TENSOR***."
   ]
  },
  {
   "cell_type": "code",
   "execution_count": 18,
   "id": "cb352764",
   "metadata": {
    "scrolled": true
   },
   "outputs": [
    {
     "name": "stdout",
     "output_type": "stream",
     "text": [
      "[[[0. 0. 0. 0. 0. 0.]\n",
      "  [0. 0. 0. 0. 0. 0.]\n",
      "  [0. 0. 0. 0. 0. 0.]]\n",
      "\n",
      " [[0. 0. 0. 0. 0. 0.]\n",
      "  [0. 0. 0. 0. 0. 0.]\n",
      "  [0. 0. 0. 0. 0. 0.]]\n",
      "\n",
      " [[0. 0. 0. 0. 0. 0.]\n",
      "  [0. 0. 0. 0. 0. 0.]\n",
      "  [0. 0. 0. 0. 0. 0.]]\n",
      "\n",
      " [[0. 0. 0. 0. 0. 0.]\n",
      "  [0. 0. 0. 0. 0. 0.]\n",
      "  [0. 0. 0. 0. 0. 0.]]\n",
      "\n",
      " [[0. 0. 0. 0. 0. 0.]\n",
      "  [0. 0. 0. 0. 0. 0.]\n",
      "  [0. 0. 0. 0. 0. 0.]]]\n"
     ]
    }
   ],
   "source": [
    "f = np.zeros(shape = (5,3,6))\n",
    "print(f)"
   ]
  },
  {
   "cell_type": "markdown",
   "id": "ea6a61d0",
   "metadata": {},
   "source": [
    "#### criar uma matriz com somentes o número ***1***.\n",
    "- tem duas dimensões."
   ]
  },
  {
   "cell_type": "code",
   "execution_count": 19,
   "id": "ee7c76b2",
   "metadata": {},
   "outputs": [
    {
     "name": "stdout",
     "output_type": "stream",
     "text": [
      "[[1. 1. 1.]\n",
      " [1. 1. 1.]\n",
      " [1. 1. 1.]\n",
      " [1. 1. 1.]]\n"
     ]
    }
   ],
   "source": [
    "d = np.ones((4,3))\n",
    "print(d)"
   ]
  },
  {
   "cell_type": "markdown",
   "id": "f68ca7b6",
   "metadata": {},
   "source": [
    "#### criar um TENSOR somente com uns.\n",
    "- tem 3 dimensões."
   ]
  },
  {
   "cell_type": "code",
   "execution_count": 20,
   "id": "b6e6323e",
   "metadata": {
    "scrolled": true
   },
   "outputs": [
    {
     "name": "stdout",
     "output_type": "stream",
     "text": [
      "[[[1. 1. 1. 1. 1. 1.]\n",
      "  [1. 1. 1. 1. 1. 1.]\n",
      "  [1. 1. 1. 1. 1. 1.]]\n",
      "\n",
      " [[1. 1. 1. 1. 1. 1.]\n",
      "  [1. 1. 1. 1. 1. 1.]\n",
      "  [1. 1. 1. 1. 1. 1.]]\n",
      "\n",
      " [[1. 1. 1. 1. 1. 1.]\n",
      "  [1. 1. 1. 1. 1. 1.]\n",
      "  [1. 1. 1. 1. 1. 1.]]\n",
      "\n",
      " [[1. 1. 1. 1. 1. 1.]\n",
      "  [1. 1. 1. 1. 1. 1.]\n",
      "  [1. 1. 1. 1. 1. 1.]]\n",
      "\n",
      " [[1. 1. 1. 1. 1. 1.]\n",
      "  [1. 1. 1. 1. 1. 1.]\n",
      "  [1. 1. 1. 1. 1. 1.]]]\n"
     ]
    }
   ],
   "source": [
    "ones = np.ones(shape = (5,3,6))\n",
    "print(ones)"
   ]
  },
  {
   "cell_type": "markdown",
   "id": "07ba7b72",
   "metadata": {},
   "source": [
    "#### criar um vetor somente com 1 e 0.\n",
    "- tem somente 1 dimensão."
   ]
  },
  {
   "cell_type": "code",
   "execution_count": 21,
   "id": "0a35a305",
   "metadata": {},
   "outputs": [
    {
     "name": "stdout",
     "output_type": "stream",
     "text": [
      "[1. 1. 1. 1. 1. 1. 1. 1.]\n",
      "[0. 0. 0. 0.]\n"
     ]
    }
   ],
   "source": [
    "h = np.ones(8)\n",
    "k = np.zeros(4)\n",
    "print(h)\n",
    "print(k)"
   ]
  },
  {
   "cell_type": "markdown",
   "id": "07b28024",
   "metadata": {},
   "source": [
    "## criar uma matriz quadrada com zeros, com o mesmo número de linhas e colunas e a diagonal principal preenchida com 1s.\n",
    "- usa-se a função ***np.eye().\n",
    "***- essa foi 5 por 5.***\n",
    "-dentro dos parentes vai a dimensão."
   ]
  },
  {
   "cell_type": "code",
   "execution_count": 22,
   "id": "f4e6428b",
   "metadata": {
    "scrolled": true
   },
   "outputs": [
    {
     "name": "stdout",
     "output_type": "stream",
     "text": [
      "[[1. 0. 0. 0. 0.]\n",
      " [0. 1. 0. 0. 0.]\n",
      " [0. 0. 1. 0. 0.]\n",
      " [0. 0. 0. 1. 0.]\n",
      " [0. 0. 0. 0. 1.]]\n"
     ]
    }
   ],
   "source": [
    "e = np.eye(5)\n",
    "print(e)"
   ]
  },
  {
   "cell_type": "markdown",
   "id": "b0ceeb1e",
   "metadata": {},
   "source": [
    "# função NP.DIAG() cria uma matriz quadrática, mas vc escolhe a diagonal.\n",
    "- vc precisa colocar um vetor dentro do argumento que será a diagonal.\n",
    "- o número de elementos do argumento será o tamanho da matriz, aqui 4 por 4."
   ]
  },
  {
   "cell_type": "code",
   "execution_count": 23,
   "id": "e9affe24",
   "metadata": {},
   "outputs": [
    {
     "name": "stdout",
     "output_type": "stream",
     "text": [
      "[[1 0 0 0]\n",
      " [0 2 0 0]\n",
      " [0 0 3 0]\n",
      " [0 0 0 4]]\n"
     ]
    }
   ],
   "source": [
    "dd = np.diag(np.array([1,2,3,4]))\n",
    "print(dd)"
   ]
  },
  {
   "cell_type": "markdown",
   "id": "ae55774c",
   "metadata": {},
   "source": [
    "#### como ver o MAIOR elemento de uma matriz."
   ]
  },
  {
   "cell_type": "code",
   "execution_count": 25,
   "id": "a5ff76c2",
   "metadata": {},
   "outputs": [
    {
     "name": "stdout",
     "output_type": "stream",
     "text": [
      "[[2 5 7]\n",
      " [5 3 9]\n",
      " [4 8 1]]\n"
     ]
    }
   ],
   "source": [
    "b = np.array([(2, 5, 7),(5, 3, 9),(4, 8, 1)])\n",
    "print(b)"
   ]
  },
  {
   "cell_type": "code",
   "execution_count": 24,
   "id": "7e9571f7",
   "metadata": {},
   "outputs": [
    {
     "data": {
      "text/plain": [
       "9"
      ]
     },
     "execution_count": 24,
     "metadata": {},
     "output_type": "execute_result"
    }
   ],
   "source": [
    "b.max()"
   ]
  },
  {
   "cell_type": "markdown",
   "id": "70daba6e",
   "metadata": {},
   "source": [
    "#### saber a posição do ***MAIOR*** elemento.\n",
    "-pesquisar mais, pq ele tá contando tudo como se fosse uma linha só"
   ]
  },
  {
   "cell_type": "code",
   "execution_count": 32,
   "id": "e4bd3d57",
   "metadata": {},
   "outputs": [
    {
     "data": {
      "text/plain": [
       "5"
      ]
     },
     "execution_count": 32,
     "metadata": {},
     "output_type": "execute_result"
    }
   ],
   "source": [
    "b.argmax()"
   ]
  },
  {
   "cell_type": "markdown",
   "id": "b0355de0",
   "metadata": {},
   "source": [
    "#### como ver o MENOR elemento de uma matriz."
   ]
  },
  {
   "cell_type": "code",
   "execution_count": 13,
   "id": "6d5e8b6f",
   "metadata": {
    "scrolled": true
   },
   "outputs": [
    {
     "data": {
      "text/plain": [
       "1"
      ]
     },
     "execution_count": 13,
     "metadata": {},
     "output_type": "execute_result"
    }
   ],
   "source": [
    "b.min()"
   ]
  },
  {
   "cell_type": "markdown",
   "id": "c12c283d",
   "metadata": {},
   "source": [
    "#### saber a posição do ***MENOR*** elemento.\n",
    "-pesquisar mais ***TBM***, pq ele tá contando tudo como se fosse uma linha só"
   ]
  },
  {
   "cell_type": "code",
   "execution_count": null,
   "id": "66dc940c",
   "metadata": {},
   "outputs": [],
   "source": [
    "b.argmin()"
   ]
  },
  {
   "cell_type": "markdown",
   "id": "b1b2a02d",
   "metadata": {},
   "source": [
    "### somar todos os elementos da matriz"
   ]
  },
  {
   "cell_type": "code",
   "execution_count": 14,
   "id": "bf988c18",
   "metadata": {},
   "outputs": [
    {
     "data": {
      "text/plain": [
       "44"
      ]
     },
     "execution_count": 14,
     "metadata": {},
     "output_type": "execute_result"
    }
   ],
   "source": [
    "b.sum()"
   ]
  },
  {
   "cell_type": "markdown",
   "id": "aec6a407",
   "metadata": {},
   "source": [
    "### calcular a MÉDIA de todos os elementos da matriz."
   ]
  },
  {
   "cell_type": "code",
   "execution_count": 15,
   "id": "250b7ae0",
   "metadata": {},
   "outputs": [
    {
     "data": {
      "text/plain": [
       "4.888888888888889"
      ]
     },
     "execution_count": 15,
     "metadata": {},
     "output_type": "execute_result"
    }
   ],
   "source": [
    "b.mean()"
   ]
  },
  {
   "cell_type": "markdown",
   "id": "85039f61",
   "metadata": {},
   "source": [
    "### como calcular o desvio padrão de todos os elementos da matriz."
   ]
  },
  {
   "cell_type": "code",
   "execution_count": 16,
   "id": "5b679976",
   "metadata": {},
   "outputs": [
    {
     "data": {
      "text/plain": [
       "2.5579698740491863"
      ]
     },
     "execution_count": 16,
     "metadata": {},
     "output_type": "execute_result"
    }
   ],
   "source": [
    "b.std()"
   ]
  },
  {
   "cell_type": "markdown",
   "id": "5d07e43c",
   "metadata": {},
   "source": [
    "#### para calcular a variáncia usa-se ,var()\n",
    "- ver depois o que é essa variáncia especificamente."
   ]
  },
  {
   "cell_type": "code",
   "execution_count": 33,
   "id": "24a86d6a",
   "metadata": {},
   "outputs": [
    {
     "data": {
      "text/plain": [
       "6.54320987654321"
      ]
     },
     "execution_count": 33,
     "metadata": {},
     "output_type": "execute_result"
    }
   ],
   "source": [
    "b.var()"
   ]
  },
  {
   "cell_type": "markdown",
   "id": "53350c19",
   "metadata": {},
   "source": [
    "## np.arange() seve para criar uma ARRAY.  \n",
    "- ele é como a função range do python.\n",
    "- esse que eu criei vai de 0 até 99 e de 2 em 2.\n",
    "- primeiro vc coloca o intervalo dentro dos parentes e depois de quanto em quanto número ele vai contar.\n",
    "- seu eu quisse-se colocar o 100 eu teria que colocar 101, pq o último valor não entra na contagem."
   ]
  },
  {
   "cell_type": "code",
   "execution_count": 17,
   "id": "9758a428",
   "metadata": {},
   "outputs": [
    {
     "name": "stdout",
     "output_type": "stream",
     "text": [
      "[ 0  2  4  6  8 10 12 14 16 18 20 22 24 26 28 30 32 34 36 38 40 42 44 46\n",
      " 48 50 52 54 56 58 60 62 64 66 68 70 72 74 76 78 80 82 84 86 88 90 92 94\n",
      " 96 98]\n"
     ]
    }
   ],
   "source": [
    "x1 = np.arange(0,100,2)\n",
    "print(x1)"
   ]
  },
  {
   "cell_type": "markdown",
   "id": "d3f9700c",
   "metadata": {},
   "source": [
    "## np.arange()\n",
    "- cria array só que vc pode detalhar mais.  \n",
    "- inves de fazer assim: l = np.array([0,1,2,3,4,5,6,7,8,9]) eu uso o np.arange()\n",
    "- deixando os argumentos entre parentes vazios e apertado shift+tab ele dar uma ajuda.  \n",
    "        np.arange(shift+tab)"
   ]
  },
  {
   "cell_type": "markdown",
   "id": "08732374",
   "metadata": {},
   "source": [
    "#### eu posso colocar só 1 argumento dentro do ARANGE para criar uma sequência numérica"
   ]
  },
  {
   "cell_type": "code",
   "execution_count": 18,
   "id": "75067863",
   "metadata": {},
   "outputs": [
    {
     "name": "stdout",
     "output_type": "stream",
     "text": [
      "[0 1 2 3 4 5 6 7 8 9]\n"
     ]
    }
   ],
   "source": [
    "l = np.arange(10)\n",
    "print(l)"
   ]
  },
  {
   "cell_type": "markdown",
   "id": "77d9ffd5",
   "metadata": {},
   "source": [
    "#### com 2 parâmetros ele vai do primeiro até o segundo menos 1.\n",
    "- isso é, esse nosso vai de 5 até ***14***."
   ]
  },
  {
   "cell_type": "code",
   "execution_count": 19,
   "id": "4ee045a5",
   "metadata": {},
   "outputs": [],
   "source": [
    "ç = np.arange(5,15)"
   ]
  },
  {
   "cell_type": "markdown",
   "id": "9d197b7f",
   "metadata": {},
   "source": [
    "#### ele start em 50, deu stop em 200 e o step foi de 30 em 30."
   ]
  },
  {
   "cell_type": "code",
   "execution_count": 20,
   "id": "b3bb1d2b",
   "metadata": {},
   "outputs": [
    {
     "name": "stdout",
     "output_type": "stream",
     "text": [
      "[ 50  80 110 140 170]\n"
     ]
    }
   ],
   "source": [
    "o = np.arange(50,200,30)\n",
    "print(o)"
   ]
  },
  {
   "cell_type": "markdown",
   "id": "1edbbb60",
   "metadata": {},
   "source": [
    "#### se eu colocar em ordem eu não preciso colocar o STOP, START e o STEP."
   ]
  },
  {
   "cell_type": "code",
   "execution_count": 21,
   "id": "742b9166",
   "metadata": {},
   "outputs": [
    {
     "name": "stdout",
     "output_type": "stream",
     "text": [
      "[ 50  80 110 140 170]\n"
     ]
    }
   ],
   "source": [
    "s = np.arange(stop=200,start=50,step=30)\n",
    "print(s)"
   ]
  },
  {
   "cell_type": "markdown",
   "id": "6bdb60e3",
   "metadata": {},
   "source": [
    "### np.empty cria valores aleatórios.\n",
    "- isso serve para que não haja valores vázios."
   ]
  },
  {
   "cell_type": "code",
   "execution_count": 22,
   "id": "dd1bc98e",
   "metadata": {},
   "outputs": [
    {
     "name": "stdout",
     "output_type": "stream",
     "text": [
      "[0. 0. 0.]\n"
     ]
    }
   ],
   "source": [
    "vazio = np.empty(3)\n",
    "print(vazio)"
   ]
  },
  {
   "cell_type": "markdown",
   "id": "1ffed125",
   "metadata": {},
   "source": [
    "### agora com 2 dimensões.\n",
    "- coloca outra vírgula dentro da anterior."
   ]
  },
  {
   "cell_type": "code",
   "execution_count": 23,
   "id": "13f3a248",
   "metadata": {
    "scrolled": true
   },
   "outputs": [
    {
     "name": "stdout",
     "output_type": "stream",
     "text": [
      "[[1. 1. 1.]\n",
      " [1. 1. 1.]\n",
      " [1. 1. 1.]\n",
      " [1. 1. 1.]]\n"
     ]
    }
   ],
   "source": [
    "vazio2 = np.empty((4,3))\n",
    "print(vazio2)"
   ]
  },
  {
   "cell_type": "markdown",
   "id": "5e4ea274",
   "metadata": {},
   "source": [
    "### agora com 3 dimensões.\n",
    "- um tensor."
   ]
  },
  {
   "cell_type": "code",
   "execution_count": 24,
   "id": "5674647e",
   "metadata": {},
   "outputs": [
    {
     "name": "stdout",
     "output_type": "stream",
     "text": [
      "[[[0. 0. 0.]\n",
      "  [0. 0. 0.]]\n",
      "\n",
      " [[0. 0. 0.]\n",
      "  [0. 0. 0.]]\n",
      "\n",
      " [[0. 0. 0.]\n",
      "  [0. 0. 0.]]\n",
      "\n",
      " [[0. 0. 0.]\n",
      "  [0. 0. 0.]]]\n"
     ]
    }
   ],
   "source": [
    "vazio3 = np.empty((4,2,3))\n",
    "print(vazio3)"
   ]
  },
  {
   "cell_type": "markdown",
   "id": "aef870a8",
   "metadata": {},
   "source": [
    "# np.linspace()\n",
    "- diferente do arange ele coloca o último número dentro da operação.\n",
    "- serve para fazer sequência logarítima, quadrada, linear,etc.\n",
    "- pesquisar mais sobre."
   ]
  },
  {
   "cell_type": "markdown",
   "id": "b4695909",
   "metadata": {},
   "source": [
    "*****************************************"
   ]
  },
  {
   "cell_type": "markdown",
   "id": "3cb78af8",
   "metadata": {},
   "source": [
    "#### coloca o o start e depois o stop, aqui foi 0 e 100\n",
    "#### o numero de números que eu quero nesse intervalo, aqui foi 20.\n",
    "    ele vai dividir de 0 a 100, 20 vezes, logo tem 20 números no intervalo espaçado perfeitamente.\n"
   ]
  },
  {
   "cell_type": "code",
   "execution_count": 25,
   "id": "a284b8a7",
   "metadata": {},
   "outputs": [
    {
     "name": "stdout",
     "output_type": "stream",
     "text": [
      "[  0.           5.26315789  10.52631579  15.78947368  21.05263158\n",
      "  26.31578947  31.57894737  36.84210526  42.10526316  47.36842105\n",
      "  52.63157895  57.89473684  63.15789474  68.42105263  73.68421053\n",
      "  78.94736842  84.21052632  89.47368421  94.73684211 100.        ]\n"
     ]
    }
   ],
   "source": [
    "array_linear = np.linspace(0,100, 20)\n",
    "print(array_linear)"
   ]
  },
  {
   "cell_type": "markdown",
   "id": "4fe2cc43",
   "metadata": {},
   "source": [
    "#### aqui eu coloquei o endpoint = falso para tirá o número 100 da conta."
   ]
  },
  {
   "cell_type": "code",
   "execution_count": 26,
   "id": "97a18c5d",
   "metadata": {},
   "outputs": [
    {
     "name": "stdout",
     "output_type": "stream",
     "text": [
      "[ 0.  5. 10. 15. 20. 25. 30. 35. 40. 45. 50. 55. 60. 65. 70. 75. 80. 85.\n",
      " 90. 95.]\n"
     ]
    }
   ],
   "source": [
    "array_linear_2 = np.linspace(0,100, 20, endpoint= False)\n",
    "print(array_linear_2)"
   ]
  },
  {
   "cell_type": "markdown",
   "id": "4f3a63d6",
   "metadata": {},
   "source": [
    "#### retstep serve para mostra no final o intervalo entre cada valor para dar 29 casa perfeitas.\n",
    "- aqui foi 5.0"
   ]
  },
  {
   "cell_type": "code",
   "execution_count": 27,
   "id": "b65469c4",
   "metadata": {},
   "outputs": [
    {
     "name": "stdout",
     "output_type": "stream",
     "text": [
      "(array([ 0.,  5., 10., 15., 20., 25., 30., 35., 40., 45., 50., 55., 60.,\n",
      "       65., 70., 75., 80., 85., 90., 95.]), 5.0)\n"
     ]
    }
   ],
   "source": [
    "array_linear_3 = np.linspace(0,100, 20, endpoint= False, retstep = True)\n",
    "print(array_linear_3)"
   ]
  },
  {
   "cell_type": "markdown",
   "id": "c22ccbf9",
   "metadata": {},
   "source": [
    "# para descobrir o tamanho de um array.\n",
    "- ***SHAPE***: Mostra o tamanho de cada dimensão.\n",
    "- ***SIZE***: Mostra o número de elementos, normalmente é só multiplicar as dimensões.\n",
    "- ***NDIM***: Mostra o número de dimensões que o array tem.\n",
    "- ***LEN()***: Mostra a quantidade de arrays bidimensional(matrizes) dentro do array tridimensional\n",
    "    - se for um array bidimensional mostra a quantidade de linhas\n",
    "    - se for um array unidimensional mostra a quantidade de elementos dentro."
   ]
  },
  {
   "cell_type": "code",
   "execution_count": 28,
   "id": "eceb647b",
   "metadata": {},
   "outputs": [
    {
     "name": "stdout",
     "output_type": "stream",
     "text": [
      "[[[0. 0. 0.]\n",
      "  [0. 0. 0.]]\n",
      "\n",
      " [[0. 0. 0.]\n",
      "  [0. 0. 0.]]\n",
      "\n",
      " [[0. 0. 0.]\n",
      "  [0. 0. 0.]]\n",
      "\n",
      " [[0. 0. 0.]\n",
      "  [0. 0. 0.]]]\n"
     ]
    }
   ],
   "source": [
    "vazio4 = np.empty((4,2,3))\n",
    "print(vazio4)"
   ]
  },
  {
   "cell_type": "code",
   "execution_count": 29,
   "id": "a9dc6ae8",
   "metadata": {},
   "outputs": [
    {
     "name": "stdout",
     "output_type": "stream",
     "text": [
      "(4, 2, 3)\n",
      "24\n",
      "3\n",
      "4\n"
     ]
    }
   ],
   "source": [
    "print(vazio4.shape)\n",
    "print(vazio4.size)\n",
    "print(vazio4.ndim)\n",
    "print(len(vazio4))\n"
   ]
  },
  {
   "cell_type": "markdown",
   "id": "e055d90f",
   "metadata": {},
   "source": [
    "# mudar o tamanho de um array.\n",
    "# rankear um array.\n",
    "- ver função SORT e RESHAPE pq as damas não mostraram no vídeo."
   ]
  },
  {
   "cell_type": "markdown",
   "id": "61d31d83",
   "metadata": {},
   "source": [
    "# como trasforma um vetor (1d) em uma matrix(2d)\n",
    "- o newaxis cria uma nova dimensão.\n",
    "- O np.newaxis,: forma uma matrix estranha de uma linha, mas com duas dimensões"
   ]
  },
  {
   "cell_type": "code",
   "execution_count": 30,
   "id": "4920ec1a",
   "metadata": {},
   "outputs": [
    {
     "name": "stdout",
     "output_type": "stream",
     "text": [
      "(1, 3)\n",
      "[[1 2 3]]\n"
     ]
    }
   ],
   "source": [
    "m = np.array([1, 2, 3])\n",
    "m1 = m[np.newaxis,:]\n",
    "print(m1.shape)\n",
    "print(m1)"
   ]
  },
  {
   "cell_type": "markdown",
   "id": "b8d889d3",
   "metadata": {},
   "source": [
    "#### Se eu colocar os dois pontos antes do np [:,np.newaxis] ele troca o número da linha pela coluna e vice-vesa\n"
   ]
  },
  {
   "cell_type": "code",
   "execution_count": 31,
   "id": "cc7575f3",
   "metadata": {},
   "outputs": [
    {
     "name": "stdout",
     "output_type": "stream",
     "text": [
      "(3, 1)\n",
      "[[1]\n",
      " [2]\n",
      " [3]]\n"
     ]
    }
   ],
   "source": [
    "m = np.array([1, 2, 3])\n",
    "m2 = m[:,np.newaxis]\n",
    "print(m2.shape)\n",
    "print(m2)"
   ]
  },
  {
   "cell_type": "markdown",
   "id": "6876d13f",
   "metadata": {},
   "source": [
    "# como conseguir pegar um intem específico do array."
   ]
  },
  {
   "cell_type": "code",
   "execution_count": 32,
   "id": "7810218b",
   "metadata": {},
   "outputs": [
    {
     "name": "stdout",
     "output_type": "stream",
     "text": [
      "[[2 5 7]\n",
      " [5 3 9]\n",
      " [4 8 1]]\n"
     ]
    }
   ],
   "source": [
    "b = np.array([(2, 5, 7),(5, 3, 9),(4, 8, 1)])\n",
    "print(b)"
   ]
  },
  {
   "cell_type": "markdown",
   "id": "96e5a478",
   "metadata": {},
   "source": [
    "#### para pegar uma linha a 1º dimensão, eu coloco entre [] depois do array\n",
    "- lembrando que começa a conta do ZERO.\n",
    "- pesquisar mais pq a madame só falou isso no vídeo."
   ]
  },
  {
   "cell_type": "code",
   "execution_count": 33,
   "id": "2350b6c4",
   "metadata": {},
   "outputs": [
    {
     "name": "stdout",
     "output_type": "stream",
     "text": [
      "[4 8 1]\n"
     ]
    }
   ],
   "source": [
    "print(b[2])"
   ]
  },
  {
   "cell_type": "markdown",
   "id": "2b9048cb",
   "metadata": {},
   "source": [
    "#### para pegar um item vc coloca a linha e depois a coluna dele"
   ]
  },
  {
   "cell_type": "code",
   "execution_count": 34,
   "id": "f1a96e53",
   "metadata": {},
   "outputs": [
    {
     "name": "stdout",
     "output_type": "stream",
     "text": [
      "8\n"
     ]
    }
   ],
   "source": [
    "print(b[2][1])"
   ]
  },
  {
   "cell_type": "markdown",
   "id": "fe44c65a",
   "metadata": {},
   "source": [
    "# contatenar, junta array\n",
    "- função np.concatenate(())\n",
    "- olha mais funções pq a layde não fala no vídeo."
   ]
  },
  {
   "cell_type": "markdown",
   "id": "e94f340d",
   "metadata": {},
   "source": [
    "#### obiviamente o primeiro array selecionado fica na frente."
   ]
  },
  {
   "cell_type": "code",
   "execution_count": 35,
   "id": "23cd076a",
   "metadata": {},
   "outputs": [
    {
     "name": "stdout",
     "output_type": "stream",
     "text": [
      "[1 2 3 4 5 6]\n",
      "[4 5 6 1 2 3]\n"
     ]
    }
   ],
   "source": [
    "x = np.array([1, 2, 3])\n",
    "z = np.array([4, 5, 6])\n",
    "\n",
    "w = np.concatenate((x, z))\n",
    "y = np.concatenate((z, x))\n",
    "\n",
    "print(w)\n",
    "print(y)"
   ]
  },
  {
   "cell_type": "markdown",
   "id": "a66a092e",
   "metadata": {},
   "source": [
    "# consultar itens de uma array."
   ]
  },
  {
   "cell_type": "code",
   "execution_count": 36,
   "id": "5eb8f268",
   "metadata": {},
   "outputs": [
    {
     "name": "stdout",
     "output_type": "stream",
     "text": [
      "[[2 5 7]\n",
      " [5 3 9]\n",
      " [4 8 1]\n",
      " [8 5 9]]\n"
     ]
    }
   ],
   "source": [
    "l = np.array([(2, 5, 7),(5, 3, 9),(4, 8, 1),(8, 5, 9)])\n",
    "print(l)"
   ]
  },
  {
   "cell_type": "markdown",
   "id": "c717ba67",
   "metadata": {},
   "source": [
    "#### como pesquisar itens maior, menor, igual, diferente..etc dentro de um array\n",
    "- variável_array[variável_array ***condição***]"
   ]
  },
  {
   "cell_type": "code",
   "execution_count": 37,
   "id": "801dc69a",
   "metadata": {},
   "outputs": [
    {
     "name": "stdout",
     "output_type": "stream",
     "text": [
      "[9 9]\n",
      "..............\n",
      "[2 3 1]\n",
      "..............\n",
      "[2 5 5 3 4 1 5]\n",
      "..............\n",
      "[2 5 7 5 3 9 4 1 5 9]\n",
      "..............\n",
      "[9 9]\n",
      "..............\n",
      "[2 4 8 8]\n"
     ]
    }
   ],
   "source": [
    "maior_8 = l[l>8]\n",
    "print(maior_8)\n",
    "\n",
    "print('..............')\n",
    "\n",
    "menor_4 = l[l<4]\n",
    "print(menor_4)\n",
    "\n",
    "print('..............')\n",
    "\n",
    "menor_igual_5 = l[l<=5]\n",
    "print(menor_igual_5)\n",
    "\n",
    "print('..............')\n",
    "\n",
    "diferente_8 = l[l!=8] \n",
    "print(diferente_8)\n",
    "\n",
    "print('..............')\n",
    "\n",
    "igual_9 = l[l==9]\n",
    "print(igual_9)\n",
    "\n",
    "print('..............')\n",
    "\n",
    "divisão_por2_resto_0 = l[l%2==0]    #numeros_pares\n",
    "print(divisão_por2_resto_0)"
   ]
  },
  {
   "cell_type": "markdown",
   "id": "d9e31754",
   "metadata": {},
   "source": [
    "#### achando o maior, menor, a soma e a média dos elementos de um array.\n",
    "#### e fazendo alguns calulos tbm"
   ]
  },
  {
   "cell_type": "code",
   "execution_count": 38,
   "id": "a4f9224c",
   "metadata": {},
   "outputs": [
    {
     "name": "stdout",
     "output_type": "stream",
     "text": [
      "7\n",
      "4\n",
      "1\n",
      "2.3333333333333335\n"
     ]
    }
   ],
   "source": [
    "p = np.array([1, 2, 4])\n",
    "\n",
    "print(p.sum())   #soma\n",
    "print(p.max())   #máximo\n",
    "print(p.min())   #mínimo\n",
    "print(p.mean())  #média"
   ]
  },
  {
   "cell_type": "markdown",
   "id": "26c5a82a",
   "metadata": {},
   "source": [
    "# gerando amostras aleatórias.\n",
    "- do random dentro do numpy eu peguei o default_rng\n",
    "- integera gera números aleatórios inteiros\n",
    "    - de no máximo o valor 10(nenhum número com valor superior), e size(tamanho) 2 por 4, 2 dimensões\n",
    "    \n",
    "\n",
    "#### olha mais sobre pq as laides dnv só falaram isso"
   ]
  },
  {
   "cell_type": "code",
   "execution_count": 39,
   "id": "d1235731",
   "metadata": {},
   "outputs": [],
   "source": [
    "from numpy.random import default_rng"
   ]
  },
  {
   "cell_type": "code",
   "execution_count": 40,
   "id": "bfb51a38",
   "metadata": {},
   "outputs": [
    {
     "name": "stdout",
     "output_type": "stream",
     "text": [
      "[[4 4 4 9]\n",
      " [3 5 2 0]]\n"
     ]
    }
   ],
   "source": [
    "rng = default_rng()\n",
    "aleatório = rng.integers(10, size = (2,4))\n",
    "print(aleatório)"
   ]
  },
  {
   "cell_type": "markdown",
   "id": "901021d8",
   "metadata": {},
   "source": [
    "# também posso criar amostrar assim de forma mais simples.\n",
    "- eu uso o np.random.rand()\n",
    "- colocando 1 arguemnto tenho um VETOR com 10 elementos.\n",
    "- O np.random.RAND() cria números aleatôrios entre 0 e 1"
   ]
  },
  {
   "cell_type": "code",
   "execution_count": 41,
   "id": "491aba9a",
   "metadata": {},
   "outputs": [
    {
     "name": "stdout",
     "output_type": "stream",
     "text": [
      "[0.97146288 0.03241108 0.54694503 0.01427429 0.13234536 0.99802645\n",
      " 0.11475991 0.87687189 0.12032636 0.85444501]\n"
     ]
    }
   ],
   "source": [
    "w = np.random.rand(10)\n",
    "print(w)"
   ]
  },
  {
   "cell_type": "markdown",
   "id": "a1272bb2",
   "metadata": {},
   "source": [
    "### colocando 2 argumentos tenho uma MATRIX com elementos aleatórios\n",
    "- primeiro linhas, o segundo são colunas."
   ]
  },
  {
   "cell_type": "code",
   "execution_count": 42,
   "id": "1d002031",
   "metadata": {},
   "outputs": [
    {
     "name": "stdout",
     "output_type": "stream",
     "text": [
      "[[0.41107187 0.98798134 0.61717706]\n",
      " [0.45978088 0.81927064 0.44062622]\n",
      " [0.96691506 0.85025771 0.99849495]\n",
      " [0.68399958 0.97916156 0.63593248]]\n"
     ]
    }
   ],
   "source": [
    "f = np.random.rand(4,3)\n",
    "print(f)"
   ]
  },
  {
   "cell_type": "markdown",
   "id": "ef442771",
   "metadata": {},
   "source": [
    "### colocando 3 argumentos tenho um tensor."
   ]
  },
  {
   "cell_type": "code",
   "execution_count": 43,
   "id": "99679430",
   "metadata": {
    "scrolled": true
   },
   "outputs": [
    {
     "name": "stdout",
     "output_type": "stream",
     "text": [
      "[[[0.49517981 0.59895718]\n",
      "  [0.62782095 0.31046356]\n",
      "  [0.47575039 0.69842862]]\n",
      "\n",
      " [[0.07078372 0.62889181]\n",
      "  [0.76450508 0.72427178]\n",
      "  [0.93805283 0.88402546]]\n",
      "\n",
      " [[0.21835959 0.67252144]\n",
      "  [0.42317206 0.80587158]\n",
      "  [0.18157874 0.16822105]]\n",
      "\n",
      " [[0.5240164  0.41131349]\n",
      "  [0.63489627 0.64762238]\n",
      "  [0.68914219 0.79761426]]]\n"
     ]
    }
   ],
   "source": [
    "ff = np.random.rand(4,3,2)\n",
    "print(ff)"
   ]
  },
  {
   "cell_type": "markdown",
   "id": "2ce85afe",
   "metadata": {},
   "source": [
    "# pegar partes do array."
   ]
  },
  {
   "cell_type": "code",
   "execution_count": 44,
   "id": "a11a03b9",
   "metadata": {
    "scrolled": true
   },
   "outputs": [
    {
     "name": "stdout",
     "output_type": "stream",
     "text": [
      "[10 11 12 13 14 15 16 17 18 19]\n"
     ]
    }
   ],
   "source": [
    "jj = np.arange(10,20)\n",
    "print(jj)"
   ]
  },
  {
   "cell_type": "markdown",
   "id": "7255a357",
   "metadata": {},
   "source": [
    "##### para pegar um ítem do array é igual as listas, vc coloca colchetes[]\n",
    "- ele começa a conta a partir do zero.\n",
    "- aqui eu quero o quarto ítem na verdade.\n",
    "- com duas dimensões ele acessa as linhas.\n",
    "- com 3 dimensões ele acessa as matrizes."
   ]
  },
  {
   "cell_type": "code",
   "execution_count": 45,
   "id": "74ee66fa",
   "metadata": {},
   "outputs": [
    {
     "data": {
      "text/plain": [
       "13"
      ]
     },
     "execution_count": 45,
     "metadata": {},
     "output_type": "execute_result"
    }
   ],
   "source": [
    "jj[3]"
   ]
  },
  {
   "cell_type": "markdown",
   "id": "26bed728",
   "metadata": {},
   "source": [
    "#### como nas lista vc pode pegar de tras para a frente, usando números negativos.\n",
    "- ele começa a contar a parti do -1 igual nas listas."
   ]
  },
  {
   "cell_type": "code",
   "execution_count": 46,
   "id": "a2750dc2",
   "metadata": {},
   "outputs": [
    {
     "data": {
      "text/plain": [
       "18"
      ]
     },
     "execution_count": 46,
     "metadata": {},
     "output_type": "execute_result"
    }
   ],
   "source": [
    "jj[-2]"
   ]
  },
  {
   "cell_type": "markdown",
   "id": "1889209d",
   "metadata": {},
   "source": [
    "### para pegar um valor específico vc coloca não só a linha, mas a coluna também que vc quer.\n",
    "- vc pode separa as linhas da coluna com colchetes e vírgula, mas tbm com [para linhas] e [para colunas]\n",
    "- dar acessar um array tridimensional assim tbm"
   ]
  },
  {
   "cell_type": "code",
   "execution_count": 47,
   "id": "b51b32ab",
   "metadata": {},
   "outputs": [
    {
     "name": "stdout",
     "output_type": "stream",
     "text": [
      "[[0.2984862  0.42324371 0.65319086 0.02889567 0.56729736]\n",
      " [0.69575935 0.44022333 0.83242517 0.00646181 0.49870234]\n",
      " [0.84375873 0.69565919 0.14225973 0.43678033 0.48901553]\n",
      " [0.55088487 0.07743536 0.95384649 0.19208243 0.51457012]\n",
      " [0.1881186  0.64067899 0.74194065 0.34843297 0.7956799 ]]\n"
     ]
    }
   ],
   "source": [
    "bb = np.random.rand(5,5)\n",
    "print(bb)"
   ]
  },
  {
   "cell_type": "code",
   "execution_count": 48,
   "id": "797dee5a",
   "metadata": {},
   "outputs": [
    {
     "data": {
      "text/plain": [
       "0.4232437092716017"
      ]
     },
     "execution_count": 48,
     "metadata": {},
     "output_type": "execute_result"
    }
   ],
   "source": [
    "#primeira forma.\n",
    "bb[0,1]"
   ]
  },
  {
   "cell_type": "code",
   "execution_count": 49,
   "id": "f67ff552",
   "metadata": {},
   "outputs": [
    {
     "data": {
      "text/plain": [
       "0.4232437092716017"
      ]
     },
     "execution_count": 49,
     "metadata": {},
     "output_type": "execute_result"
    }
   ],
   "source": [
    "#segunda forma.\n",
    "bb[0][1]"
   ]
  },
  {
   "cell_type": "markdown",
   "id": "95c66c10",
   "metadata": {},
   "source": [
    "# acessando um array tridimensional\n",
    "- 2 matriz, 3 linha, 1 coluna\n",
    "- lembrando que começa a contar a partir do zero."
   ]
  },
  {
   "cell_type": "code",
   "execution_count": 50,
   "id": "085dc0d0",
   "metadata": {},
   "outputs": [
    {
     "name": "stdout",
     "output_type": "stream",
     "text": [
      "[[[0.19793792 0.27397787]\n",
      "  [0.75678542 0.50442607]\n",
      "  [0.53571166 0.07198977]\n",
      "  [0.67628846 0.44047447]\n",
      "  [0.34110921 0.74443771]]\n",
      "\n",
      " [[0.52570672 0.39971177]\n",
      "  [0.20925286 0.87764127]\n",
      "  [0.8340272  0.33641966]\n",
      "  [0.14002265 0.26101397]\n",
      "  [0.96121268 0.25963058]]\n",
      "\n",
      " [[0.25845669 0.96819211]\n",
      "  [0.74249288 0.19282039]\n",
      "  [0.44957533 0.18332412]\n",
      "  [0.76407228 0.95620317]\n",
      "  [0.88731984 0.00672624]]\n",
      "\n",
      " [[0.52838588 0.69224818]\n",
      "  [0.52814887 0.06765224]\n",
      "  [0.88038329 0.11385801]\n",
      "  [0.53825839 0.97752762]\n",
      "  [0.32215609 0.09007272]]\n",
      "\n",
      " [[0.84577783 0.89075128]\n",
      "  [0.96841005 0.65446032]\n",
      "  [0.67251929 0.13363805]\n",
      "  [0.06258442 0.13352807]\n",
      "  [0.12560824 0.04573472]]]\n"
     ]
    }
   ],
   "source": [
    "bh = np.random.rand(5,5,2)\n",
    "print(bh)"
   ]
  },
  {
   "cell_type": "code",
   "execution_count": 51,
   "id": "16479f26",
   "metadata": {},
   "outputs": [
    {
     "data": {
      "text/plain": [
       "0.9562031735413059"
      ]
     },
     "execution_count": 51,
     "metadata": {},
     "output_type": "execute_result"
    }
   ],
   "source": [
    "# primeira forma.\n",
    "bh[2,3,1]"
   ]
  },
  {
   "cell_type": "code",
   "execution_count": 52,
   "id": "34545d0a",
   "metadata": {},
   "outputs": [
    {
     "data": {
      "text/plain": [
       "0.9562031735413059"
      ]
     },
     "execution_count": 52,
     "metadata": {},
     "output_type": "execute_result"
    }
   ],
   "source": [
    "# segunda forma.\n",
    "bh[2][3][1]"
   ]
  },
  {
   "cell_type": "markdown",
   "id": "227cbf5c",
   "metadata": {},
   "source": [
    "\n",
    "# como alterar números de um array- indexação\n",
    "- igual para encontrar, porém vc vai colocar igual ao novo valor que vc quer. quase igual as listas."
   ]
  },
  {
   "cell_type": "code",
   "execution_count": 53,
   "id": "3e7d7eb9",
   "metadata": {},
   "outputs": [
    {
     "name": "stdout",
     "output_type": "stream",
     "text": [
      "[[0.51571894 0.2465908  0.37988832 0.04282976 0.48432324]\n",
      " [0.57296963 0.28209579 0.11514703 0.90674846 0.73621649]\n",
      " [0.35815103 0.17941715 0.40504424 0.0627902  0.34616877]\n",
      " [0.10285368 0.70313475 0.2616349  0.63189748 0.04130292]\n",
      " [0.2045342  0.77857246 0.17755024 0.89615596 0.67459419]]\n"
     ]
    }
   ],
   "source": [
    "bj = np.random.rand(5,5)\n",
    "print(bj)"
   ]
  },
  {
   "cell_type": "markdown",
   "id": "651e2a35",
   "metadata": {},
   "source": [
    "#### na linha 1 coluna 2, vai alterar para 4\n",
    "- lembrando que começa a contar a partir do zero."
   ]
  },
  {
   "cell_type": "code",
   "execution_count": 54,
   "id": "b4345b1d",
   "metadata": {},
   "outputs": [],
   "source": [
    "bj[1,2] = 4"
   ]
  },
  {
   "cell_type": "code",
   "execution_count": 55,
   "id": "9673b531",
   "metadata": {},
   "outputs": [
    {
     "name": "stdout",
     "output_type": "stream",
     "text": [
      "[[0.51571894 0.2465908  0.37988832 0.04282976 0.48432324]\n",
      " [0.57296963 0.28209579 4.         0.90674846 0.73621649]\n",
      " [0.35815103 0.17941715 0.40504424 0.0627902  0.34616877]\n",
      " [0.10285368 0.70313475 0.2616349  0.63189748 0.04130292]\n",
      " [0.2045342  0.77857246 0.17755024 0.89615596 0.67459419]]\n"
     ]
    }
   ],
   "source": [
    "print(bj)"
   ]
  },
  {
   "cell_type": "markdown",
   "id": "c62018db",
   "metadata": {},
   "source": [
    "# como cortar arrays -slice\n",
    "- método muito comun ao cortar listas\n",
    "- para pegar array unidimensional é só colocar o intevalo entre colchetes.\n",
    "\n",
    "- ***AVISO: maioria das vezes o último valor não entra na conta nos arrays***"
   ]
  },
  {
   "cell_type": "code",
   "execution_count": 56,
   "id": "8dd28cca",
   "metadata": {},
   "outputs": [
    {
     "name": "stdout",
     "output_type": "stream",
     "text": [
      "[ 4  5  6  7  8  9 10 11 12 13 14 15]\n"
     ]
    }
   ],
   "source": [
    "rt = np.arange(4,16)\n",
    "print(rt)"
   ]
  },
  {
   "cell_type": "markdown",
   "id": "c253df50",
   "metadata": {},
   "source": [
    "#### array unidimensional: peguei do segundo valor até o sexta posição.\n",
    "- lembrando que conta do zero.\n",
    "- o último elemento fica de fora. ele exclui o término."
   ]
  },
  {
   "cell_type": "code",
   "execution_count": 57,
   "id": "ddd5df32",
   "metadata": {},
   "outputs": [
    {
     "data": {
      "text/plain": [
       "array([ 6,  7,  8,  9, 10])"
      ]
     },
     "execution_count": 57,
     "metadata": {},
     "output_type": "execute_result"
    }
   ],
   "source": [
    "rt[2:7]"
   ]
  },
  {
   "cell_type": "markdown",
   "id": "cb8f9729",
   "metadata": {},
   "source": [
    "### pega de tal valor até o fim ou começo\n",
    "- vc coloca o VALOR e : antes ou depois. igual nas listas e no pandas.\n",
    "- se quiser de valor para baixo antes, se quise para cima depois."
   ]
  },
  {
   "cell_type": "code",
   "execution_count": 58,
   "id": "c301701d",
   "metadata": {},
   "outputs": [
    {
     "name": "stdout",
     "output_type": "stream",
     "text": [
      "[ 6  7  8  9 10 11 12 13 14 15]\n"
     ]
    }
   ],
   "source": [
    "st = np.arange(6,16)\n",
    "print(st)"
   ]
  },
  {
   "cell_type": "code",
   "execution_count": 59,
   "id": "894d65b4",
   "metadata": {},
   "outputs": [
    {
     "data": {
      "text/plain": [
       "array([11, 12, 13, 14, 15])"
      ]
     },
     "execution_count": 59,
     "metadata": {},
     "output_type": "execute_result"
    }
   ],
   "source": [
    "# do quinto valor em diante\n",
    "st[5:]"
   ]
  },
  {
   "cell_type": "code",
   "execution_count": 60,
   "id": "af849e73",
   "metadata": {},
   "outputs": [
    {
     "data": {
      "text/plain": [
       "array([ 6,  7,  8,  9, 10, 11])"
      ]
     },
     "execution_count": 60,
     "metadata": {},
     "output_type": "execute_result"
    }
   ],
   "source": [
    "# do sexto valor para trás.\n",
    "st[:6]"
   ]
  },
  {
   "cell_type": "code",
   "execution_count": 61,
   "id": "7494d488",
   "metadata": {},
   "outputs": [
    {
     "data": {
      "text/plain": [
       "array([ 6,  7,  8,  9, 10, 11, 12, 13, 14, 15])"
      ]
     },
     "execution_count": 61,
     "metadata": {},
     "output_type": "execute_result"
    }
   ],
   "source": [
    "#CURIOSIDADE: sem valores ele pega o arra inteiro\n",
    "st[:]"
   ]
  },
  {
   "cell_type": "markdown",
   "id": "fcc1c202",
   "metadata": {},
   "source": [
    "### pegar partes de um array bidimensional."
   ]
  },
  {
   "cell_type": "code",
   "execution_count": 4,
   "id": "d3d8a9d3",
   "metadata": {},
   "outputs": [
    {
     "name": "stdout",
     "output_type": "stream",
     "text": [
      "[[0.29948163 0.92377746 0.1033686  0.98086125 0.95237345]\n",
      " [0.9607604  0.79369684 0.84008756 0.68607951 0.95926248]\n",
      " [0.22039994 0.70616893 0.63040194 0.96003349 0.06357755]\n",
      " [0.05918537 0.76648698 0.7633697  0.80737572 0.99404831]\n",
      " [0.86849426 0.72576971 0.2904951  0.73741332 0.34054885]]\n"
     ]
    }
   ],
   "source": [
    "bc = np.random.rand(5,5)\n",
    "print(bc)"
   ]
  },
  {
   "cell_type": "markdown",
   "id": "e7af55cd",
   "metadata": {},
   "source": [
    "### para pegar linhas é assim\n",
    "-  da linha 0 a linha 2\n",
    "    - ele não pegar a última linha, o 2, mas sim até a 1, pq conta a partir do 0"
   ]
  },
  {
   "cell_type": "code",
   "execution_count": 10,
   "id": "b33b79bc",
   "metadata": {},
   "outputs": [
    {
     "name": "stdout",
     "output_type": "stream",
     "text": [
      "[[0.29948163 0.92377746 0.1033686  0.98086125 0.95237345]\n",
      " [0.9607604  0.79369684 0.84008756 0.68607951 0.95926248]]\n"
     ]
    }
   ],
   "source": [
    "print(bc[0:2])"
   ]
  },
  {
   "cell_type": "markdown",
   "id": "99cd0419",
   "metadata": {},
   "source": [
    "### para pegar coluna tbm vc tem que colocar o valor da coluna depois das linhas.\n",
    "- separando com vírgula.\n",
    "- peguei as 2 primeiras colunas somente. sem conta a último número de novo."
   ]
  },
  {
   "cell_type": "code",
   "execution_count": 16,
   "id": "3559dcdd",
   "metadata": {},
   "outputs": [
    {
     "name": "stdout",
     "output_type": "stream",
     "text": [
      "[0.1033686  0.84008756]\n"
     ]
    }
   ],
   "source": [
    "print(bc[0:2, 2])"
   ]
  },
  {
   "cell_type": "markdown",
   "id": "1c8f2198",
   "metadata": {},
   "source": [
    "### para pegar somentes colunas, coloca : nas linhas.\n",
    "- ele colocou a coluna em forma de linha, para facilitar."
   ]
  },
  {
   "cell_type": "code",
   "execution_count": 14,
   "id": "57aa4acc",
   "metadata": {},
   "outputs": [
    {
     "name": "stdout",
     "output_type": "stream",
     "text": [
      "[0.1033686  0.84008756 0.63040194 0.7633697  0.2904951 ]\n"
     ]
    }
   ],
   "source": [
    "print(bc[:, 2])"
   ]
  },
  {
   "cell_type": "markdown",
   "id": "2a4857bc",
   "metadata": {},
   "source": [
    "##### pegar um intervalo de linhas e colunas\n",
    "- lembrando que o último valor fica de fora, é como se fosse [0:1, 2:3]"
   ]
  },
  {
   "cell_type": "code",
   "execution_count": 13,
   "id": "cfab29bf",
   "metadata": {},
   "outputs": [
    {
     "name": "stdout",
     "output_type": "stream",
     "text": [
      "[[0.1033686  0.98086125]\n",
      " [0.84008756 0.68607951]]\n"
     ]
    }
   ],
   "source": [
    "print(bc[0:2, 2:4])"
   ]
  },
  {
   "cell_type": "markdown",
   "id": "8b540d65",
   "metadata": {},
   "source": [
    "### eu posso colocar uma terceira condição, um passo(step)"
   ]
  },
  {
   "cell_type": "code",
   "execution_count": 25,
   "id": "d3a70052",
   "metadata": {
    "scrolled": true
   },
   "outputs": [
    {
     "name": "stdout",
     "output_type": "stream",
     "text": [
      "[[0.38336773 0.50595649 0.97885342 0.70286536 0.42414782]\n",
      " [0.52680208 0.3577295  0.94090506 0.02468805 0.13268951]\n",
      " [0.84353585 0.50286627 0.18764213 0.60166861 0.83680692]\n",
      " [0.45105357 0.35030282 0.74346505 0.15781485 0.88048949]\n",
      " [0.17328653 0.26739872 0.47863878 0.1678731  0.80801837]]\n",
      "\n",
      "\n",
      "[ 2  3  4  5  6  7  8  9 10 11]\n"
     ]
    }
   ],
   "source": [
    "bf = np.random.rand(5, 5)\n",
    "print(bf)\n",
    "\n",
    "print('\\n') # ai como usa quebra de linha nessa situação #barra invertida.\n",
    "2\n",
    "fb = np.arange(2,12)\n",
    "print(fb)"
   ]
  },
  {
   "cell_type": "markdown",
   "id": "2a442b23",
   "metadata": {},
   "source": [
    "- coloco mais 2 pontos com o passo depois.\n",
    "- aqui foi de 2 em 2, lembrando que ele pula 1 casa, pq o 2 não entra na contagem.\n",
    "- a matriz foi de 0 a 5, de 2 em 2.\n",
    "- o vetor foi de 2 a 11, de 3 em 3."
   ]
  },
  {
   "cell_type": "code",
   "execution_count": 27,
   "id": "b30e624c",
   "metadata": {},
   "outputs": [
    {
     "name": "stdout",
     "output_type": "stream",
     "text": [
      "[[0.38336773 0.50595649 0.97885342 0.70286536 0.42414782]\n",
      " [0.84353585 0.50286627 0.18764213 0.60166861 0.83680692]\n",
      " [0.17328653 0.26739872 0.47863878 0.1678731  0.80801837]]\n",
      "\n",
      "\n",
      "[ 4  7 10]\n"
     ]
    }
   ],
   "source": [
    "print(bf[0:6:2])\n",
    "\n",
    "print('\\n')\n",
    "\n",
    "print(fb[2:11:3])"
   ]
  },
  {
   "cell_type": "markdown",
   "id": "691350dd",
   "metadata": {},
   "source": [
    "### coluna usa o mesmo princípio."
   ]
  },
  {
   "cell_type": "code",
   "execution_count": 30,
   "id": "b904e3c9",
   "metadata": {},
   "outputs": [
    {
     "name": "stdout",
     "output_type": "stream",
     "text": [
      "[[0.38336773 0.97885342 0.42414782]\n",
      " [0.52680208 0.94090506 0.13268951]\n",
      " [0.84353585 0.18764213 0.83680692]\n",
      " [0.45105357 0.74346505 0.88048949]\n",
      " [0.17328653 0.47863878 0.80801837]]\n"
     ]
    }
   ],
   "source": [
    "print(bf[:, 0:5:2])"
   ]
  },
  {
   "cell_type": "markdown",
   "id": "68e87155",
   "metadata": {},
   "source": [
    "## pega o array invertido"
   ]
  },
  {
   "cell_type": "code",
   "execution_count": 37,
   "id": "32d4a989",
   "metadata": {},
   "outputs": [
    {
     "name": "stdout",
     "output_type": "stream",
     "text": [
      "[ 2  3  4  5  6  7  8  9 10 11 12 13 14]\n"
     ]
    }
   ],
   "source": [
    "dr = np.arange(2,15)\n",
    "print(dr)"
   ]
  },
  {
   "cell_type": "markdown",
   "id": "2bc64883",
   "metadata": {},
   "source": [
    "#### ele o segundo elemento SEMPRE fica fora da contagem.\n",
    "- ele coloca a ordem invertida por causa do -1\n",
    "- eu tenho que inverte os números ***SEMPRE***, além de coloca o terceiro passo negativo."
   ]
  },
  {
   "cell_type": "code",
   "execution_count": 45,
   "id": "f95790e4",
   "metadata": {},
   "outputs": [
    {
     "name": "stdout",
     "output_type": "stream",
     "text": [
      "[10  9  8  7  6  5]\n"
     ]
    }
   ],
   "source": [
    "print(dr[8:2:-1])"
   ]
  },
  {
   "cell_type": "markdown",
   "id": "b1ba8a63",
   "metadata": {},
   "source": [
    "#### aqui o segundo termo é 8, logo ele fica fora da conta.\n",
    "- contou até 7 na verdade, considerando ***SEMPRE*** o ***ZERO.***"
   ]
  },
  {
   "cell_type": "code",
   "execution_count": 41,
   "id": "8141bea3",
   "metadata": {},
   "outputs": [
    {
     "name": "stdout",
     "output_type": "stream",
     "text": [
      "[4 5 6 7 8 9]\n"
     ]
    }
   ],
   "source": [
    "print(dr[2:8])"
   ]
  },
  {
   "cell_type": "markdown",
   "id": "abde7f5c",
   "metadata": {},
   "source": [
    "#### de 2 em 2 casa, mas coom resultado mostrado investido."
   ]
  },
  {
   "cell_type": "code",
   "execution_count": 43,
   "id": "5c442aea",
   "metadata": {},
   "outputs": [
    {
     "name": "stdout",
     "output_type": "stream",
     "text": [
      "[10  8  6]\n"
     ]
    }
   ],
   "source": [
    "print(dr[8:2:-2])"
   ]
  },
  {
   "cell_type": "markdown",
   "id": "a1038ee1",
   "metadata": {},
   "source": [
    "# função .DTYPE\n",
    "- mostra o tipo de dado que está contido no array."
   ]
  },
  {
   "cell_type": "code",
   "execution_count": 3,
   "id": "48e64c4e",
   "metadata": {},
   "outputs": [
    {
     "data": {
      "text/plain": [
       "array([-1.96694624,  0.83258379, -0.06771384,  0.78441339, -1.75519035,\n",
       "       -0.62119201,  0.34982443, -0.33089104,  0.02460946,  1.07717649])"
      ]
     },
     "execution_count": 3,
     "metadata": {},
     "output_type": "execute_result"
    }
   ],
   "source": [
    "array = np.random.randn(10)\n",
    "array"
   ]
  },
  {
   "cell_type": "code",
   "execution_count": 5,
   "id": "e2afa369",
   "metadata": {},
   "outputs": [
    {
     "data": {
      "text/plain": [
       "dtype('float64')"
      ]
     },
     "execution_count": 5,
     "metadata": {},
     "output_type": "execute_result"
    }
   ],
   "source": [
    "array.dtype"
   ]
  },
  {
   "cell_type": "markdown",
   "id": "4378a4ef",
   "metadata": {},
   "source": [
    "## como mudar o tipo do arquivo contido dentro do array.\n",
    "- usa-se array.astype('tipo_que_eu_quero')"
   ]
  },
  {
   "cell_type": "code",
   "execution_count": 8,
   "id": "e10628cb",
   "metadata": {},
   "outputs": [
    {
     "data": {
      "text/plain": [
       "array([-1,  0,  0,  0, -1,  0,  0,  0,  0,  1])"
      ]
     },
     "execution_count": 8,
     "metadata": {},
     "output_type": "execute_result"
    }
   ],
   "source": [
    "# ele corta as casas decimais, como esperado.\n",
    "array.astype('int')"
   ]
  },
  {
   "cell_type": "markdown",
   "id": "612fad7c",
   "metadata": {},
   "source": [
    "### dar falso somente quando tiver ZERO."
   ]
  },
  {
   "cell_type": "code",
   "execution_count": 9,
   "id": "9ffa9fe8",
   "metadata": {},
   "outputs": [
    {
     "data": {
      "text/plain": [
       "array([ True,  True,  True,  True,  True,  True,  True,  True,  True,\n",
       "        True])"
      ]
     },
     "execution_count": 9,
     "metadata": {},
     "output_type": "execute_result"
    }
   ],
   "source": [
    "array.astype('bool')"
   ]
  },
  {
   "cell_type": "markdown",
   "id": "c09a60d7",
   "metadata": {},
   "source": [
    "#### agora vou mudar um valor para zero para ter um ***False***.\n",
    "- o item 3 agora é ***False.***"
   ]
  },
  {
   "cell_type": "code",
   "execution_count": 10,
   "id": "1ae2dcb4",
   "metadata": {},
   "outputs": [
    {
     "data": {
      "text/plain": [
       "array([-1.96694624,  0.83258379,  0.        ,  0.78441339, -1.75519035,\n",
       "       -0.62119201,  0.34982443, -0.33089104,  0.02460946,  1.07717649])"
      ]
     },
     "execution_count": 10,
     "metadata": {},
     "output_type": "execute_result"
    }
   ],
   "source": [
    "array[2]= 0\n",
    "array"
   ]
  },
  {
   "cell_type": "code",
   "execution_count": 11,
   "id": "aed73105",
   "metadata": {},
   "outputs": [
    {
     "data": {
      "text/plain": [
       "array([ True,  True, False,  True,  True,  True,  True,  True,  True,\n",
       "        True])"
      ]
     },
     "execution_count": 11,
     "metadata": {},
     "output_type": "execute_result"
    }
   ],
   "source": [
    "array.astype('bool')"
   ]
  },
  {
   "cell_type": "markdown",
   "id": "c90b40ad",
   "metadata": {},
   "source": [
    "### para colocar o array em ordem usa-se a função .sort()\n",
    "- dierente de outros métodos ele mudar o valor da variável sem a necessidade de colocar em uma variável\n",
    "- ele ordena em ordem crescente."
   ]
  },
  {
   "cell_type": "code",
   "execution_count": 36,
   "id": "9fe15dc6",
   "metadata": {},
   "outputs": [
    {
     "data": {
      "text/plain": [
       "array([-1.96694624, -1.75519035, -0.62119201, -0.33089104,  0.        ,\n",
       "        0.02460946,  0.34982443,  0.78441339,  0.83258379,  1.07717649])"
      ]
     },
     "execution_count": 36,
     "metadata": {},
     "output_type": "execute_result"
    }
   ],
   "source": [
    "array.sort()\n",
    "array"
   ]
  },
  {
   "cell_type": "markdown",
   "id": "59be72aa",
   "metadata": {},
   "source": [
    "### transpor a matriz, inverte linhas com colunas e vice-vesa.\n",
    "- é igaual no ***PANDAS***, só precisa adicionar o ***.T***(T MAIUSCULO)"
   ]
  },
  {
   "cell_type": "code",
   "execution_count": 38,
   "id": "03bc8832",
   "metadata": {},
   "outputs": [
    {
     "data": {
      "text/plain": [
       "array([[-0.58026351,  0.37970514,  0.45093498],\n",
       "       [ 0.08233972,  1.17630018, -0.26363156],\n",
       "       [-0.26750719,  0.65039254,  0.42116362]])"
      ]
     },
     "execution_count": 38,
     "metadata": {},
     "output_type": "execute_result"
    }
   ],
   "source": [
    "mtx = np.random.randn(3,3)\n",
    "mtx"
   ]
  },
  {
   "cell_type": "code",
   "execution_count": 40,
   "id": "e2b0ab2a",
   "metadata": {},
   "outputs": [
    {
     "data": {
      "text/plain": [
       "array([[-0.58026351,  0.08233972, -0.26750719],\n",
       "       [ 0.37970514,  1.17630018,  0.65039254],\n",
       "       [ 0.45093498, -0.26363156,  0.42116362]])"
      ]
     },
     "execution_count": 40,
     "metadata": {},
     "output_type": "execute_result"
    }
   ],
   "source": [
    "mtx.T"
   ]
  },
  {
   "cell_type": "markdown",
   "id": "e191911a",
   "metadata": {},
   "source": [
    "**************************"
   ]
  },
  {
   "cell_type": "markdown",
   "id": "e7fdf9cd",
   "metadata": {},
   "source": [
    "## cada lista de um array precisa ter o mesmo número de elementos em Python se você quiser trabalhar com operações em matrizes ou arrays multidimensionais. Caso contrário, isso pode levar a erros ou comportamentos inesperados ao tentar acessar ou manipular elementos da matriz.\n",
    "- - ab = np.array([[1,2,3],[4,5,6]]) ***3 ELEMENTOS EM CADA LISTA***.\n",
    "- FONTE: ChatGPT."
   ]
  },
  {
   "cell_type": "markdown",
   "id": "7aa74f08",
   "metadata": {},
   "source": [
    "*****************************"
   ]
  },
  {
   "cell_type": "markdown",
   "id": "009f3eb1",
   "metadata": {},
   "source": [
    "# operações entre ***MATRIZES*** e ***VETORES***.\n",
    "- O vetor é somado/dividido/multiplicado/diminuído da matriz seguindo a sequência."
   ]
  },
  {
   "cell_type": "code",
   "execution_count": 8,
   "id": "652bbf9a",
   "metadata": {},
   "outputs": [],
   "source": [
    "tx = np.array([11,22,23])\n",
    "ab = np.array([[1,2,3],[4,5,6]])"
   ]
  },
  {
   "cell_type": "code",
   "execution_count": 3,
   "id": "4146db53",
   "metadata": {
    "scrolled": true
   },
   "outputs": [
    {
     "data": {
      "text/plain": [
       "array([[12, 24, 26],\n",
       "       [15, 27, 29]])"
      ]
     },
     "execution_count": 3,
     "metadata": {},
     "output_type": "execute_result"
    }
   ],
   "source": [
    "soma_vm = tx + ab\n",
    "soma_vm"
   ]
  },
  {
   "cell_type": "code",
   "execution_count": 4,
   "id": "238bb15a",
   "metadata": {},
   "outputs": [
    {
     "data": {
      "text/plain": [
       "array([[10, 20, 20],\n",
       "       [ 7, 17, 17]])"
      ]
     },
     "execution_count": 4,
     "metadata": {},
     "output_type": "execute_result"
    }
   ],
   "source": [
    "soma_vm = tx - ab\n",
    "soma_vm"
   ]
  },
  {
   "cell_type": "code",
   "execution_count": 6,
   "id": "dd5534e4",
   "metadata": {},
   "outputs": [
    {
     "data": {
      "text/plain": [
       "array([[11.        , 11.        ,  7.66666667],\n",
       "       [ 2.75      ,  4.4       ,  3.83333333]])"
      ]
     },
     "execution_count": 6,
     "metadata": {},
     "output_type": "execute_result"
    }
   ],
   "source": [
    "soma_vm = tx / ab\n",
    "soma_vm"
   ]
  },
  {
   "cell_type": "code",
   "execution_count": 7,
   "id": "9d90bfc4",
   "metadata": {},
   "outputs": [
    {
     "data": {
      "text/plain": [
       "array([[ 11,  44,  69],\n",
       "       [ 44, 110, 138]])"
      ]
     },
     "execution_count": 7,
     "metadata": {},
     "output_type": "execute_result"
    }
   ],
   "source": [
    "soma_vm = tx * ab\n",
    "soma_vm"
   ]
  },
  {
   "cell_type": "markdown",
   "id": "32594b73",
   "metadata": {},
   "source": [
    "## operações com matrizes são iguais\n",
    "- coloquei só multiplicação, mas a lógica é a mesma."
   ]
  },
  {
   "cell_type": "code",
   "execution_count": 9,
   "id": "b7eb862f",
   "metadata": {},
   "outputs": [],
   "source": [
    "ab = np.array([[1,2,3],[4,5,6]])\n",
    "cd = np.array([[1,1,1],[2,3,3]])"
   ]
  },
  {
   "cell_type": "code",
   "execution_count": 12,
   "id": "5933cff1",
   "metadata": {},
   "outputs": [
    {
     "data": {
      "text/plain": [
       "array([[ 1,  2,  3],\n",
       "       [ 8, 15, 18]])"
      ]
     },
     "execution_count": 12,
     "metadata": {},
     "output_type": "execute_result"
    }
   ],
   "source": [
    "ab * cd"
   ]
  },
  {
   "cell_type": "markdown",
   "id": "ed58c80e",
   "metadata": {},
   "source": [
    "## VER O QUE É ***MASCARA***\n",
    "- CONTINUA DAQUI https://youtu.be/fpr-uxmdTn4?t=643"
   ]
  },
  {
   "cell_type": "markdown",
   "id": "64fcf550",
   "metadata": {},
   "source": [
    "# ver tbm manipulação de imagem com ***NUMPY***.\n",
    "- VAI USAR OUTRAS BIBLIOTECAS COMO ***MATPLOTLIB*** E ***SKIMAGE***."
   ]
  },
  {
   "cell_type": "markdown",
   "id": "0cb5c6de",
   "metadata": {},
   "source": [
    "# ver função ***DOT***."
   ]
  },
  {
   "cell_type": "code",
   "execution_count": null,
   "id": "c9f840ba",
   "metadata": {},
   "outputs": [],
   "source": []
  }
 ],
 "metadata": {
  "kernelspec": {
   "display_name": "Python 3 (ipykernel)",
   "language": "python",
   "name": "python3"
  },
  "language_info": {
   "codemirror_mode": {
    "name": "ipython",
    "version": 3
   },
   "file_extension": ".py",
   "mimetype": "text/x-python",
   "name": "python",
   "nbconvert_exporter": "python",
   "pygments_lexer": "ipython3",
   "version": "3.9.13"
  }
 },
 "nbformat": 4,
 "nbformat_minor": 5
}
