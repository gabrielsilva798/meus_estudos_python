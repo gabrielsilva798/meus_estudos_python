{
 "cells": [
  {
   "cell_type": "code",
   "execution_count": null,
   "id": "3c75f31d",
   "metadata": {},
   "outputs": [],
   "source": [
    "# ***LISTAS_2"
   ]
  },
  {
   "cell_type": "code",
   "execution_count": 3,
   "id": "cf9c62cb",
   "metadata": {},
   "outputs": [
    {
     "name": "stdout",
     "output_type": "stream",
     "text": [
      "['mãe', 'irmão', 'irmã', 'filho', 'filha', 'pai', 'neto']\n"
     ]
    }
   ],
   "source": [
    "#para criar uma lista usa-se chaves e separe os valores por vírgulas.\n",
    "família = ['mãe','irmão','irmã','filho','filha','pai','neto' ]\n",
    "print(família)"
   ]
  },
  {
   "cell_type": "code",
   "execution_count": null,
   "id": "3a08623f",
   "metadata": {},
   "outputs": [],
   "source": [
    "#continuar daqui: https://www.youtube.com/watch?v=5gqpc-nCq7w&list=PLj7gJIFoP7jdirAFg-fHe9HKOnGLGXSHZ&index=6&ab_channel=Refatorando"
   ]
  },
  {
   "cell_type": "code",
   "execution_count": null,
   "id": "178dd075",
   "metadata": {},
   "outputs": [],
   "source": [
    "#Polly Petrova destruída por grandes galos\n",
    "#Ela pensou que o tiro seria fácil"
   ]
  }
 ],
 "metadata": {
  "kernelspec": {
   "display_name": "Python 3 (ipykernel)",
   "language": "python",
   "name": "python3"
  },
  "language_info": {
   "codemirror_mode": {
    "name": "ipython",
    "version": 3
   },
   "file_extension": ".py",
   "mimetype": "text/x-python",
   "name": "python",
   "nbconvert_exporter": "python",
   "pygments_lexer": "ipython3",
   "version": "3.9.13"
  }
 },
 "nbformat": 4,
 "nbformat_minor": 5
}
