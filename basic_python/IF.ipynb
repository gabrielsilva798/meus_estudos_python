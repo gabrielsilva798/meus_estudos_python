{
 "cells": [
  {
   "cell_type": "markdown",
   "id": "e4fceaea",
   "metadata": {},
   "source": [
    "# ***IF"
   ]
  },
  {
   "cell_type": "code",
   "execution_count": null,
   "id": "893926db",
   "metadata": {},
   "outputs": [],
   "source": [
    "#função condicional em python.no fim do comando if ussa-se dois pontos, para colocar as opções da condição.\n",
    "comida = 'pizza'\n",
    "if comida == 'pizza':\n",
    "    print('possui muitas caorias') "
   ]
  },
  {
   "cell_type": "code",
   "execution_count": null,
   "id": "f613da43",
   "metadata": {},
   "outputs": [],
   "source": [
    "# ELSE significa senão, é a segunda opção, e também tem dois pontos depois.\n",
    "comida = 'macarrão'\n",
    "if comida == 'bacon':\n",
    "    print('possui muitas caorias')\n",
    "else:\n",
    "    print('calorias desconheçidas')"
   ]
  },
  {
   "cell_type": "code",
   "execution_count": null,
   "id": "49817436",
   "metadata": {},
   "outputs": [],
   "source": [
    "#ELIF é usado quanto tem várias opções.\n",
    "# o recuo é um intem subordinado ao intem acima.\n",
    "comida = 'aborbora'\n",
    "if comida == 'macarrão':\n",
    "    print('possui muitas caorias')\n",
    "elif comida == 'feijão':\n",
    "    print('falta arroz')\n",
    "elif comida == 'aborbora':\n",
    "    print('eita')\n",
    "    print('bruxa')"
   ]
  },
  {
   "cell_type": "code",
   "execution_count": null,
   "id": "b5925950",
   "metadata": {},
   "outputs": [],
   "source": [
    "#se nenhuma opção for atendida NADA acontece.\n",
    "comida = 'pizza'\n",
    "if comida == 'macarrão':\n",
    "    print('possui muitas caorias')\n",
    "elif comida == 'feijão':\n",
    "    print('falta arroz')\n",
    "elif comida == 'aborbora':\n",
    "    print('eita')\n",
    "    print('bruxa')"
   ]
  },
  {
   "cell_type": "code",
   "execution_count": null,
   "id": "e719f03f",
   "metadata": {},
   "outputs": [],
   "source": [
    "#nenhuma opçaõ foi atendida, mas HOJE NÃO ESTÁ RECUADO então ele não tem uma condição para seguir.\n",
    "comida = 'pizza'\n",
    "if comida == 'macarrão':\n",
    "    print('possui muitas caorias')\n",
    "elif comida == 'feijão':\n",
    "    print('falta arroz')\n",
    "elif comida == 'aborbora':\n",
    "    print('eita')\n",
    "    print('bruxa')\n",
    "print('hoje')"
   ]
  },
  {
   "cell_type": "code",
   "execution_count": null,
   "id": "83781a4d",
   "metadata": {},
   "outputs": [],
   "source": [
    "#se nenhuma opção for atendida ele vai imprimir o ELSE que eu coloquei um valor.\n",
    "comida = 'pizza'\n",
    "if comida == 'macarrão':\n",
    "    print('possui muitas caorias')\n",
    "elif comida == 'feijão':\n",
    "    print('falta arroz')\n",
    "elif comida == 'aborbora':\n",
    "    print('eita')\n",
    "    print('bruxa')\n",
    "else:\n",
    "    print('nenhuma opção')"
   ]
  },
  {
   "cell_type": "code",
   "execution_count": null,
   "id": "31159cde",
   "metadata": {},
   "outputs": [],
   "source": [
    "#SE for diferente usa-se != ao inves de ==\n",
    "comida = 'pizza'\n",
    "if comida != 'macarrão':\n",
    "    print('possui muitas caorias')"
   ]
  },
  {
   "cell_type": "code",
   "execution_count": null,
   "id": "89bcefa7",
   "metadata": {},
   "outputs": [],
   "source": [
    "#eu posso usar o maior ou menor inves de diferente e igual.\n",
    "comida = 2\n",
    "if comida >= 3:\n",
    "    print('é maior')\n",
    "else:\n",
    "    print('NÃO é maior')"
   ]
  },
  {
   "cell_type": "code",
   "execution_count": 3,
   "id": "212a28cd",
   "metadata": {},
   "outputs": [
    {
     "name": "stdout",
     "output_type": "stream",
     "text": [
      "que ano voçê nasceu? 19998\n",
      "voçê é MENOR\n"
     ]
    }
   ],
   "source": [
    "#exercício, para saber se a pessoa é adulta ou não.\n",
    "ano = int(input('que ano voçê nasceu? '))\n",
    "idade = 2022 - ano\n",
    "if idade >= 18:\n",
    "    print('voçê é ADULTO')\n",
    "else:\n",
    "    print('voçê é MENOR')"
   ]
  },
  {
   "cell_type": "code",
   "execution_count": null,
   "id": "e6f5143e",
   "metadata": {},
   "outputs": [],
   "source": []
  }
 ],
 "metadata": {
  "kernelspec": {
   "display_name": "Python 3 (ipykernel)",
   "language": "python",
   "name": "python3"
  },
  "language_info": {
   "codemirror_mode": {
    "name": "ipython",
    "version": 3
   },
   "file_extension": ".py",
   "mimetype": "text/x-python",
   "name": "python",
   "nbconvert_exporter": "python",
   "pygments_lexer": "ipython3",
   "version": "3.9.13"
  }
 },
 "nbformat": 4,
 "nbformat_minor": 5
}
