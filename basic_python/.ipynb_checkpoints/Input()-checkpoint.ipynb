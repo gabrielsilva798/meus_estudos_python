{
 "cells": [
  {
   "cell_type": "markdown",
   "id": "fb83974c",
   "metadata": {},
   "source": [
    "# input()"
   ]
  },
  {
   "cell_type": "code",
   "execution_count": 2,
   "id": "b39e50e4",
   "metadata": {},
   "outputs": [
    {
     "name": "stdout",
     "output_type": "stream",
     "text": [
      "qual seu nome? gabriel\n"
     ]
    }
   ],
   "source": [
    "#input serve para o usuário amazenar dado em uma variável\n",
    "nome = input('qual seu nome? ')"
   ]
  },
  {
   "cell_type": "code",
   "execution_count": 4,
   "id": "a6fdacbf",
   "metadata": {},
   "outputs": [
    {
     "name": "stdout",
     "output_type": "stream",
     "text": [
      "gabriel\n"
     ]
    }
   ],
   "source": [
    "print(nome)"
   ]
  },
  {
   "cell_type": "code",
   "execution_count": 5,
   "id": "de782069",
   "metadata": {},
   "outputs": [],
   "source": [
    "valor = 'qual a sua idade? '"
   ]
  },
  {
   "cell_type": "code",
   "execution_count": 6,
   "id": "553c8dcc",
   "metadata": {},
   "outputs": [
    {
     "name": "stdout",
     "output_type": "stream",
     "text": [
      "qual a sua idade? 23\n"
     ]
    }
   ],
   "source": [
    "idade = input(valor)"
   ]
  },
  {
   "cell_type": "code",
   "execution_count": 15,
   "id": "065a7aa2",
   "metadata": {},
   "outputs": [
    {
     "name": "stdout",
     "output_type": "stream",
     "text": [
      "2323\n"
     ]
    }
   ],
   "source": [
    "#o python multipica STR, mas não faz outras operações, a princípio. o 23 é uma STR mesmo sendo número por ter saído de um input.\n",
    "print(idade*2)"
   ]
  },
  {
   "cell_type": "code",
   "execution_count": 9,
   "id": "ae513b2c",
   "metadata": {},
   "outputs": [
    {
     "data": {
      "text/plain": [
       "str"
      ]
     },
     "execution_count": 9,
     "metadata": {},
     "output_type": "execute_result"
    }
   ],
   "source": [
    "#por padrão o tipo do INPUT será sempre STR.\n",
    "#comando type serve para descobrir o tipode variável.\n",
    "type(idade)"
   ]
  },
  {
   "cell_type": "code",
   "execution_count": 7,
   "id": "bd9d522e",
   "metadata": {},
   "outputs": [
    {
     "name": "stdout",
     "output_type": "stream",
     "text": [
      "qual é o valor? 30\n"
     ]
    }
   ],
   "source": [
    "#para tranformar em inteiro você pode adc o comando INT. nesse caso se eu colocar alí algo q não seja número INTEIRO vai dar ERRO.\n",
    "valor = int(input('qual é o valor? '))"
   ]
  },
  {
   "cell_type": "code",
   "execution_count": 9,
   "id": "50c5e70e",
   "metadata": {},
   "outputs": [
    {
     "data": {
      "text/plain": [
       "int"
      ]
     },
     "execution_count": 9,
     "metadata": {},
     "output_type": "execute_result"
    }
   ],
   "source": [
    "type(valor)"
   ]
  },
  {
   "cell_type": "code",
   "execution_count": 13,
   "id": "98d0101a",
   "metadata": {},
   "outputs": [
    {
     "name": "stdout",
     "output_type": "stream",
     "text": [
      "qual é o v? 3\n"
     ]
    }
   ],
   "source": [
    "#tranforma todo resultado em FLOAT. mesmo se ele for inteiro a IDE vai adc um .0\n",
    "v = float(input('qual é o v? '))"
   ]
  },
  {
   "cell_type": "code",
   "execution_count": 14,
   "id": "52b8a89c",
   "metadata": {},
   "outputs": [
    {
     "name": "stdout",
     "output_type": "stream",
     "text": [
      "3.0\n"
     ]
    }
   ],
   "source": [
    "print(v)"
   ]
  },
  {
   "cell_type": "code",
   "execution_count": null,
   "id": "ccee92d6",
   "metadata": {},
   "outputs": [],
   "source": []
  }
 ],
 "metadata": {
  "kernelspec": {
   "display_name": "Python 3 (ipykernel)",
   "language": "python",
   "name": "python3"
  },
  "language_info": {
   "codemirror_mode": {
    "name": "ipython",
    "version": 3
   },
   "file_extension": ".py",
   "mimetype": "text/x-python",
   "name": "python",
   "nbconvert_exporter": "python",
   "pygments_lexer": "ipython3",
   "version": "3.9.13"
  }
 },
 "nbformat": 4,
 "nbformat_minor": 5
}
