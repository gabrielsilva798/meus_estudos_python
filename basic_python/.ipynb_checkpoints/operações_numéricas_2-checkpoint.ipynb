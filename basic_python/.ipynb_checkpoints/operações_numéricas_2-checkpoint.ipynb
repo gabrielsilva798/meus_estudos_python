{
 "cells": [
  {
   "cell_type": "markdown",
   "id": "140b9168",
   "metadata": {},
   "source": [
    "# ***operações_numéricas_2***"
   ]
  },
  {
   "cell_type": "code",
   "execution_count": 1,
   "id": "5a19d0e7",
   "metadata": {},
   "outputs": [],
   "source": [
    "#atribuir valor a uma variável\n",
    "a = 5"
   ]
  },
  {
   "cell_type": "code",
   "execution_count": 2,
   "id": "3c0ced13",
   "metadata": {},
   "outputs": [
    {
     "data": {
      "text/plain": [
       "True"
      ]
     },
     "execution_count": 2,
     "metadata": {},
     "output_type": "execute_result"
    }
   ],
   "source": [
    "#igual é ==\n",
    "a == 5"
   ]
  },
  {
   "cell_type": "code",
   "execution_count": 3,
   "id": "0232a24a",
   "metadata": {},
   "outputs": [
    {
     "data": {
      "text/plain": [
       "False"
      ]
     },
     "execution_count": 3,
     "metadata": {},
     "output_type": "execute_result"
    }
   ],
   "source": [
    "a == 3"
   ]
  },
  {
   "cell_type": "code",
   "execution_count": 4,
   "id": "e1463e03",
   "metadata": {},
   "outputs": [],
   "source": [
    "b = 7"
   ]
  },
  {
   "cell_type": "code",
   "execution_count": 5,
   "id": "842a6bba",
   "metadata": {},
   "outputs": [],
   "source": [
    "c = b + a"
   ]
  },
  {
   "cell_type": "code",
   "execution_count": 6,
   "id": "ce1ad6f6",
   "metadata": {},
   "outputs": [
    {
     "name": "stdout",
     "output_type": "stream",
     "text": [
      "12\n"
     ]
    }
   ],
   "source": [
    "print(c)"
   ]
  },
  {
   "cell_type": "code",
   "execution_count": 8,
   "id": "c01f3395",
   "metadata": {},
   "outputs": [
    {
     "name": "stdout",
     "output_type": "stream",
     "text": [
      "14\n"
     ]
    }
   ],
   "source": [
    "variável1 = 2+3+4+5\n",
    "print(variável1)"
   ]
  },
  {
   "cell_type": "code",
   "execution_count": 10,
   "id": "206dfdc9",
   "metadata": {},
   "outputs": [
    {
     "name": "stdout",
     "output_type": "stream",
     "text": [
      "3\n"
     ]
    }
   ],
   "source": [
    "#mesmo apagando a célula o arquiv permanece na memoria do sistema, uma observação inicial e não uma certeza.\n",
    "print(variável2)"
   ]
  },
  {
   "cell_type": "code",
   "execution_count": 11,
   "id": "7dec6b65",
   "metadata": {},
   "outputs": [],
   "source": [
    "variável2 = 3\n",
    "variável3 = 4\n",
    "variável2 = 9"
   ]
  },
  {
   "cell_type": "code",
   "execution_count": 12,
   "id": "5058d033",
   "metadata": {},
   "outputs": [
    {
     "name": "stdout",
     "output_type": "stream",
     "text": [
      "9\n"
     ]
    }
   ],
   "source": [
    "#ele vai considerar o último valor dado a variável.\n",
    "print(variável2)"
   ]
  },
  {
   "cell_type": "code",
   "execution_count": 1,
   "id": "d93e5560",
   "metadata": {},
   "outputs": [
    {
     "name": "stdout",
     "output_type": "stream",
     "text": [
      "41\n"
     ]
    }
   ],
   "source": [
    "#o python segue aquela lógica de primeiro multiplicar e depois faze ro resto\n",
    "print(3 + 5 * 7 + 3)"
   ]
  },
  {
   "cell_type": "code",
   "execution_count": 2,
   "id": "5cf9c39d",
   "metadata": {},
   "outputs": [
    {
     "name": "stdout",
     "output_type": "stream",
     "text": [
      "64\n"
     ]
    }
   ],
   "source": [
    "#para soma algo antes usa-se os parentes, como na matemática.\n",
    "print((3+5)*(7+1))"
   ]
  },
  {
   "cell_type": "code",
   "execution_count": null,
   "id": "4a89866c",
   "metadata": {},
   "outputs": [],
   "source": [
    "#VALOR ABSOLUTO: é o valor próprio do algarismo, independentemente do lugar que ocupa no número. Por exemplo, em 257, o valor absoluto do 7 é 7; do 5, 5; e do 2, 2.\n",
    "#VALOR RELATIVO: ou valor posicional é o valor que o algarismo tem de acordo com a posição que ele ocupa no número.Em 257, o valor relativo do 7 é 7 (unidades), do 5 é 50 (5 dezenas) e do 2 é 200 (2 centenas)."
   ]
  },
  {
   "cell_type": "code",
   "execution_count": 5,
   "id": "107e2fe4",
   "metadata": {},
   "outputs": [
    {
     "name": "stdout",
     "output_type": "stream",
     "text": [
      "15\n"
     ]
    }
   ],
   "source": [
    "#para achar o valor absoluto usa-se a formula abs()\n",
    "print(abs(-15))"
   ]
  },
  {
   "cell_type": "code",
   "execution_count": 6,
   "id": "4caffff6",
   "metadata": {},
   "outputs": [
    {
     "name": "stdout",
     "output_type": "stream",
     "text": [
      "25\n"
     ]
    }
   ],
   "source": [
    "#pode usar POW() inves de ** para fazer potência.\n",
    "print(pow(5,2))"
   ]
  },
  {
   "cell_type": "code",
   "execution_count": 8,
   "id": "457aa085",
   "metadata": {},
   "outputs": [
    {
     "name": "stdout",
     "output_type": "stream",
     "text": [
      "78\n"
     ]
    }
   ],
   "source": [
    "#achar o valor maximo MAX().\n",
    "print(max(1,5,0,6,78,4))"
   ]
  },
  {
   "cell_type": "code",
   "execution_count": 9,
   "id": "692258e9",
   "metadata": {},
   "outputs": [
    {
     "name": "stdout",
     "output_type": "stream",
     "text": [
      "0\n"
     ]
    }
   ],
   "source": [
    "#achar o minimo MIN().\n",
    "print(min(1,5,0,6,78,4))"
   ]
  },
  {
   "cell_type": "code",
   "execution_count": 13,
   "id": "33672459",
   "metadata": {},
   "outputs": [
    {
     "name": "stdout",
     "output_type": "stream",
     "text": [
      "8\n"
     ]
    }
   ],
   "source": [
    "#para arredondar usa-se o ROUND() que arredonda até 5 para baixo.\n",
    "print(round(8.5))"
   ]
  },
  {
   "cell_type": "code",
   "execution_count": 14,
   "id": "eb10a2f3",
   "metadata": {},
   "outputs": [],
   "source": [
    "#import para importar a biblioteca matemática/match.\n",
    "#essa biblioteca tem várias funções.\n",
    "import math"
   ]
  },
  {
   "cell_type": "code",
   "execution_count": 16,
   "id": "f1b54175",
   "metadata": {},
   "outputs": [
    {
     "name": "stdout",
     "output_type": "stream",
     "text": [
      "8\n"
     ]
    }
   ],
   "source": [
    "#função floor() é para arredondamento para baixo.\n",
    "#floor que dizer chão.\n",
    "print(math.floor(8.8))"
   ]
  },
  {
   "cell_type": "code",
   "execution_count": 18,
   "id": "3170c91c",
   "metadata": {},
   "outputs": [
    {
     "name": "stdout",
     "output_type": "stream",
     "text": [
      "9\n"
     ]
    }
   ],
   "source": [
    "#função ceil() é para arredondamento para cima.\n",
    "#ceil que dizer teto.\n",
    "print(math.ceil(8.00002))"
   ]
  },
  {
   "cell_type": "code",
   "execution_count": 20,
   "id": "97939358",
   "metadata": {},
   "outputs": [
    {
     "name": "stdout",
     "output_type": "stream",
     "text": [
      "3.0\n",
      "2.8284271247461903\n"
     ]
    }
   ],
   "source": [
    "#para achar a raiz quadrada usamos a função square root SQRT().\n",
    "#mesmo sendo inteiro ele sempre retorna um float.\n",
    "print(math.sqrt(9))\n",
    "print(math.sqrt(8))"
   ]
  }
 ],
 "metadata": {
  "kernelspec": {
   "display_name": "Python 3 (ipykernel)",
   "language": "python",
   "name": "python3"
  },
  "language_info": {
   "codemirror_mode": {
    "name": "ipython",
    "version": 3
   },
   "file_extension": ".py",
   "mimetype": "text/x-python",
   "name": "python",
   "nbconvert_exporter": "python",
   "pygments_lexer": "ipython3",
   "version": "3.9.13"
  }
 },
 "nbformat": 4,
 "nbformat_minor": 5
}
