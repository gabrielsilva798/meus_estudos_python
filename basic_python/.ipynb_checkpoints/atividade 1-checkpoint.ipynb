{
 "cells": [
  {
   "cell_type": "markdown",
   "id": "dff1a8e0",
   "metadata": {},
   "source": [
    "# atividade 1"
   ]
  },
  {
   "cell_type": "code",
   "execution_count": 1,
   "id": "2bed1216",
   "metadata": {},
   "outputs": [
    {
     "name": "stdout",
     "output_type": "stream",
     "text": [
      "olá mundo\n"
     ]
    }
   ],
   "source": [
    "print('olá mundo')"
   ]
  },
  {
   "cell_type": "code",
   "execution_count": 2,
   "id": "f62ca957",
   "metadata": {},
   "outputs": [
    {
     "ename": "NameError",
     "evalue": "name 'olá' is not defined",
     "output_type": "error",
     "traceback": [
      "\u001b[1;31m---------------------------------------------------------------------------\u001b[0m",
      "\u001b[1;31mNameError\u001b[0m                                 Traceback (most recent call last)",
      "Input \u001b[1;32mIn [2]\u001b[0m, in \u001b[0;36m<cell line: 1>\u001b[1;34m()\u001b[0m\n\u001b[1;32m----> 1\u001b[0m \u001b[38;5;28mprint\u001b[39m(\u001b[43molá\u001b[49m)\n",
      "\u001b[1;31mNameError\u001b[0m: name 'olá' is not defined"
     ]
    }
   ],
   "source": [
    "print(olá)"
   ]
  },
  {
   "cell_type": "code",
   "execution_count": 4,
   "id": "746804b4",
   "metadata": {
    "scrolled": true
   },
   "outputs": [
    {
     "name": "stdout",
     "output_type": "stream",
     "text": [
      "oitudo bem\n"
     ]
    }
   ],
   "source": [
    "#o espaço tem que ser dado dentro das aspas\n",
    "print('oi'     'tudo bem')"
   ]
  },
  {
   "cell_type": "code",
   "execution_count": 1,
   "id": "551fe4eb",
   "metadata": {},
   "outputs": [
    {
     "name": "stdout",
     "output_type": "stream",
     "text": [
      "74\n",
      "ab\n"
     ]
    }
   ],
   "source": [
    "#com as aspas o python entende que aquilo é um texto que vai ser impresso (chamado de mensagem) e so junta eles \n",
    "print('7'+'4')\n",
    "print('a'+'b')"
   ]
  },
  {
   "cell_type": "code",
   "execution_count": 2,
   "id": "d7d6619a",
   "metadata": {},
   "outputs": [
    {
     "ename": "TypeError",
     "evalue": "can only concatenate str (not \"int\") to str",
     "output_type": "error",
     "traceback": [
      "\u001b[1;31m---------------------------------------------------------------------------\u001b[0m",
      "\u001b[1;31mTypeError\u001b[0m                                 Traceback (most recent call last)",
      "Input \u001b[1;32mIn [2]\u001b[0m, in \u001b[0;36m<cell line: 2>\u001b[1;34m()\u001b[0m\n\u001b[0;32m      1\u001b[0m \u001b[38;5;66;03m#tem como soma com + e vírgula, mas um vai funcionar melhor que o outro\u001b[39;00m\n\u001b[1;32m----> 2\u001b[0m \u001b[38;5;28mprint\u001b[39m(\u001b[38;5;124;43m'\u001b[39;49m\u001b[38;5;124;43mola\u001b[39;49m\u001b[38;5;124;43m'\u001b[39;49m\u001b[38;5;241;43m+\u001b[39;49m\u001b[38;5;241;43m9\u001b[39;49m)\n",
      "\u001b[1;31mTypeError\u001b[0m: can only concatenate str (not \"int\") to str"
     ]
    }
   ],
   "source": [
    "#tem como soma com + e vírgula, mas um vai funcionar melhor que o outro\n",
    "print('ola'+9)"
   ]
  },
  {
   "cell_type": "code",
   "execution_count": 3,
   "id": "2631aad4",
   "metadata": {},
   "outputs": [
    {
     "name": "stdout",
     "output_type": "stream",
     "text": [
      "ola 9\n"
     ]
    }
   ],
   "source": [
    "#agora com vírgula, virgula também soma, mas de maneira diferente do + que ela soma str e int.\n",
    "print('ola',9)"
   ]
  },
  {
   "cell_type": "code",
   "execution_count": 1,
   "id": "62fc5b45",
   "metadata": {},
   "outputs": [
    {
     "name": "stdout",
     "output_type": "stream",
     "text": [
      "oi\n",
      "tudo bem\n"
     ]
    }
   ],
   "source": [
    "#todo comando é dado em letra MINÚSCULA.\n",
    "print('oi')\n",
    "print('tudo bem')"
   ]
  },
  {
   "cell_type": "code",
   "execution_count": 1,
   "id": "03763da0",
   "metadata": {},
   "outputs": [
    {
     "ename": "NameError",
     "evalue": "name 'PRINT' is not defined",
     "output_type": "error",
     "traceback": [
      "\u001b[1;31m---------------------------------------------------------------------------\u001b[0m",
      "\u001b[1;31mNameError\u001b[0m                                 Traceback (most recent call last)",
      "Input \u001b[1;32mIn [1]\u001b[0m, in \u001b[0;36m<cell line: 2>\u001b[1;34m()\u001b[0m\n\u001b[0;32m      1\u001b[0m \u001b[38;5;66;03m#letra MINÚSCULA\u001b[39;00m\n\u001b[1;32m----> 2\u001b[0m \u001b[43mPRINT\u001b[49m(\u001b[38;5;124m'\u001b[39m\u001b[38;5;124moi\u001b[39m\u001b[38;5;124m'\u001b[39m)\n",
      "\u001b[1;31mNameError\u001b[0m: name 'PRINT' is not defined"
     ]
    }
   ],
   "source": [
    "#letra MINÚSCULA\n",
    "PRINT('oi')"
   ]
  },
  {
   "cell_type": "code",
   "execution_count": 9,
   "id": "e18ccefe",
   "metadata": {},
   "outputs": [
    {
     "name": "stdout",
     "output_type": "stream",
     "text": [
      "ola\n",
      " mundo\n"
     ]
    }
   ],
   "source": [
    "# \\n é ussado para fazer uma quebra de linha.\n",
    "print('ola\\n mundo')"
   ]
  },
  {
   "cell_type": "code",
   "execution_count": 6,
   "id": "941f031e",
   "metadata": {},
   "outputs": [
    {
     "name": "stdout",
     "output_type": "stream",
     "text": [
      "45\n"
     ]
    }
   ],
   "source": [
    "print(5*9)"
   ]
  },
  {
   "cell_type": "code",
   "execution_count": 7,
   "id": "88a123be",
   "metadata": {},
   "outputs": [
    {
     "data": {
      "text/plain": [
       "45"
      ]
     },
     "execution_count": 7,
     "metadata": {},
     "output_type": "execute_result"
    }
   ],
   "source": [
    "#nem todas IDE fazem a conta direto sem o comando print\n",
    "5*9"
   ]
  },
  {
   "cell_type": "code",
   "execution_count": 2,
   "id": "88e56939",
   "metadata": {},
   "outputs": [
    {
     "name": "stdout",
     "output_type": "stream",
     "text": [
      "chocolate\n"
     ]
    }
   ],
   "source": [
    "#se a variável tiver duas palavras separe elas pos undescore\n",
    "gosto_de = 'chocolate'\n",
    "print(gosto_de)"
   ]
  },
  {
   "cell_type": "code",
   "execution_count": 2,
   "id": "df917cce",
   "metadata": {},
   "outputs": [
    {
     "name": "stdout",
     "output_type": "stream",
     "text": [
      "meu nome é gabriel.\n"
     ]
    }
   ],
   "source": [
    "#uma forma de inserir a variável no texto é '+variável+'\n",
    "nome = 'gabriel'\n",
    "print('meu nome é '+nome+'.')"
   ]
  },
  {
   "cell_type": "code",
   "execution_count": 1,
   "id": "ecc03ce4",
   "metadata": {},
   "outputs": [
    {
     "name": "stdout",
     "output_type": "stream",
     "text": [
      "GABRIEL\n"
     ]
    }
   ],
   "source": [
    "'''pra deixar tudo em maiúsculo se coloca o .upper() depois da variável ou texto a ser impresso\n",
    "algumas funções pedem informações nos parentes, essas informações são chamadas parámetros.\n",
    "no .upper() não precisa definir os paramentros.'''\n",
    "nome = 'gabriel'\n",
    "print(nome.upper())"
   ]
  },
  {
   "cell_type": "code",
   "execution_count": 4,
   "id": "c6b3a7f8",
   "metadata": {},
   "outputs": [
    {
     "name": "stdout",
     "output_type": "stream",
     "text": [
      "agosto\n"
     ]
    }
   ],
   "source": [
    "#pra deixar tudo minúsculo usa-se .lower()\n",
    "#tanto faz se tem letra maiúscula e minúscula misturada, não dar erro.\n",
    "mês = 'AgOSTo'\n",
    "print(mês.lower())"
   ]
  },
  {
   "cell_type": "code",
   "execution_count": 5,
   "id": "18d37367",
   "metadata": {},
   "outputs": [
    {
     "name": "stdout",
     "output_type": "stream",
     "text": [
      "Gabriel\n"
     ]
    }
   ],
   "source": [
    "#função .capitalize() deixa a primeira etra minúscula\n",
    "print(nome.capitalize())\n"
   ]
  },
  {
   "cell_type": "code",
   "execution_count": 6,
   "id": "cdc3e56a",
   "metadata": {},
   "outputs": [
    {
     "name": "stdout",
     "output_type": "stream",
     "text": [
      "False\n"
     ]
    }
   ],
   "source": [
    "#para verificar se o texto é maiúsculo ou não, usa-se a função .isupper()\n",
    "print(nome.isupper())"
   ]
  },
  {
   "cell_type": "code",
   "execution_count": 8,
   "id": "b7015625",
   "metadata": {},
   "outputs": [
    {
     "name": "stdout",
     "output_type": "stream",
     "text": [
      "True\n"
     ]
    }
   ],
   "source": [
    "#para verificar se o texto é minúsculo usa-se .islower()\n",
    "print(nome.islower())"
   ]
  },
  {
   "cell_type": "code",
   "execution_count": 4,
   "id": "56bed377",
   "metadata": {},
   "outputs": [
    {
     "name": "stdout",
     "output_type": "stream",
     "text": [
      "roeu a roupa\n",
      " roeu a roupa \n"
     ]
    }
   ],
   "source": [
    "# .strip() é para remover espaços ANTES ou DEPOIS do texto, mas não no MEIO\n",
    "rato = ' roeu a roupa '\n",
    "print(rato.strip())\n",
    "print(rato)"
   ]
  },
  {
   "cell_type": "code",
   "execution_count": 5,
   "id": "87c7c9eb",
   "metadata": {},
   "outputs": [
    {
     "name": "stdout",
     "output_type": "stream",
     "text": [
      " roeu a manga \n"
     ]
    }
   ],
   "source": [
    "# a função .replace() substitui uma palavra, texto ou até uma letra por outra\n",
    "# nessa função é preciso usar os parâmetros\n",
    "# nos parâmetros, primeiro vem o que você quer substituir e depois o que será substituído\n",
    "# separando os parâmetros por vírgula.\n",
    "print(rato.replace('roupa','manga'))"
   ]
  },
  {
   "cell_type": "code",
   "execution_count": 6,
   "id": "e78a5606",
   "metadata": {},
   "outputs": [
    {
     "name": "stdout",
     "output_type": "stream",
     "text": [
      " roeu @ roup@ \n"
     ]
    }
   ],
   "source": [
    "#substituindo letra agora\n",
    "print(rato.replace('a','@'))"
   ]
  },
  {
   "cell_type": "code",
   "execution_count": 8,
   "id": "5d20e4bf",
   "metadata": {},
   "outputs": [
    {
     "name": "stdout",
     "output_type": "stream",
     "text": [
      " roeu @ roupa \n"
     ]
    }
   ],
   "source": [
    "# o terceiro parametro eu posso colocar quantas vezes eu quero que o a seja substituído\n",
    "#ele vai do primeiro para o último, se eu colocar 1 ele vai mudar o 2 primeiros\n",
    "print(rato.replace('a','@',1))"
   ]
  },
  {
   "cell_type": "code",
   "execution_count": 20,
   "id": "7b0e115e",
   "metadata": {},
   "outputs": [
    {
     "name": "stdout",
     "output_type": "stream",
     "text": [
      "14\n"
     ]
    }
   ],
   "source": [
    "# a funçao len() conta o número de letras que um texto tem, contado os espaços\n",
    "print(len(rato))"
   ]
  },
  {
   "cell_type": "code",
   "execution_count": 4,
   "id": "9fca18a8",
   "metadata": {},
   "outputs": [
    {
     "name": "stdout",
     "output_type": "stream",
     "text": [
      "e\n",
      "a\n"
     ]
    }
   ],
   "source": [
    "#voce coloca entre cochetes[] o número da letra que voce quer.\n",
    "#lembrnado que o python começa a contar apartir do 0\n",
    "#nesse caso de baixo ele contou o espaço também\n",
    "print(rato[3])\n",
    "print(rato[6])"
   ]
  },
  {
   "cell_type": "code",
   "execution_count": 6,
   "id": "065f717a",
   "metadata": {},
   "outputs": [
    {
     "ename": "IndexError",
     "evalue": "string index out of range",
     "output_type": "error",
     "traceback": [
      "\u001b[1;31m---------------------------------------------------------------------------\u001b[0m",
      "\u001b[1;31mIndexError\u001b[0m                                Traceback (most recent call last)",
      "Input \u001b[1;32mIn [6]\u001b[0m, in \u001b[0;36m<cell line: 2>\u001b[1;34m()\u001b[0m\n\u001b[0;32m      1\u001b[0m \u001b[38;5;66;03m#e claro se voce colocar um número maior do que o número de letra da variável, dar erro \u001b[39;00m\n\u001b[1;32m----> 2\u001b[0m \u001b[38;5;28mprint\u001b[39m(\u001b[43mrato\u001b[49m\u001b[43m[\u001b[49m\u001b[38;5;241;43m14\u001b[39;49m\u001b[43m]\u001b[49m)\n",
      "\u001b[1;31mIndexError\u001b[0m: string index out of range"
     ]
    }
   ],
   "source": [
    "#e claro se voce colocar um número maior do que o número de letra da variável, dar erro \n",
    "print(rato[14])"
   ]
  },
  {
   "cell_type": "code",
   "execution_count": 2,
   "id": "7864b052",
   "metadata": {},
   "outputs": [
    {
     "name": "stdout",
     "output_type": "stream",
     "text": [
      "de tarde\n"
     ]
    }
   ],
   "source": [
    "#dar pra imprimir um intervalo de valores colocando eles entre dois pontos \n",
    "agora = 'está de tarde, mas faz calor'\n",
    "print(agora[5:13])"
   ]
  },
  {
   "cell_type": "code",
   "execution_count": 3,
   "id": "ea35e1d9",
   "metadata": {},
   "outputs": [
    {
     "name": "stdout",
     "output_type": "stream",
     "text": [
      "mas faz calo\n"
     ]
    }
   ],
   "source": [
    "#se voce quiser pegar de trás para frente e so começar pelo -1\n",
    "#pq não existe menos 0\n",
    "print(agora[-13:-1])"
   ]
  },
  {
   "cell_type": "code",
   "execution_count": 6,
   "id": "7cb0b6b8",
   "metadata": {},
   "outputs": [
    {
     "name": "stdout",
     "output_type": "stream",
     "text": [
      "0\n",
      "19\n"
     ]
    }
   ],
   "source": [
    "#a função .index() encontra onde está uma palavra ou parte do texto no texto\n",
    "#ele conta a posição até achar o primeiro termo que voce pediu\n",
    "print(agora.index('e'))\n",
    "print(agora.index('fa'))"
   ]
  },
  {
   "cell_type": "code",
   "execution_count": 8,
   "id": "fea60166",
   "metadata": {},
   "outputs": [
    {
     "name": "stdout",
     "output_type": "stream",
     "text": [
      "True\n"
     ]
    }
   ],
   "source": [
    "#pra descobrir se o texto esta dentro da variável eu posso fazer assim.\n",
    "#atribuo a uma variável o texto que quero saber se a variável possui.\n",
    "#VARIÁVEL = 'TEXTO QUE EU QUERO SABER SE TEM NA VARIÁVEL' in 'VARIÁVEL QUE PODE CONTAR O TEXTO'.\n",
    "agora = 'está de tarde, mas faz calor'\n",
    "x = 'calor' in agora\n",
    "print(x)"
   ]
  },
  {
   "cell_type": "code",
   "execution_count": 10,
   "id": "73b40a4f",
   "metadata": {},
   "outputs": [
    {
     "name": "stdout",
     "output_type": "stream",
     "text": [
      "False\n"
     ]
    }
   ],
   "source": [
    "#posso perguntar se tem uma letra no texto também\n",
    "y = 'j' in agora\n",
    "print(y)"
   ]
  },
  {
   "cell_type": "code",
   "execution_count": 12,
   "id": "70f43b6f",
   "metadata": {},
   "outputs": [
    {
     "name": "stdout",
     "output_type": "stream",
     "text": [
      "2\n"
     ]
    }
   ],
   "source": [
    "#len() conta o numero de ítens separados por VÍRGULA ou o número de letras se for variável;\n",
    "#ítens separados por vírgula\n",
    "false = '1,2,3,4,5,6,7','hoje'\n",
    "print(len(false))"
   ]
  },
  {
   "cell_type": "code",
   "execution_count": 10,
   "id": "e83a28e6",
   "metadata": {},
   "outputs": [
    {
     "name": "stdout",
     "output_type": "stream",
     "text": [
      "8\n"
     ]
    }
   ],
   "source": [
    "#uma única variável\n",
    "assunto = 'material'\n",
    "print(len(assunto))"
   ]
  },
  {
   "cell_type": "code",
   "execution_count": 13,
   "id": "23f9a43e",
   "metadata": {},
   "outputs": [
    {
     "name": "stdout",
     "output_type": "stream",
     "text": [
      "9\n"
     ]
    }
   ],
   "source": [
    "#quando tem mais de uma variável, mas que não saõ separadas por vírgula ele soma todas as letras\n",
    "hoje = 'acabou''tem'\n",
    "print(len(hoje))"
   ]
  },
  {
   "cell_type": "code",
   "execution_count": 14,
   "id": "2001c14e",
   "metadata": {},
   "outputs": [
    {
     "ename": "TypeError",
     "evalue": "object of type 'int' has no len()",
     "output_type": "error",
     "traceback": [
      "\u001b[1;31m---------------------------------------------------------------------------\u001b[0m",
      "\u001b[1;31mTypeError\u001b[0m                                 Traceback (most recent call last)",
      "Input \u001b[1;32mIn [14]\u001b[0m, in \u001b[0;36m<cell line: 2>\u001b[1;34m()\u001b[0m\n\u001b[0;32m      1\u001b[0m ro \u001b[38;5;241m=\u001b[39m \u001b[38;5;241m1235\u001b[39m\n\u001b[1;32m----> 2\u001b[0m \u001b[38;5;28mprint\u001b[39m(\u001b[38;5;28;43mlen\u001b[39;49m\u001b[43m(\u001b[49m\u001b[43mro\u001b[49m\u001b[43m)\u001b[49m)\n",
      "\u001b[1;31mTypeError\u001b[0m: object of type 'int' has no len()"
     ]
    }
   ],
   "source": [
    "#len ler somente str,\n",
    "ro = 1235\n",
    "print(len(ro))"
   ]
  },
  {
   "cell_type": "code",
   "execution_count": 9,
   "id": "973b0e37",
   "metadata": {},
   "outputs": [
    {
     "name": "stdout",
     "output_type": "stream",
     "text": [
      "9\n"
     ]
    }
   ],
   "source": [
    "# se for uma lista ou dicionário ele ler mesmo sendo INT\n",
    "a = [1,2,3,4,5,6,2,7,8,9]\n",
    "print(len(a))"
   ]
  },
  {
   "cell_type": "code",
   "execution_count": 13,
   "id": "cf552460",
   "metadata": {
    "scrolled": true
   },
   "outputs": [
    {
     "data": {
      "text/plain": [
       "2"
      ]
     },
     "execution_count": 13,
     "metadata": {},
     "output_type": "execute_result"
    }
   ],
   "source": [
    "#o .COUNT() conta o número de itens dentro de uma variável\n",
    "numero = 'primeiro'\n",
    "numero.count('r')"
   ]
  }
 ],
 "metadata": {
  "kernelspec": {
   "display_name": "Python 3 (ipykernel)",
   "language": "python",
   "name": "python3"
  },
  "language_info": {
   "codemirror_mode": {
    "name": "ipython",
    "version": 3
   },
   "file_extension": ".py",
   "mimetype": "text/x-python",
   "name": "python",
   "nbconvert_exporter": "python",
   "pygments_lexer": "ipython3",
   "version": "3.9.13"
  }
 },
 "nbformat": 4,
 "nbformat_minor": 5
}
