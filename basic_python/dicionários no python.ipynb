{
 "cells": [
  {
   "cell_type": "code",
   "execution_count": 5,
   "id": "b9da17df",
   "metadata": {},
   "outputs": [],
   "source": [
    "#dicionários em python são listas de valores, mas que tem um rôtulo.\n",
    "# dicionários usam {chave:valor}\n",
    "#eu posso quebrar ele em várias linhas dando enter\n",
    "emails_gerentes = {\n",
    "    \"Iguatemi\":\"iguatemi@gmail.com\",\n",
    "    \"Plaza\": \"plaza@gmail.com\",\n",
    "    \"Barra\": \"barra@gmail.com\"\n",
    "}"
   ]
  },
  {
   "cell_type": "markdown",
   "id": "6a52139d",
   "metadata": {},
   "source": [
    "### posso colocar outro dicionário dentro do atual igual nas listas.\n",
    "- pesquisar"
   ]
  },
  {
   "cell_type": "code",
   "execution_count": 6,
   "id": "1b1e31a9",
   "metadata": {},
   "outputs": [],
   "source": [
    "#eu coloco o nome da lista, = e depois abri chaves e coloco os rôtulos com seus valores,\n",
    "#ai eu fecho chaves.\n",
    "#voce pode amazenar numeros, letras, etc. como valores dos rotulos.\n",
    "preço_produtos = {'ipad': 1000, 'iphone': 2000, 'notebook': 5000}"
   ]
  },
  {
   "cell_type": "code",
   "execution_count": 7,
   "id": "7746aa83",
   "metadata": {},
   "outputs": [
    {
     "name": "stdout",
     "output_type": "stream",
     "text": [
      "iguatemi@gmail.com\n"
     ]
    }
   ],
   "source": [
    "#para achar valores dentro do dicionário eu coloco dessa forma, atribuindo o dicionáiro como valor de uma variável\n",
    "#e imprimindo ela\n",
    "email = emails_gerentes['Iguatemi']\n",
    "print(email)"
   ]
  },
  {
   "cell_type": "code",
   "execution_count": 8,
   "id": "d491ebd9",
   "metadata": {},
   "outputs": [],
   "source": [
    "#para adcionar um novo item no dicionário deve ser feito assim.\n",
    "emails_gerentes['JKshopping'] = 'jkshopping@gmail.com'"
   ]
  },
  {
   "cell_type": "code",
   "execution_count": 9,
   "id": "4c8ffa2e",
   "metadata": {},
   "outputs": [
    {
     "name": "stdout",
     "output_type": "stream",
     "text": [
      "{'Iguatemi': 'iguatemi@gmail.com', 'Plaza': 'plaza@gmail.com', 'Barra': 'barra@gmail.com', 'JKshopping': 'jkshopping@gmail.com'}\n"
     ]
    }
   ],
   "source": [
    "print(emails_gerentes)"
   ]
  },
  {
   "cell_type": "code",
   "execution_count": 10,
   "id": "2904e999",
   "metadata": {},
   "outputs": [
    {
     "name": "stdout",
     "output_type": "stream",
     "text": [
      "{'Iguatemi': 'iguatemi@gmail.com', 'Plaza': 'plaza@gmail.com', 'Barra': 'barramerda@gmail.com', 'JKshopping': 'jkshopping@gmail.com'}\n"
     ]
    }
   ],
   "source": [
    "#se já existir o ítem ele vai substituir.\n",
    "emails_gerentes['Barra'] = 'barramerda@gmail.com'\n",
    "print(emails_gerentes)"
   ]
  },
  {
   "cell_type": "code",
   "execution_count": 11,
   "id": "da5b99ea",
   "metadata": {},
   "outputs": [
    {
     "name": "stdout",
     "output_type": "stream",
     "text": [
      "Iguatemi\n",
      "Plaza\n",
      "Barra\n",
      "JKshopping\n"
     ]
    }
   ],
   "source": [
    "#para descobrir todas as chaves que temos no dicionário ussamos FOR - PALAVRA QUALQUER - IN - DICIONÁRIO E DOIS PONTOS\n",
    "#embaixo colocamos print com o nome do termo que colocamos na parte da palavra\n",
    "#o nome é vc que  decide, ai eu coloquei CACHORO, para mostra quetanto faz\n",
    "#cachoro é uma variável que é a chave do dicionário, eu devia colocar shopping, mas quis mostrar que vale qualquer coisa\n",
    "for cachoro in emails_gerentes:\n",
    "    print(cachoro)"
   ]
  },
  {
   "cell_type": "code",
   "execution_count": 18,
   "id": "ddb0da9e",
   "metadata": {},
   "outputs": [
    {
     "data": {
      "text/plain": [
       "dict_items([('Iguatemi', 'iguatemi@gmail.com'), ('Barra', 'barramerda@gmail.com'), ('JKshopping', 'jkshopping@gmail.com')])"
      ]
     },
     "execution_count": 18,
     "metadata": {},
     "output_type": "execute_result"
    }
   ],
   "source": [
    "# mostra todas as CHAVES e VALORES do dicionário.\n",
    "emails_gerentes.items()"
   ]
  },
  {
   "cell_type": "code",
   "execution_count": 12,
   "id": "4fa3f016",
   "metadata": {},
   "outputs": [
    {
     "name": "stdout",
     "output_type": "stream",
     "text": [
      "dict_keys(['Iguatemi', 'Plaza', 'Barra', 'JKshopping'])\n"
     ]
    }
   ],
   "source": [
    "#eu posso usar a função .KEYS() para descobrir todas a chaves do dicionário\n",
    "print(emails_gerentes.keys())"
   ]
  },
  {
   "cell_type": "code",
   "execution_count": 13,
   "id": "81cfee5f",
   "metadata": {},
   "outputs": [
    {
     "name": "stdout",
     "output_type": "stream",
     "text": [
      "dict_values(['iguatemi@gmail.com', 'plaza@gmail.com', 'barramerda@gmail.com', 'jkshopping@gmail.com'])\n"
     ]
    }
   ],
   "source": [
    "#posso usar a função .values() para pegar somente os VALORES\n",
    "print(emails_gerentes.values())"
   ]
  },
  {
   "cell_type": "code",
   "execution_count": 14,
   "id": "b9980f32",
   "metadata": {},
   "outputs": [
    {
     "name": "stdout",
     "output_type": "stream",
     "text": [
      "Iguatemi\n",
      "Plaza\n",
      "Barra\n",
      "JKshopping\n"
     ]
    }
   ],
   "source": [
    "#outra maneira de achar as CHAVES é usando FOR variável IN dicionário\n",
    "#o nome shopping pe uma variável que eu posso mudar, igual o cachoro na de cima\n",
    "for shopping in emails_gerentes:\n",
    "    print(shopping)"
   ]
  },
  {
   "cell_type": "code",
   "execution_count": 15,
   "id": "5472ac17",
   "metadata": {},
   "outputs": [
    {
     "name": "stdout",
     "output_type": "stream",
     "text": [
      "{'Iguatemi': 'iguatemi@gmail.com', 'Barra': 'barramerda@gmail.com', 'JKshopping': 'jkshopping@gmail.com'}\n"
     ]
    }
   ],
   "source": [
    "#para retirar um intem uso o .pop()\n",
    "emails_gerentes.pop('Plaza')\n",
    "print(emails_gerentes)"
   ]
  },
  {
   "cell_type": "code",
   "execution_count": 16,
   "id": "68088a82",
   "metadata": {},
   "outputs": [
    {
     "name": "stdout",
     "output_type": "stream",
     "text": [
      "existe\n"
     ]
    }
   ],
   "source": [
    "# para verificar se um item(shopping) no dicionário pode usar o IF\n",
    "# ele verifica somente as CHAVES. pq eu coloquei uma chave\n",
    "if 'Iguatemi' in emails_gerentes:\n",
    "    print('existe')\n",
    "else:\n",
    "    print('não_existe')"
   ]
  },
  {
   "cell_type": "code",
   "execution_count": 17,
   "id": "a4e4d27d",
   "metadata": {},
   "outputs": [
    {
     "name": "stdout",
     "output_type": "stream",
     "text": [
      "não_existe\n"
     ]
    }
   ],
   "source": [
    "'''não deu certo: verificar como ver se um valor existe no dicionário depois na internet'''\n",
    "#para achar um VALOR(e-mail) só colocar um VALOR\n",
    "if 'barramerda@gmail.com' in emails_gerentes:\n",
    "    print('existe')\n",
    "else:\n",
    "    print('não_existe')"
   ]
  },
  {
   "cell_type": "code",
   "execution_count": 19,
   "id": "7ceebd2c",
   "metadata": {},
   "outputs": [],
   "source": [
    "#vai limpar todo o dicionário.\n",
    "preço_produtos.clear()"
   ]
  },
  {
   "cell_type": "code",
   "execution_count": 20,
   "id": "e9b0dd1e",
   "metadata": {},
   "outputs": [
    {
     "name": "stdout",
     "output_type": "stream",
     "text": [
      "{}\n"
     ]
    }
   ],
   "source": [
    "print(preço_produtos)"
   ]
  },
  {
   "cell_type": "code",
   "execution_count": null,
   "id": "075619e4",
   "metadata": {},
   "outputs": [],
   "source": []
  }
 ],
 "metadata": {
  "kernelspec": {
   "display_name": "Python 3 (ipykernel)",
   "language": "python",
   "name": "python3"
  },
  "language_info": {
   "codemirror_mode": {
    "name": "ipython",
    "version": 3
   },
   "file_extension": ".py",
   "mimetype": "text/x-python",
   "name": "python",
   "nbconvert_exporter": "python",
   "pygments_lexer": "ipython3",
   "version": "3.9.13"
  }
 },
 "nbformat": 4,
 "nbformat_minor": 5
}
