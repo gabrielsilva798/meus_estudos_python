{
 "cells": [
  {
   "cell_type": "code",
   "execution_count": 24,
   "id": "e9f47872",
   "metadata": {},
   "outputs": [],
   "source": [
    "#pesquisar depois pq o vídeo ficou vago"
   ]
  },
  {
   "cell_type": "code",
   "execution_count": 3,
   "id": "39db31e0",
   "metadata": {},
   "outputs": [
    {
     "name": "stdout",
     "output_type": "stream",
     "text": [
      "vou aprender\n",
      "vou aprender\n",
      "vou aprender\n",
      "vou aprender\n",
      "vou aprender\n"
     ]
    }
   ],
   "source": [
    "#cada vez que i for 1 ou 2, ou 3... ele vai imprimir a frase\n",
    "for i in range(5):\n",
    "    print('vou aprender')"
   ]
  },
  {
   "cell_type": "code",
   "execution_count": 2,
   "id": "b84dbabd",
   "metadata": {},
   "outputs": [
    {
     "name": "stdout",
     "output_type": "stream",
     "text": [
      "1\n",
      "2\n",
      "3\n",
      "4\n",
      "5\n",
      "6\n",
      "7\n",
      "8\n",
      "9\n",
      "10\n"
     ]
    }
   ],
   "source": [
    "# imprimir um intevalo\n",
    "for a in range(1,11):\n",
    "    print(a)"
   ]
  },
  {
   "cell_type": "code",
   "execution_count": 2,
   "id": "2d1158e9",
   "metadata": {},
   "outputs": [
    {
     "name": "stdout",
     "output_type": "stream",
     "text": [
      "2\n",
      "5\n",
      "8\n",
      "11\n"
     ]
    }
   ],
   "source": [
    "# range de 2 a 14 inde de 3 em 3.\n",
    "# lembrando que começa no 0 por isso o 15 fica fora.\n",
    "for c in range(2,14,3):\n",
    "    print(c)"
   ]
  },
  {
   "cell_type": "code",
   "execution_count": 11,
   "id": "4160fd5f",
   "metadata": {},
   "outputs": [
    {
     "name": "stdout",
     "output_type": "stream",
     "text": [
      "0\n",
      "2\n",
      "4\n",
      "6\n",
      "8\n"
     ]
    }
   ],
   "source": [
    "for e in range(5):\n",
    "    print(e*2)"
   ]
  },
  {
   "cell_type": "code",
   "execution_count": 14,
   "id": "53638bf7",
   "metadata": {},
   "outputs": [
    {
     "name": "stdout",
     "output_type": "stream",
     "text": [
      "1\n",
      "2\n",
      "3\n",
      "4\n",
      "5\n"
     ]
    }
   ],
   "source": [
    "for b in range(5):\n",
    "    print(b+1)"
   ]
  },
  {
   "cell_type": "code",
   "execution_count": 17,
   "id": "5ce9dc4f",
   "metadata": {},
   "outputs": [
    {
     "name": "stdout",
     "output_type": "stream",
     "text": [
      "5\n"
     ]
    }
   ],
   "source": [
    "# o A vai rodar dentro do loop\n",
    "#a = 0\n",
    "#a = a + 1 = a =1\n",
    "#a = a + 1 = a =2\n",
    "#a = a + 1 = a =3\n",
    "#a = a + 1 = a =4\n",
    "#a = a + 1 = a =5\n",
    "a = 0\n",
    "for i in range(5):\n",
    "    a = a + 1\n",
    "print(a)"
   ]
  },
  {
   "cell_type": "code",
   "execution_count": 18,
   "id": "3ff757c0",
   "metadata": {},
   "outputs": [
    {
     "name": "stdout",
     "output_type": "stream",
     "text": [
      "1\n",
      "2\n",
      "3\n",
      "4\n",
      "5\n"
     ]
    }
   ],
   "source": [
    "#quando tem recuo ele ainda tá no loop e imprimi todo o loop.\n",
    "a = 0\n",
    "for i in range(5):\n",
    "    a = a + 1\n",
    "    print(a)"
   ]
  },
  {
   "cell_type": "code",
   "execution_count": 19,
   "id": "6628dd03",
   "metadata": {},
   "outputs": [
    {
     "name": "stdout",
     "output_type": "stream",
     "text": [
      "frase\n",
      "frase\n",
      "frase\n",
      "frase\n",
      "frase\n",
      "frase\n",
      "frase\n",
      "frase\n",
      "frase\n",
      "frase\n"
     ]
    }
   ],
   "source": [
    "# o número de repetições é 10 pq b é igul a 10 e vai entre aprenteses \n",
    "a = 0\n",
    "b = 10\n",
    "for i in range(b):\n",
    "    print('frase')"
   ]
  },
  {
   "cell_type": "code",
   "execution_count": 20,
   "id": "0f11dcb4",
   "metadata": {},
   "outputs": [
    {
     "name": "stdout",
     "output_type": "stream",
     "text": [
      "m\n",
      "a\n",
      "t\n",
      "e\n",
      "m\n",
      "á\n",
      "t\n",
      "i\n",
      "c\n",
      "a\n"
     ]
    }
   ],
   "source": [
    "palavra = 'matemática'\n",
    "for i in palavra:\n",
    "    print(i)"
   ]
  },
  {
   "cell_type": "code",
   "execution_count": 22,
   "id": "5026d7f2",
   "metadata": {},
   "outputs": [
    {
     "name": "stdout",
     "output_type": "stream",
     "text": [
      "p\n",
      "o\n",
      "r\n",
      "t\n",
      "u\n",
      "g\n",
      "u\n",
      "ê\n",
      "s\n"
     ]
    }
   ],
   "source": [
    "palavra = 'português'\n",
    "for hkhj in palavra:\n",
    "    print(hkhj)"
   ]
  },
  {
   "cell_type": "markdown",
   "id": "3d766b65",
   "metadata": {},
   "source": [
    "### o for pode ser ussado em quase tudo, lista dicionário, tuplas...."
   ]
  },
  {
   "cell_type": "code",
   "execution_count": 23,
   "id": "ba6ccb3f",
   "metadata": {},
   "outputs": [
    {
     "name": "stdout",
     "output_type": "stream",
     "text": [
      "2\n",
      "oi\n",
      "54\n",
      "8\n",
      "10\n",
      "4\n",
      "4\n"
     ]
    }
   ],
   "source": [
    "lista = [2,'oi',54,8,10,4,4]\n",
    "for num in lista:\n",
    "    print(num)"
   ]
  },
  {
   "cell_type": "markdown",
   "id": "6439ed15",
   "metadata": {},
   "source": [
    "### pegando somente valores PARES de uma lista.\n",
    "   - eu coloquei um IF dentro do FOR."
   ]
  },
  {
   "cell_type": "code",
   "execution_count": 5,
   "id": "f89994d5",
   "metadata": {},
   "outputs": [
    {
     "name": "stdout",
     "output_type": "stream",
     "text": [
      "22\n",
      "10\n",
      "16\n",
      "68\n",
      "72\n"
     ]
    }
   ],
   "source": [
    "valores = [11,15,55,22,10,16,7,9,68,71,72]\n",
    "for v in valores:\n",
    "    if v%2 == 0: #se o resto da divisão por 2 for ZERO.\n",
    "        print(v)"
   ]
  },
  {
   "cell_type": "markdown",
   "id": "8fff7812",
   "metadata": {},
   "source": [
    "### fazendo alguma operação básica com for "
   ]
  },
  {
   "cell_type": "code",
   "execution_count": 6,
   "id": "b32fee1c",
   "metadata": {},
   "outputs": [
    {
     "name": "stdout",
     "output_type": "stream",
     "text": [
      "1.3\n",
      "1.7\n",
      "5.7\n",
      "2.4\n",
      "1.2\n",
      "1.8\n"
     ]
    }
   ],
   "source": [
    "valor = [11,15,55,22,10,16]\n",
    "for y in valor:\n",
    "    respo = (y+2)/10\n",
    "    print(respo)"
   ]
  },
  {
   "cell_type": "code",
   "execution_count": null,
   "id": "75a011b1",
   "metadata": {},
   "outputs": [],
   "source": []
  }
 ],
 "metadata": {
  "kernelspec": {
   "display_name": "Python 3 (ipykernel)",
   "language": "python",
   "name": "python3"
  },
  "language_info": {
   "codemirror_mode": {
    "name": "ipython",
    "version": 3
   },
   "file_extension": ".py",
   "mimetype": "text/x-python",
   "name": "python",
   "nbconvert_exporter": "python",
   "pygments_lexer": "ipython3",
   "version": "3.9.13"
  }
 },
 "nbformat": 4,
 "nbformat_minor": 5
}
