{
 "cells": [
  {
   "cell_type": "markdown",
   "id": "bfc6aa46",
   "metadata": {},
   "source": [
    "# ***FUÇÃO ANÔNIMA OU LAMBDA"
   ]
  },
  {
   "cell_type": "code",
   "execution_count": 1,
   "id": "8dc501ab",
   "metadata": {},
   "outputs": [],
   "source": [
    "# def é ussado para criar uma nova função.\n",
    "def somaQuadrados(a, b):\n",
    "    somaQ = a**2 + b**2\n",
    "    #somar 2 quadrados\n",
    "    return somaQ"
   ]
  },
  {
   "cell_type": "code",
   "execution_count": 2,
   "id": "ac018aa8",
   "metadata": {
    "scrolled": true
   },
   "outputs": [
    {
     "data": {
      "text/plain": [
       "13"
      ]
     },
     "execution_count": 2,
     "metadata": {},
     "output_type": "execute_result"
    }
   ],
   "source": [
    "somaQuadrados(2,3)"
   ]
  },
  {
   "cell_type": "code",
   "execution_count": 3,
   "id": "56767b0e",
   "metadata": {},
   "outputs": [],
   "source": [
    "# o LAMBDA faz a função de forma mais simples.\n",
    "# soma de 2 quadrados novamente.\n",
    "somaQuadrados2 = lambda a,b: a**2 + b**2"
   ]
  },
  {
   "cell_type": "code",
   "execution_count": 4,
   "id": "faecc8aa",
   "metadata": {},
   "outputs": [
    {
     "data": {
      "text/plain": [
       "13"
      ]
     },
     "execution_count": 4,
     "metadata": {},
     "output_type": "execute_result"
    }
   ],
   "source": [
    "somaQuadrados2(2,3)"
   ]
  },
  {
   "cell_type": "code",
   "execution_count": null,
   "id": "d79dc9f9",
   "metadata": {},
   "outputs": [],
   "source": []
  }
 ],
 "metadata": {
  "kernelspec": {
   "display_name": "Python 3 (ipykernel)",
   "language": "python",
   "name": "python3"
  },
  "language_info": {
   "codemirror_mode": {
    "name": "ipython",
    "version": 3
   },
   "file_extension": ".py",
   "mimetype": "text/x-python",
   "name": "python",
   "nbconvert_exporter": "python",
   "pygments_lexer": "ipython3",
   "version": "3.9.13"
  }
 },
 "nbformat": 4,
 "nbformat_minor": 5
}
