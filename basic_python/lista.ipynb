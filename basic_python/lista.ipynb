{
 "cells": [
  {
   "cell_type": "markdown",
   "id": "49ffaf2a",
   "metadata": {},
   "source": [
    "# ***LISTA_1"
   ]
  },
  {
   "cell_type": "code",
   "execution_count": 1,
   "id": "9ee87bc4",
   "metadata": {},
   "outputs": [
    {
     "name": "stdout",
     "output_type": "stream",
     "text": [
      "['banana', 'maçã', 'laranja']\n"
     ]
    }
   ],
   "source": [
    "#lisstas ficam entre cochetes\n",
    "lista_compras = ['banana','maçã','laranja']\n",
    "print(lista_compras)"
   ]
  },
  {
   "cell_type": "code",
   "execution_count": 2,
   "id": "3e4f917e",
   "metadata": {
    "scrolled": false
   },
   "outputs": [
    {
     "name": "stdout",
     "output_type": "stream",
     "text": [
      "laranja\n"
     ]
    }
   ],
   "source": [
    "#para achar um íten dentro da lista ussa-se o número da posição dele.\n",
    "#lembrando de novo que o python conta a partir do 0.\n",
    "print(lista_compras[2])"
   ]
  },
  {
   "cell_type": "code",
   "execution_count": 3,
   "id": "49d2dbee",
   "metadata": {},
   "outputs": [
    {
     "name": "stdout",
     "output_type": "stream",
     "text": [
      "laranja\n"
     ]
    }
   ],
   "source": [
    "#se colocar número negativo eke conta invertido, e sem consideraro zero\n",
    "print(lista_compras[-1])"
   ]
  },
  {
   "cell_type": "code",
   "execution_count": 4,
   "id": "61262bf0",
   "metadata": {},
   "outputs": [
    {
     "name": "stdout",
     "output_type": "stream",
     "text": [
      "['banana', 'maçã', 'laranja', 'beterraba']\n"
     ]
    }
   ],
   "source": [
    "#para adcionar ítens a lista ussa-se a função .append()\n",
    "#ele colocar o ítem sempre no FIM da lista.\n",
    "lista_compras.append('beterraba')\n",
    "print(lista_compras)"
   ]
  },
  {
   "cell_type": "code",
   "execution_count": 5,
   "id": "546e733d",
   "metadata": {},
   "outputs": [
    {
     "name": "stdout",
     "output_type": "stream",
     "text": [
      "['banana', 'chocolate', 'maçã', 'laranja', 'beterraba']\n"
     ]
    }
   ],
   "source": [
    "#para adcionar ítens a lista ussa-se também a função .insert()\n",
    "#porém ela adciona onde você QUISER, só dando o local ande vc vai inserir.\n",
    "#o local vem antes do novo ítem a ser adcionado.\n",
    "lista_compras.insert(1,'chocolate')\n",
    "print(lista_compras)"
   ]
  },
  {
   "cell_type": "code",
   "execution_count": 7,
   "id": "edbf15b1",
   "metadata": {},
   "outputs": [
    {
     "name": "stdout",
     "output_type": "stream",
     "text": [
      "['banana', 'laranja', 'beterraba']\n"
     ]
    }
   ],
   "source": [
    "#para excluir ítens da lista ussa-se p del\n",
    "#del + lista + posição entre cochetes\n",
    "del lista_compras[1]\n",
    "print(lista_compras)"
   ]
  },
  {
   "cell_type": "code",
   "execution_count": null,
   "id": "dfef054c",
   "metadata": {},
   "outputs": [],
   "source": [
    "#continua daqui https://youtu.be/wgGu8ph3m6A?t=698"
   ]
  }
 ],
 "metadata": {
  "kernelspec": {
   "display_name": "Python 3 (ipykernel)",
   "language": "python",
   "name": "python3"
  },
  "language_info": {
   "codemirror_mode": {
    "name": "ipython",
    "version": 3
   },
   "file_extension": ".py",
   "mimetype": "text/x-python",
   "name": "python",
   "nbconvert_exporter": "python",
   "pygments_lexer": "ipython3",
   "version": "3.9.13"
  }
 },
 "nbformat": 4,
 "nbformat_minor": 5
}
