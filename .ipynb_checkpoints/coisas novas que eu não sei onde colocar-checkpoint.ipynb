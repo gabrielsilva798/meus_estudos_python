{
 "cells": [
  {
   "cell_type": "code",
   "execution_count": 3,
   "id": "250cd1ed",
   "metadata": {
    "scrolled": true
   },
   "outputs": [
    {
     "name": "stdout",
     "output_type": "stream",
     "text": [
      "qual é seu nome?gabriel\n",
      "Hello gabriel welcome e thanks for resgiter.\n"
     ]
    }
   ],
   "source": [
    "#como imprimir uma mensagem para alguém que fala o nome dele/a\n",
    "nome = input('qual é seu nome?')\n",
    "print('Hello ' + nome + ' welcome e thanks for resgiter.')"
   ]
  },
  {
   "cell_type": "code",
   "execution_count": null,
   "id": "50dcfe81",
   "metadata": {},
   "outputs": [],
   "source": [
    "#inserindo if dentro de if."
   ]
  },
  {
   "cell_type": "code",
   "execution_count": 1,
   "id": "4f400525",
   "metadata": {},
   "outputs": [
    {
     "name": "stdout",
     "output_type": "stream",
     "text": [
      "Digite o número: 45\n",
      "[0,50]\n"
     ]
    }
   ],
   "source": [
    "#conjunto explicado no vídeo de conjunto\n",
    "# ler inteiro do teclado.\n",
    "valor = int(input('Digite o número: '))\n",
    "\n",
    "#verificar se está no intervalo [0,50]\n",
    "#if valor >= o and valor <=50:\n",
    "if 0 <= valor <= 50:\n",
    "    print('[0,50]')\n",
    "else:\n",
    "    #verificar intervalo[51,100]\n",
    "    if 51 <= valor <= 100:\n",
    "        print('[51,100]')\n",
    "    else:\n",
    "        print('fora do intervalo') "
   ]
  },
  {
   "cell_type": "code",
   "execution_count": 2,
   "id": "4e4f68a8",
   "metadata": {},
   "outputs": [
    {
     "name": "stdout",
     "output_type": "stream",
     "text": [
      "Digite o número: 56\n",
      "[51,100]\n"
     ]
    }
   ],
   "source": [
    "#nesse caso eu usei AND no primeiro if, diferente do exemplo acima.\n",
    "#essa é uma maneira de ser fazer isso também.\n",
    "valor = int(input('Digite o número: '))\n",
    "if valor >= 0 and valor <= 50:\n",
    "    print('[0,50]')\n",
    "else:\n",
    "    #verificar intervalo[51,100]\n",
    "    if 51 <= valor <= 100:\n",
    "        print('[51,100]')\n",
    "    else:\n",
    "        print('fora do intervalo') "
   ]
  },
  {
   "cell_type": "code",
   "execution_count": null,
   "id": "e085f09b",
   "metadata": {},
   "outputs": [],
   "source": []
  }
 ],
 "metadata": {
  "kernelspec": {
   "display_name": "Python 3 (ipykernel)",
   "language": "python",
   "name": "python3"
  },
  "language_info": {
   "codemirror_mode": {
    "name": "ipython",
    "version": 3
   },
   "file_extension": ".py",
   "mimetype": "text/x-python",
   "name": "python",
   "nbconvert_exporter": "python",
   "pygments_lexer": "ipython3",
   "version": "3.9.12"
  }
 },
 "nbformat": 4,
 "nbformat_minor": 5
}
