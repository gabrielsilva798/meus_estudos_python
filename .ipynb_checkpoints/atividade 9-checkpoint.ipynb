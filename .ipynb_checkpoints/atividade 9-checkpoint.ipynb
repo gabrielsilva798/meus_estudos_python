{
 "cells": [
  {
   "cell_type": "code",
   "execution_count": 1,
   "id": "a9afeb4c",
   "metadata": {},
   "outputs": [
    {
     "name": "stdout",
     "output_type": "stream",
     "text": [
      "ainda não deu\n",
      "ainda não deu\n",
      "ainda não deu\n",
      "ainda não deu\n",
      "ainda não deu\n",
      "ainda não deu\n",
      "ainda não deu\n",
      "ainda não deu\n",
      "ainda não deu\n",
      "ainda não deu\n",
      "agora deu\n"
     ]
    }
   ],
   "source": [
    "#while é uma ferramenta de repetição, ele execulta a função até ela atender a a condição\n",
    "#o outro comando vai ser axecultado quano while acabar, isso é: achar a condição que eu dei\n",
    "#quando ele terminar o primeiro comando ele vai imprimir o segundo\n",
    "contador = 0\n",
    "while contador <10:\n",
    "    print('ainda não deu')\n",
    "    contador = contador + 1\n",
    "print('agora deu')"
   ]
  },
  {
   "cell_type": "code",
   "execution_count": 12,
   "id": "b22bf064",
   "metadata": {},
   "outputs": [
    {
     "name": "stdout",
     "output_type": "stream",
     "text": [
      "20\n",
      "19\n",
      "18\n",
      "17\n",
      "16\n",
      "15\n",
      "14\n",
      "13\n",
      "12\n",
      "11\n",
      "10\n",
      "certo\n",
      "9\n"
     ]
    }
   ],
   "source": [
    "#cuidado para nao gerar um loop infinito no while.\n",
    "g = 20\n",
    "while g >=10:\n",
    "    print(g)\n",
    "    g = g - 1\n",
    "print('certo')\n",
    "print(g)"
   ]
  },
  {
   "cell_type": "code",
   "execution_count": 2,
   "id": "0eefd226",
   "metadata": {},
   "outputs": [
    {
     "name": "stdout",
     "output_type": "stream",
     "text": [
      "ainda não deu\n",
      "ainda não deu\n",
      "ainda não deu\n",
      "ainda não deu\n",
      "ainda não deu\n",
      "ainda não deu\n",
      "ainda não deu\n",
      "ainda não deu\n",
      "ainda não deu\n",
      "ainda não deu\n",
      "agora deu\n"
     ]
    }
   ],
   "source": [
    "#a exolicação do comando import vai tá na próxima aula\n",
    "#sleep é um comando para execulta o comando em determinada velocidade, calculada em segundo\n",
    "#investigar depois o comando TIME.\n",
    "import time\n",
    "contador = 0\n",
    "while contador <10:\n",
    "    print('ainda não deu')\n",
    "    contador = contador + 1\n",
    "    time.sleep(1)\n",
    "print('agora deu')"
   ]
  },
  {
   "cell_type": "code",
   "execution_count": null,
   "id": "0010c101",
   "metadata": {},
   "outputs": [],
   "source": []
  }
 ],
 "metadata": {
  "kernelspec": {
   "display_name": "Python 3 (ipykernel)",
   "language": "python",
   "name": "python3"
  },
  "language_info": {
   "codemirror_mode": {
    "name": "ipython",
    "version": 3
   },
   "file_extension": ".py",
   "mimetype": "text/x-python",
   "name": "python",
   "nbconvert_exporter": "python",
   "pygments_lexer": "ipython3",
   "version": "3.9.12"
  }
 },
 "nbformat": 4,
 "nbformat_minor": 5
}
