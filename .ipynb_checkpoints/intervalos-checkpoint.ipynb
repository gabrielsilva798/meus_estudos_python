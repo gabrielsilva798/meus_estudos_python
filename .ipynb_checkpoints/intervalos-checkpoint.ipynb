{
 "cells": [
  {
   "cell_type": "code",
   "execution_count": 1,
   "id": "5a9daf0d",
   "metadata": {},
   "outputs": [],
   "source": [
    "#conhetes indicam intervalo [].\n",
    "#cochetes assim [9,10] incluem todos.\n",
    "#cochetes assim [9,10[ excluem o 10.\n",
    "#cochetes assim ]9,10] excluem o 9.\n",
    "#cochetes assim ]9,10[ excluem os dois números."
   ]
  },
  {
   "cell_type": "code",
   "execution_count": null,
   "id": "ba720fc9",
   "metadata": {},
   "outputs": [],
   "source": []
  }
 ],
 "metadata": {
  "kernelspec": {
   "display_name": "Python 3 (ipykernel)",
   "language": "python",
   "name": "python3"
  },
  "language_info": {
   "codemirror_mode": {
    "name": "ipython",
    "version": 3
   },
   "file_extension": ".py",
   "mimetype": "text/x-python",
   "name": "python",
   "nbconvert_exporter": "python",
   "pygments_lexer": "ipython3",
   "version": "3.9.12"
  }
 },
 "nbformat": 4,
 "nbformat_minor": 5
}
