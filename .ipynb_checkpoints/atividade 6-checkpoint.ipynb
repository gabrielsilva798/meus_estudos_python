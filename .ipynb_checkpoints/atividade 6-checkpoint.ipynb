{
 "cells": [
  {
   "cell_type": "code",
   "execution_count": 1,
   "id": "64619f02",
   "metadata": {},
   "outputs": [],
   "source": [
    "fruta = 'laranja'"
   ]
  },
  {
   "cell_type": "code",
   "execution_count": 5,
   "id": "ca3b5b78",
   "metadata": {},
   "outputs": [
    {
     "name": "stdout",
     "output_type": "stream",
     "text": [
      "suco de laranja é meu favorito!\n"
     ]
    }
   ],
   "source": [
    "#pesquisar sobre TODOS os usos do código %.\n",
    "print('suco de %s é meu favorito!'%fruta)"
   ]
  },
  {
   "cell_type": "code",
   "execution_count": 1,
   "id": "3fd32d51",
   "metadata": {},
   "outputs": [
    {
     "name": "stdout",
     "output_type": "stream",
     "text": [
      "está chegando o mês de setembro, que terá minhas férias.\n"
     ]
    }
   ],
   "source": [
    "#outra maneira para inserir uma variável STR.\n",
    "mês = 'setembro'\n",
    "print(f'está chegando o mês de {mês}, que terá minhas férias.')"
   ]
  },
  {
   "cell_type": "code",
   "execution_count": 4,
   "id": "66d8d1a7",
   "metadata": {},
   "outputs": [],
   "source": [
    "valor = 7"
   ]
  },
  {
   "cell_type": "code",
   "execution_count": 6,
   "id": "aeec409d",
   "metadata": {},
   "outputs": [
    {
     "name": "stdout",
     "output_type": "stream",
     "text": [
      "o número do cristiano é o 7.\n"
     ]
    }
   ],
   "source": [
    "#o %d de décimal é usado com inteiro.\n",
    "print('o número do cristiano é o %d.'%valor)"
   ]
  },
  {
   "cell_type": "code",
   "execution_count": 14,
   "id": "bed48b88",
   "metadata": {},
   "outputs": [],
   "source": [
    "nota = 6.5"
   ]
  },
  {
   "cell_type": "code",
   "execution_count": 15,
   "id": "e7a8207e",
   "metadata": {},
   "outputs": [
    {
     "name": "stdout",
     "output_type": "stream",
     "text": [
      "eu tirei 6.500000 na prova de português\n"
     ]
    }
   ],
   "source": [
    "#o F é usado para FLOAT.\n",
    "print('eu tirei %f na prova de português'%nota)"
   ]
  },
  {
   "cell_type": "code",
   "execution_count": 19,
   "id": "e9f3e647",
   "metadata": {},
   "outputs": [
    {
     "name": "stdout",
     "output_type": "stream",
     "text": [
      "eu gosto de 6.5 agora\n"
     ]
    }
   ],
   "source": [
    "#esse método de usar o .format funciona para STR,INTE e FLOAT.\n",
    "print('eu gosto de {} agora'.format(nota))"
   ]
  },
  {
   "cell_type": "code",
   "execution_count": 1,
   "id": "6136637e",
   "metadata": {},
   "outputs": [],
   "source": [
    "cor1 = 'rosa'\n",
    "cor2 = 'azul'"
   ]
  },
  {
   "cell_type": "code",
   "execution_count": 6,
   "id": "f4535122",
   "metadata": {},
   "outputs": [
    {
     "name": "stdout",
     "output_type": "stream",
     "text": [
      "o ceul é rosa a flor é azul e meu carro é rosa.\n"
     ]
    }
   ],
   "source": [
    "#quando vc quiser colocar mais de uma variável tem que colocar o número de acordo com a sequência dele.\n",
    "#lembrando que o python começa a onta a partir do 0. \n",
    "print('o ceul é {0} a flor é {1} e meu carro é {0}.'.format(cor1,cor2))"
   ]
  },
  {
   "cell_type": "code",
   "execution_count": 5,
   "id": "78ffb5ac",
   "metadata": {},
   "outputs": [
    {
     "name": "stdout",
     "output_type": "stream",
     "text": [
      "5.666666666666667\n"
     ]
    }
   ],
   "source": [
    "conta = 17/3\n",
    "print(conta)"
   ]
  },
  {
   "cell_type": "code",
   "execution_count": 7,
   "id": "13d42586",
   "metadata": {},
   "outputs": [
    {
     "name": "stdout",
     "output_type": "stream",
     "text": [
      "o resultado da conta é: 5.67\n"
     ]
    }
   ],
   "source": [
    "#:.2f são DUAS casas depois da vírgula. 3f são três.\n",
    "print('o resultado da conta é: {:.2f}'.format(conta))"
   ]
  },
  {
   "cell_type": "code",
   "execution_count": null,
   "id": "25d7319b",
   "metadata": {},
   "outputs": [],
   "source": []
  }
 ],
 "metadata": {
  "kernelspec": {
   "display_name": "Python 3 (ipykernel)",
   "language": "python",
   "name": "python3"
  },
  "language_info": {
   "codemirror_mode": {
    "name": "ipython",
    "version": 3
   },
   "file_extension": ".py",
   "mimetype": "text/x-python",
   "name": "python",
   "nbconvert_exporter": "python",
   "pygments_lexer": "ipython3",
   "version": "3.9.12"
  }
 },
 "nbformat": 4,
 "nbformat_minor": 5
}
