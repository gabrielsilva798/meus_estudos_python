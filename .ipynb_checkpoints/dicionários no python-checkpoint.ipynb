{
 "cells": [
  {
   "cell_type": "code",
   "execution_count": 1,
   "id": "b9da17df",
   "metadata": {},
   "outputs": [],
   "source": [
    "#dicionários em python são listas de valores, mas que tem um rôtulo.\n",
    "emails_gerentes = {\n",
    "    \"Iguatemi\":\"iguatemi@gmail.com\",\n",
    "    \"Plaza\": \"plaza@gmail.com\",\n",
    "    \"Barra\": \"barra@gmail.com\"\n",
    "}"
   ]
  },
  {
   "cell_type": "code",
   "execution_count": 2,
   "id": "1b1e31a9",
   "metadata": {},
   "outputs": [],
   "source": [
    "#eu coloco o nome da lista, = e depois abri chaves e coloco os rôtulos com seus valores,\n",
    "#ai eu fecho chaves.\n",
    "#voce pode amazenar numeros, letras, etc. como valores dos rotulos.\n",
    "preço_produtos = {'ipad': 1000, 'iphone': 2000, 'notebook': 5000}"
   ]
  },
  {
   "cell_type": "code",
   "execution_count": 3,
   "id": "7746aa83",
   "metadata": {},
   "outputs": [
    {
     "name": "stdout",
     "output_type": "stream",
     "text": [
      "iguatemi@gmail.com\n"
     ]
    }
   ],
   "source": [
    "#para achar valores dentro do dicionário eu coloco dessa forma, atribuindo o dicionáiro como valor de uma variável\n",
    "#e imprimindo ela\n",
    "email = emails_gerentes['Iguatemi']\n",
    "print(email)"
   ]
  },
  {
   "cell_type": "code",
   "execution_count": 4,
   "id": "d491ebd9",
   "metadata": {},
   "outputs": [],
   "source": [
    "#para adcionar um novo item no dicionário deve ser feito assim.\n",
    "emails_gerentes['JKshopping'] = 'jkshopping@gmail.com'"
   ]
  },
  {
   "cell_type": "code",
   "execution_count": 5,
   "id": "4c8ffa2e",
   "metadata": {},
   "outputs": [
    {
     "name": "stdout",
     "output_type": "stream",
     "text": [
      "{'Iguatemi': 'iguatemi@gmail.com', 'Plaza': 'plaza@gmail.com', 'Barra': 'barra@gmail.com', 'JKshopping': 'jkshopping@gmail.com'}\n"
     ]
    }
   ],
   "source": [
    "print(emails_gerentes)"
   ]
  },
  {
   "cell_type": "code",
   "execution_count": 6,
   "id": "2904e999",
   "metadata": {},
   "outputs": [
    {
     "name": "stdout",
     "output_type": "stream",
     "text": [
      "{'Iguatemi': 'iguatemi@gmail.com', 'Plaza': 'plaza@gmail.com', 'Barra': 'barramerda@gmail.com', 'JKshopping': 'jkshopping@gmail.com'}\n"
     ]
    }
   ],
   "source": [
    "#se já existir o ítem ele vai substituir.\n",
    "emails_gerentes['Barra'] = 'barramerda@gmail.com'\n",
    "print(emails_gerentes)"
   ]
  },
  {
   "cell_type": "code",
   "execution_count": 7,
   "id": "da5b99ea",
   "metadata": {},
   "outputs": [
    {
     "name": "stdout",
     "output_type": "stream",
     "text": [
      "Iguatemi\n",
      "Plaza\n",
      "Barra\n",
      "JKshopping\n"
     ]
    }
   ],
   "source": [
    "#para descobrir todas as chaves que temos no dicionário ussamos FOR - PALAVRA QUALQUER - IN - DICIONÁRIO E DOIS PONTOS\n",
    "#embaixo colocamos print com o nome do termo que colocamos na parte da palavra\n",
    "#o nome é vc que  decide, ai eu coloquei CACHORO, para mostra quetanto faz\n",
    "#cachoro é uma variável que é a chave do dicionário, eu devia colocar shopping, mas quis mostrar que vale qualquer coisa\n",
    "for cachoro in emails_gerentes:\n",
    "    print(cachoro)"
   ]
  },
  {
   "cell_type": "code",
   "execution_count": 11,
   "id": "4fa3f016",
   "metadata": {},
   "outputs": [
    {
     "name": "stdout",
     "output_type": "stream",
     "text": [
      "dict_keys(['Iguatemi', 'Plaza', 'Barra', 'JKshopping'])\n"
     ]
    }
   ],
   "source": [
    "#eu posso usar a função .KEYS() para descobrir todas a chaves do dicionário\n",
    "print(emails_gerentes.keys())"
   ]
  },
  {
   "cell_type": "code",
   "execution_count": 13,
   "id": "b9980f32",
   "metadata": {},
   "outputs": [
    {
     "name": "stdout",
     "output_type": "stream",
     "text": [
      "Iguatemi\n",
      "Plaza\n",
      "Barra\n",
      "JKshopping\n"
     ]
    }
   ],
   "source": [
    "#outra maneira de achar as chaves é usando FOR variável IN dicionário\n",
    "#o nome shopping pe uma variável que eu posso mudar, igual o cachoro na de cima\n",
    "for shopping in emails_gerentes:\n",
    "    print(shopping)"
   ]
  },
  {
   "cell_type": "code",
   "execution_count": 14,
   "id": "9dc6442a",
   "metadata": {},
   "outputs": [],
   "source": [
    "# continua daqui https://www.youtube.com/watch?v=YwENuegbpEM&ab_channel=HashtagPrograma%C3%A7%C3%A3o\n",
    "#nesse minuto 08:54"
   ]
  },
  {
   "cell_type": "code",
   "execution_count": null,
   "id": "81cfee5f",
   "metadata": {},
   "outputs": [],
   "source": []
  }
 ],
 "metadata": {
  "kernelspec": {
   "display_name": "Python 3 (ipykernel)",
   "language": "python",
   "name": "python3"
  },
  "language_info": {
   "codemirror_mode": {
    "name": "ipython",
    "version": 3
   },
   "file_extension": ".py",
   "mimetype": "text/x-python",
   "name": "python",
   "nbconvert_exporter": "python",
   "pygments_lexer": "ipython3",
   "version": "3.9.12"
  }
 },
 "nbformat": 4,
 "nbformat_minor": 5
}
