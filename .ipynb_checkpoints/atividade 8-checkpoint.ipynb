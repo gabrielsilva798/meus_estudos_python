{
 "cells": [
  {
   "cell_type": "code",
   "execution_count": 24,
   "id": "e9f47872",
   "metadata": {},
   "outputs": [],
   "source": [
    "#pesquisar depois pq o vídeo ficou vago"
   ]
  },
  {
   "cell_type": "code",
   "execution_count": 3,
   "id": "39db31e0",
   "metadata": {},
   "outputs": [
    {
     "name": "stdout",
     "output_type": "stream",
     "text": [
      "vou aprender\n",
      "vou aprender\n",
      "vou aprender\n",
      "vou aprender\n",
      "vou aprender\n"
     ]
    }
   ],
   "source": [
    "#cada vez que i for 1 ou 2, ou 3... ele vai imprimir a frase\n",
    "for i in range(5):\n",
    "    print('vou aprender')"
   ]
  },
  {
   "cell_type": "code",
   "execution_count": 11,
   "id": "4160fd5f",
   "metadata": {},
   "outputs": [
    {
     "name": "stdout",
     "output_type": "stream",
     "text": [
      "0\n",
      "2\n",
      "4\n",
      "6\n",
      "8\n"
     ]
    }
   ],
   "source": [
    "for i in range(5):\n",
    "    print(i*2)"
   ]
  },
  {
   "cell_type": "code",
   "execution_count": 14,
   "id": "53638bf7",
   "metadata": {},
   "outputs": [
    {
     "name": "stdout",
     "output_type": "stream",
     "text": [
      "1\n",
      "2\n",
      "3\n",
      "4\n",
      "5\n"
     ]
    }
   ],
   "source": [
    "for i in range(5):\n",
    "    print(i+1)"
   ]
  },
  {
   "cell_type": "code",
   "execution_count": 17,
   "id": "5ce9dc4f",
   "metadata": {},
   "outputs": [
    {
     "name": "stdout",
     "output_type": "stream",
     "text": [
      "5\n"
     ]
    }
   ],
   "source": [
    "# o A vai rodar dentro do loop\n",
    "#a = 0\n",
    "#a = a + 1 = a =1\n",
    "#a = a + 1 = a =2\n",
    "#a = a + 1 = a =3\n",
    "#a = a + 1 = a =4\n",
    "#a = a + 1 = a =5\n",
    "a = 0\n",
    "for i in range(5):\n",
    "    a = a + 1\n",
    "print(a)"
   ]
  },
  {
   "cell_type": "code",
   "execution_count": 18,
   "id": "3ff757c0",
   "metadata": {},
   "outputs": [
    {
     "name": "stdout",
     "output_type": "stream",
     "text": [
      "1\n",
      "2\n",
      "3\n",
      "4\n",
      "5\n"
     ]
    }
   ],
   "source": [
    "#quando tem recuo ele ainda tá no loop e imprimi todo o loop.\n",
    "a = 0\n",
    "for i in range(5):\n",
    "    a = a + 1\n",
    "    print(a)"
   ]
  },
  {
   "cell_type": "code",
   "execution_count": 19,
   "id": "6628dd03",
   "metadata": {},
   "outputs": [
    {
     "name": "stdout",
     "output_type": "stream",
     "text": [
      "frase\n",
      "frase\n",
      "frase\n",
      "frase\n",
      "frase\n",
      "frase\n",
      "frase\n",
      "frase\n",
      "frase\n",
      "frase\n"
     ]
    }
   ],
   "source": [
    "# o número de repetições é 10 pq b é igul a 10 e vai entre aprenteses \n",
    "a = 0\n",
    "b = 10\n",
    "for i in range(b):\n",
    "    print('frase')"
   ]
  },
  {
   "cell_type": "code",
   "execution_count": 20,
   "id": "0f11dcb4",
   "metadata": {},
   "outputs": [
    {
     "name": "stdout",
     "output_type": "stream",
     "text": [
      "m\n",
      "a\n",
      "t\n",
      "e\n",
      "m\n",
      "á\n",
      "t\n",
      "i\n",
      "c\n",
      "a\n"
     ]
    }
   ],
   "source": [
    "palavra = 'matemática'\n",
    "for i in palavra:\n",
    "    print(i)"
   ]
  },
  {
   "cell_type": "code",
   "execution_count": 22,
   "id": "5026d7f2",
   "metadata": {},
   "outputs": [
    {
     "name": "stdout",
     "output_type": "stream",
     "text": [
      "p\n",
      "o\n",
      "r\n",
      "t\n",
      "u\n",
      "g\n",
      "u\n",
      "ê\n",
      "s\n"
     ]
    }
   ],
   "source": [
    "palavra = 'português'\n",
    "for hkhj in palavra:\n",
    "    print(hkhj)"
   ]
  },
  {
   "cell_type": "code",
   "execution_count": 23,
   "id": "ba6ccb3f",
   "metadata": {},
   "outputs": [
    {
     "name": "stdout",
     "output_type": "stream",
     "text": [
      "2\n",
      "oi\n",
      "54\n",
      "8\n",
      "10\n",
      "4\n",
      "4\n"
     ]
    }
   ],
   "source": [
    "lista = [2,'oi',54,8,10,4,4]\n",
    "for num in lista:\n",
    "    print(num)"
   ]
  },
  {
   "cell_type": "code",
   "execution_count": null,
   "id": "f89994d5",
   "metadata": {},
   "outputs": [],
   "source": []
  }
 ],
 "metadata": {
  "kernelspec": {
   "display_name": "Python 3 (ipykernel)",
   "language": "python",
   "name": "python3"
  },
  "language_info": {
   "codemirror_mode": {
    "name": "ipython",
    "version": 3
   },
   "file_extension": ".py",
   "mimetype": "text/x-python",
   "name": "python",
   "nbconvert_exporter": "python",
   "pygments_lexer": "ipython3",
   "version": "3.9.12"
  }
 },
 "nbformat": 4,
 "nbformat_minor": 5
}
